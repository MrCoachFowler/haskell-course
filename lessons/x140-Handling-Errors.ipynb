{
 "cells": [
  {
   "cell_type": "markdown",
   "metadata": {},
   "source": [
    "# Handling🧑‍🚒🧯💨 🔥errors🔥 in Haskell"
   ]
  },
  {
   "cell_type": "markdown",
   "metadata": {},
   "source": [
    "Haskell is a compiled language, so we can subdivide all possible errors into:"
   ]
  },
  {
   "cell_type": "markdown",
   "metadata": {},
   "source": [
    "- ✅ Compiletime errors"
   ]
  },
  {
   "cell_type": "markdown",
   "metadata": {},
   "source": [
    "Compiletime errors are awesome! We LOVE compiletime errors. Becasue that means that our program had something wrong in it, and our compiler found it and reported it to us **BEFORE** it reached the end user. At the end of the day, the most important thing is that our users enjoy our software and don't encounter:"
   ]
  },
  {
   "cell_type": "markdown",
   "metadata": {},
   "source": [
    "- ❌ Runtime errors"
   ]
  },
  {
   "cell_type": "markdown",
   "metadata": {},
   "source": [
    "Runtime errors are the worst! Because these error happen while running the program, they can, and usually do, happen to end users. Users that then get angry and stop paying or give us a 1-star review or something like that."
   ]
  },
  {
   "cell_type": "markdown",
   "metadata": {},
   "source": [
    "Compared most other programming languages, Haskell is exceptionally good at avoiding runtime errors. Thanks in big part to its strong type system that is able to catch those errors at compiletime. Esentially, moving errors from being  runtime to being compiletime errors.\n",
    "\n",
    "Although, this doesn't mean that we can forget about runtime errors. As we said in previous lessons, even if we where able to write perfect code (which, we cannot), we're still running it in the real world. Where computers run out of memory, files that should exist don't, internet connections fail, users do unimaginable things, etc."
   ]
  },
  {
   "cell_type": "markdown",
   "metadata": {},
   "source": [
    "So, today, we're going to learn:"
   ]
  },
  {
   "cell_type": "markdown",
   "metadata": {},
   "source": [
    "# Outline"
   ]
  },
  {
   "cell_type": "markdown",
   "metadata": {},
   "source": [
    "- Exceptions\n",
    "- a"
   ]
  },
  {
   "cell_type": "markdown",
   "metadata": {},
   "source": [
    "## Where's `NULL`?"
   ]
  },
  {
   "cell_type": "markdown",
   "metadata": {},
   "source": [
    "There are lots of reasons as to why a program would fail..."
   ]
  },
  {
   "cell_type": "markdown",
   "metadata": {},
   "source": [
    "If you ever coded in virtally any imperative language such as JavaScript, python, Java, Dart, etc., you're familiar with null values. Without getting into how pointers and references work, we can say that:"
   ]
  },
  {
   "cell_type": "markdown",
   "metadata": {},
   "source": [
    "NULL is frequently used to represent a **missing or invalid** value"
   ]
  },
  {
   "cell_type": "markdown",
   "metadata": {},
   "source": [
    "In "
   ]
  },
  {
   "cell_type": "code",
   "execution_count": null,
   "metadata": {},
   "outputs": [],
   "source": []
  },
  {
   "cell_type": "markdown",
   "metadata": {},
   "source": [
    "Using optional values provides many advantages, but before talking about that, let's see how they look and how do we use them in practice. Becausae they're pretty easy to use!"
   ]
  },
  {
   "cell_type": "markdown",
   "metadata": {},
   "source": [
    "## `Maybe` give me a value? 🙏"
   ]
  },
  {
   "cell_type": "markdown",
   "metadata": {},
   "source": [
    "In Haskell, optional values are represented by the `Maybe` type:"
   ]
  },
  {
   "cell_type": "markdown",
   "metadata": {},
   "source": [
    "```haskell\n",
    "data Maybe a = Nothing | Just a\n",
    "```"
   ]
  },
  {
   "cell_type": "markdown",
   "metadata": {},
   "source": [
    "As you can see, it's a simple type. It has one nullary constructor (remember that nullary constructors have nothing to do with null values, they are called like that because they don't have parameters) and one constructor with a polymorphic value.\n",
    "\n",
    "This will be the first instance that we're going to discuss the meaning of behind the code and how that changes how we think about it. \n",
    "\n",
    "Take a look at this other data type:"
   ]
  },
  {
   "cell_type": "markdown",
   "metadata": {},
   "source": [
    "```haskell\n",
    "data Box a = Empty | Has a\n",
    "```"
   ]
  },
  {
   "cell_type": "markdown",
   "metadata": {},
   "source": [
    "We've been working with the `Box a` data type for quite a few lessons so far. It represents a box that can either be empty or has some value.\n",
    "\n",
    "Both the `Maybe a` and the `Box a` types are technically the same data type but with different names. What changes is how we think about them. The `Box` type represents a box that contains values and the `Maybe` type represents a value that might not be there.\n",
    "\n",
    "It sounds silly, but this little change in how we, as programmers, think about the code, makes a lot of difference in the way we write code and the solutions and algorithms we come up when solving problems. I'm not asking you to have an epiphany or something like that. It's just that when you see something like this:"
   ]
  },
  {
   "cell_type": "markdown",
   "metadata": {},
   "source": [
    "```haskell\n",
    "someFunction :: Int -> String -> Maybe String\n",
    "```"
   ]
  },
  {
   "cell_type": "markdown",
   "metadata": {},
   "source": [
    "Yo read it as:"
   ]
  },
  {
   "cell_type": "markdown",
   "metadata": {},
   "source": [
    "`someFunction` takes an `Int` and a `String` and `Maybe` returns a `String`."
   ]
  },
  {
   "cell_type": "markdown",
   "metadata": {},
   "source": [
    "And that's pretty much how read the type. Now, let's see it in practice. One common example is to show how we can safely divide by zero.\n",
    "\n",
    "In your regular day-to-day math, dividing by zero doesn't make any mathematical sense. When programming, it's the same, so, if we divide by zero using the `div` function like this:"
   ]
  },
  {
   "cell_type": "markdown",
   "metadata": {},
   "source": [
    "```haskell\n",
    "55 `div` 0\n",
    "\n",
    "*** Exception: divide by zero\n",
    "```"
   ]
  },
  {
   "cell_type": "markdown",
   "metadata": {},
   "source": [
    "Our program crashes instantly, like /insert joke/"
   ]
  },
  {
   "cell_type": "markdown",
   "metadata": {},
   "source": [
    "One of the first things one could think to resolve the issue, is to create a function that handles this specific case in a different way, sort of like this:"
   ]
  },
  {
   "cell_type": "markdown",
   "metadata": {},
   "source": [
    "```haskell\n",
    "safeDiv :: Integral a => a -> a -> a\n",
    "safeDiv x 0 = ????? -- 0? -1? 9999999999999? \n",
    "safeDiv x y = x `div` y\n",
    "```"
   ]
  },
  {
   "cell_type": "markdown",
   "metadata": {},
   "source": [
    "The `saveDivide` funciton takes two values of type `Int` and returns a value of the same type. In the first case, we patternmatch to handle the case when the second `Int` is zero, and the second case, we provide the function's body for any other situation. The second case is easy... we know that `y` is not zero, so we can use `div` with full confidence. But how should we handle the first case?\n",
    "\n",
    "There's no value of type `Int` that we could use to return that correctly represents this situation.\n",
    "\n",
    "Here's when the `Maybe` type shines! In the case when no value of the type we want makes sense, we can change our function to have the option of not returning a value of that type at all!!:"
   ]
  },
  {
   "cell_type": "code",
   "execution_count": 1,
   "metadata": {
    "scrolled": true
   },
   "outputs": [
    {
     "data": {
      "text/plain": [
       "Just 5"
      ]
     },
     "metadata": {},
     "output_type": "display_data"
    },
    {
     "data": {
      "text/plain": [
       "Nothing"
      ]
     },
     "metadata": {},
     "output_type": "display_data"
    }
   ],
   "source": [
    "safeDiv :: Integral a => a -> a -> Maybe a\n",
    "safeDiv _ 0 = Nothing\n",
    "safeDiv x y = Just (x `div` y)\n",
    "\n",
    "\n",
    "15 `safeDiv` 3\n",
    "15 `safeDiv` 0"
   ]
  },
  {
   "cell_type": "markdown",
   "metadata": {},
   "source": [
    "And how's this better than the program crashing? Because now we gained the hability to handle the case when we divide by zero in our program! For example, if this is a user input, we can ask the user to input another number:"
   ]
  },
  {
   "cell_type": "markdown",
   "metadata": {},
   "source": [
    "```haskell\n",
    "velocity :: Integral a => a -> a -> Maybe a\n",
    "velocity distance time = distance `safeDiv` time\n",
    "\n",
    "main :: IO ()\n",
    "main = do\n",
    "    putStrLn \"provide the distance traveled by the object (in [m]):\"\n",
    "    d <- getLine\n",
    "    putStrLn \"provide the time it took for the object to travel the previous distance (in [s]:\"\n",
    "    t <- getLine\n",
    "    case velocity (read d) (read t) of\n",
    "        Just v  -> putStrLn $ \"The object's velocity is about: \" ++ show v  ++ \" [m/s]\"\n",
    "        Nothing -> do\n",
    "            putStrLn \"\\nThe time can't be zero!\"\n",
    "            main\n",
    "```"
   ]
  },
  {
   "cell_type": "markdown",
   "metadata": {},
   "source": [
    "By using this technique, we completely avoided a runtime error. It doesn't matter which numbers the user chooses, our program won't crash! 🙌 But wait... we have another possible runtime error! 😵 What if the user doesn't write valid numbers as inputs? What if the user writes letters or symbols instead of numbers?\n",
    "\n",
    "In that case, the `read` function won't be able to parse the String to a number and... you guessed it... our program crashes. 🫣"
   ]
  },
  {
   "cell_type": "markdown",
   "metadata": {},
   "source": [
    "Worry not! `Maybe a` data type to the rescue! In this case, we woud like a `read` function that has the option to fail. Luckily for us, a function like that already comes with our base libraries, and it's inside the `Text.Read` module:"
   ]
  },
  {
   "cell_type": "code",
   "execution_count": 14,
   "metadata": {},
   "outputs": [
    {
     "data": {
      "text/plain": [
       "Just 57"
      ]
     },
     "metadata": {},
     "output_type": "display_data"
    },
    {
     "data": {
      "text/plain": [
       "Nothing"
      ]
     },
     "metadata": {},
     "output_type": "display_data"
    }
   ],
   "source": [
    "import Text.Read (readMaybe)\n",
    "\n",
    "-- readMaybe :: Read a => String -> Maybe a\n",
    "\n",
    "readMaybe \"57\" :: Maybe Integer\n",
    "readMaybe \"B00!\" :: Maybe Integer"
   ]
  },
  {
   "cell_type": "markdown",
   "metadata": {},
   "source": [
    "By using `readMaybe` intead of `read`, we avoid **all runtime errors due to a bad user input**:"
   ]
  },
  {
   "cell_type": "markdown",
   "metadata": {},
   "source": [
    "```haskell\n",
    "import Text.Read (readMaybe)\n",
    "\n",
    "\n",
    "velocity :: Maybe Int -> Maybe Int -> Maybe Int\n",
    "velocity (Just dist) (Just time) = dist `safeDiv` time\n",
    "velocity  _           _          = Nothing\n",
    "\n",
    " \n",
    "main :: IO ()\n",
    "main = do\n",
    "  putStrLn \"provide the distance traveled by the object (in [m]):\"\n",
    "  d <- getLine\n",
    "  putStrLn \"provide the time it took for the object to travel the previous distance (in [s]):\"\n",
    "  t <- getLine\n",
    "  case velocity (readMaybe d) (readMaybe t) of\n",
    "    Just v -> putStrLn $ \"The object's velocity is: \" ++ show v ++ \" [m/s]\"\n",
    "    Nothing -> do\n",
    "      putStrLn \"\\nWrong inputs! Please, provide valid numbers (time can't be zero)!\"\n",
    "      main\n",
    "```"
   ]
  },
  {
   "cell_type": "markdown",
   "metadata": {},
   "source": [
    "There are a lot of pre-defined funcitons that use the `Maybe a` type. Both in the standard libraries, and in libraries made by other develoeprs. When you encounter them, you can use them all in the same way. Pattern-match, handle both cases, and you're good to go!"
   ]
  },
  {
   "cell_type": "markdown",
   "metadata": {},
   "source": [
    "Now that we understand how to use the `Maybe a` data type, and optional values more generally, let's talk about why should you use it:"
   ]
  },
  {
   "cell_type": "markdown",
   "metadata": {},
   "source": [
    "- You can handle the absense of value: `Maybe a` provides a type-safe way to indicate the absence of a value, preventing many forms of runtime errors."
   ]
  },
  {
   "cell_type": "markdown",
   "metadata": {},
   "source": [
    "- Your code is more robust: Using `Maybe a` forces you to explicitly handle both the case when you have a value and when you don't, ensuring you handle all possibilities and write more robust code."
   ]
  },
  {
   "cell_type": "markdown",
   "metadata": {},
   "source": [
    "- Expressing uncertainty: Optional values allow the developer to express uncertainty in a way that the consumer of the function is aware and can handle, without the need to know how the body of the function looks like."
   ]
  },
  {
   "cell_type": "markdown",
   "metadata": {},
   "source": [
    "- Composability: You can compose optional values as we did in the previous examples. We provided the output of `readMaybe` as inputs to `velocity` that used `safeDiv` inside. If something went wrong at at any time, the `Nothing` value would propagate throught the function tree."
   ]
  },
  {
   "cell_type": "markdown",
   "metadata": {},
   "source": [
    "Now, the `Maybe a` data type is not the only data type in town we can use to handle possibly problematic values. One downside of using `Maybe a` data type is that, when we have several layers of optional values, we don't know what went wrong! In the previous code, for example. If we got a `Nothing` at the end, what failed? The parsing of the first value? The parsing of the second value? Or the division by zero? At runtime, we have no way to find out!\n",
    "\n",
    "Enter the `Either a b` data type:"
   ]
  },
  {
   "cell_type": "markdown",
   "metadata": {},
   "source": [
    "## Ok, you `Either` give me a value or a reason why you didn't!"
   ]
  },
  {
   "cell_type": "markdown",
   "metadata": {},
   "source": [
    "The `Either` data type is also pretty simple:"
   ]
  },
  {
   "cell_type": "markdown",
   "metadata": {},
   "source": [
    "```haskell\n",
    "data Either a b = Left a | Right b\n",
    "```"
   ]
  },
  {
   "cell_type": "markdown",
   "metadata": {},
   "source": [
    "In general, the `Either` type represents values with two possibilities: a value of type `Either a b` is either `Left a` or `Right b`. You cannot have both. This is not necessarily related with error handling or optional values. Either can be used in many different scenarios to simply represent a binary choice.\n",
    "\n",
    "In the context of error handling, you can think of `Either` as something that builds on top of the `Maybe` data type to provide a way to log what went wrong. "
   ]
  },
  {
   "cell_type": "markdown",
   "metadata": {},
   "source": [
    "The way we use `Either` to handle errors is not forced in code, but by convention. The community overall uses the `Left` constructor to hold an error value and the `Right` constructor to hold a correct value. Based on the mnemonic that \"right\" also means \"correct\".\n",
    "\n",
    "So, now that we know about `Either`, let's modify `saveDiv` to let us know if we try to divide by zero:"
   ]
  },
  {
   "cell_type": "code",
   "execution_count": 2,
   "metadata": {},
   "outputs": [
    {
     "data": {
      "text/plain": [
       "Right 5"
      ]
     },
     "metadata": {},
     "output_type": "display_data"
    },
    {
     "data": {
      "text/plain": [
       "Left \"You can't divide by zero, you fool!!\""
      ]
     },
     "metadata": {},
     "output_type": "display_data"
    }
   ],
   "source": [
    "safeDiv :: Integral a => a -> a -> Either String a\n",
    "safeDiv _ 0 = Left \"You can't divide by zero, you fool!!\"\n",
    "safeDiv x y = Right (x `div` y)\n",
    "\n",
    "\n",
    "15 `safeDiv` 3\n",
    "15 `safeDiv` 0"
   ]
  },
  {
   "cell_type": "markdown",
   "metadata": {},
   "source": [
    "As you can see, we chose `String` as the type parameter for `Left` so we can leave a message to the user or developer. Although using a simple `String` to leave a message to the developer is the intuitive thing to try first, using values that we could later handle programmatically is even better. Something like:"
   ]
  },
  {
   "cell_type": "markdown",
   "metadata": {},
   "source": [
    "```haskell\n",
    "data PermissionLevel = Guest | User | Admin\n",
    "\n",
    "data UIError = WrongInput String | WrongPermission PermissionLevel | UserDidNotLogIn\n",
    "\n",
    "safeDiv :: Integral a => a -> a -> Either UIError a\n",
    "```"
   ]
  },
  {
   "cell_type": "markdown",
   "metadata": {},
   "source": [
    "And further down the code, we can use this extra information to do things programmatically. For example, if `Either` returns `Left UserDidNotLogIn`, we can redirect to the login page.\n",
    "\n",
    "To keep it simple, we'll stick to `Strings` for today's examples. Now, let's transform the rest of the code:"
   ]
  },
  {
   "cell_type": "markdown",
   "metadata": {},
   "source": [
    "```haskell\n",
    "import Text.Read (readEither)\n",
    "\n",
    "\n",
    "velocity :: Either String Int -> Either String Int -> Either String Int\n",
    "velocity (Right dist) (Right time) = dist `safeDiv` time\n",
    "velocity (Left _)     (Right _)    = Left \"Wrong distance input! Please, provide valid numbers!\"\n",
    "velocity (Right _)    (Left _)     = Left \"Wrong time input! Please, provide valid numbers!\"\n",
    "velocity  _            _           = Left \"Both input wrong?! Come on!!\"\n",
    "\n",
    "main :: IO ()\n",
    "main = do\n",
    "  putStrLn \"provide the distance traveled by the object (in [m]):\"\n",
    "  d <- getLine\n",
    "  putStrLn \"provide the time it took for the object to travel the prevous distance (in [s]):\"\n",
    "  t <- getLine\n",
    "  case velocity (readEither d) (readEither t) of\n",
    "    Right v -> putStrLn $ \"The object's velocity is: \" ++ show v ++ \" [m/s]\"\n",
    "    Left e -> do\n",
    "      putStrLn e\n",
    "      main\n",
    "```"
   ]
  },
  {
   "cell_type": "markdown",
   "metadata": {},
   "source": [
    "As you can see, the `velocity` function now needs to explicitly handle more cases because we care about which input failed to parse, but the code complexity didn't increase that much overall.\n",
    "\n",
    "On top of that, we see that we have the `readEither` function available in `Text.Read` aswell:"
   ]
  },
  {
   "cell_type": "markdown",
   "metadata": {},
   "source": [
    "```haskell\n",
    "readEither :: Read a => String -> Either String a\n",
    "```"
   ]
  },
  {
   "cell_type": "markdown",
   "metadata": {},
   "source": [
    "This function, as you might imagine, is the `Either` equivalent of the `readMaybe` funcion. And, in this case, we decided to ignore the default error string and substitute it with our own when defining the `velocity` function to make them more fitted to the context."
   ]
  },
  {
   "cell_type": "markdown",
   "metadata": {},
   "source": [
    "## `Maybe` I should use `Either` one or the other?"
   ]
  },
  {
   "cell_type": "markdown",
   "metadata": {},
   "source": [
    "When to use `Maybe` and when to use `Either`?"
   ]
  },
  {
   "cell_type": "markdown",
   "metadata": {},
   "source": [
    "## There're always `Exceptions` to the rule"
   ]
  },
  {
   "cell_type": "markdown",
   "metadata": {},
   "source": [
    "A robust program should not collapse if something unexpected happens. And because we know we can't forsee every possible situation, the unexpected will eventually happen. Instead of making the futile attempt of avoiding errors, we instead have a mechanism to recover from them: `Exceptions`."
   ]
  },
  {
   "cell_type": "markdown",
   "metadata": {},
   "source": [
    "Handling exceptions in Haskell is a big subject. In this lesson we're going to cover the basics so you can handle common errors. But just so you know, you can go crazy with this system creating your own errors and using alternative libraries. If you happen to need it in the future."
   ]
  },
  {
   "cell_type": "markdown",
   "metadata": {},
   "source": [
    "---"
   ]
  },
  {
   "cell_type": "markdown",
   "metadata": {},
   "source": [
    "###  When should I use ADT and when `Exceptions`?"
   ]
  },
  {
   "cell_type": "markdown",
   "metadata": {},
   "source": [
    "- Strive to use programmable exceptions as much as posssible (Maybe, Either, etc.) to implement pure algorithms."
   ]
  },
  {
   "cell_type": "markdown",
   "metadata": {},
   "source": [
    "---"
   ]
  },
  {
   "cell_type": "markdown",
   "metadata": {},
   "source": [
    "---"
   ]
  },
  {
   "cell_type": "markdown",
   "metadata": {},
   "source": [
    "---"
   ]
  },
  {
   "cell_type": "markdown",
   "metadata": {},
   "source": [
    "## Homework"
   ]
  },
  {
   "cell_type": "markdown",
   "metadata": {},
   "source": [
    "- Make the student write all the Maybe and Either functions in the standard library?"
   ]
  },
  {
   "cell_type": "markdown",
   "metadata": {},
   "source": [
    "- Modify the homework from the previous lesson to avoid as many runtimes errors as possible?"
   ]
  },
  {
   "cell_type": "code",
   "execution_count": null,
   "metadata": {},
   "outputs": [],
   "source": []
  }
 ],
 "metadata": {
  "kernelspec": {
   "display_name": "Haskell",
   "language": "haskell",
   "name": "haskell"
  },
  "language_info": {
   "codemirror_mode": "ihaskell",
   "file_extension": ".hs",
   "mimetype": "text/x-haskell",
   "name": "haskell",
   "pygments_lexer": "Haskell",
   "version": "9.0.2"
  }
 },
 "nbformat": 4,
 "nbformat_minor": 4
}
