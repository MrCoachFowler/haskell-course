{
 "cells": [
  {
   "cell_type": "markdown",
   "metadata": {},
   "source": [
    "# Development setup, Modules and Pragmas"
   ]
  },
  {
   "cell_type": "markdown",
   "metadata": {},
   "source": [
    "## Outline\n",
    "\n",
    "* Modules\n",
    "  - Prelude module\n",
    "\n",
    "  - Working with base modules \n",
    "\n",
    "  - Creating our own modules\n",
    "\n",
    "  - Compiling Haskell programs\n",
    "\n",
    "* Language pragmas\n",
    "\n",
    "* Using Cabal\n",
    "  - Installation of packages with cabal\n",
    "  \n",
    "  - Building a project with cabal"
   ]
  },
  {
   "cell_type": "markdown",
   "metadata": {},
   "source": [
    "In this lesson, we will learn how you can work with Haskell modules, pragmas and Cabal. These are the tools necessary to build a full-fledged Haskell application so that we can finally build a complete project. We will see that modules will allow us to manage code better and let us reuse code that others have built! Pragmas will let us tweak the behavior of Haskell and how it should work. Lastly, Cabal will help us manage a complete project and all its possible dependencies!"
   ]
  },
  {
   "cell_type": "markdown",
   "metadata": {},
   "source": [
    "## Installing Haskell Tooling (On all operating systems)"
   ]
  },
  {
   "cell_type": "markdown",
   "metadata": {},
   "source": [
    "Feel free to ignore this section if you don't want to install anything locally and want to keep using the online dev environment."
   ]
  },
  {
   "cell_type": "markdown",
   "metadata": {},
   "source": [
    "We need a way to transform our Haskell source code into native code that our computer is able to run. And for that, we need a compiler. The most widely used Haskell compier is GHC. Let's learn how to install and use it."
   ]
  },
  {
   "cell_type": "markdown",
   "metadata": {},
   "source": [
    "GHCi (the interactive environment) already comes with GHC. There are a few different ways to install GHC. We could download it directly from its website. But there are better options. For example:"
   ]
  },
  {
   "cell_type": "markdown",
   "metadata": {},
   "source": [
    "- The [Stack](https://docs.haskellstack.org/en/stable/ ) tool."
   ]
  },
  {
   "cell_type": "markdown",
   "metadata": {},
   "source": [
    "- The [GHCup](https://www.haskell.org/ghcup/#) comand line tool"
   ]
  },
  {
   "cell_type": "markdown",
   "metadata": {},
   "source": [
    "We'll use GHCup because Stack does more than just installing the Haskell tooling and I want to go step by step. But feel free to use Stack if you prefer it.\n",
    "\n",
    "So, to install our tools, go to the [GHCup website](https://www.haskell.org/ghcup/#) and run the command it shows you on the terminal.\n",
    "\n",
    "You can click on \"Show all platforms\" if your OS is not shown.\n",
    "\n",
    "Once you run the command, it will ask you a few questions about what do you want to install. Make sure to have installed—at least—GHC, Haskell Language Server, and cabal-install."
   ]
  },
  {
   "cell_type": "markdown",
   "metadata": {},
   "source": [
    "And that's it! We have everything we need! Asuming, of course, that you have a text editor. And Mirosoft Word doesn't count.\n",
    "\n",
    "If you don't have one, install [VSCode](https://code.visualstudio.com/). It's the most widely used and very friendly.\n",
    "\n",
    "If VSCode ofers to install extensions, say yes. Else, search for \"Haskell\" in the extensions pan and isntall the two most downloaded ones."
   ]
  },
  {
   "cell_type": "markdown",
   "metadata": {},
   "source": [
    "OK! Enough with the setup! Let's compile our first program!"
   ]
  },
  {
   "cell_type": "markdown",
   "metadata": {},
   "source": [
    "### Compiling Haskell programs"
   ]
  },
  {
   "cell_type": "markdown",
   "metadata": {},
   "source": [
    "In this section, we will show how you can compile simple Haskell files, later we will show how you can compile a more complex project using Cabal."
   ]
  },
  {
   "cell_type": "markdown",
   "metadata": {},
   "source": [
    "In the previous lesson, we saw one of the shortest Haskell programs you could write. This one:"
   ]
  },
  {
   "cell_type": "code",
   "execution_count": 3,
   "metadata": {},
   "outputs": [],
   "source": [
    "main :: IO ()\n",
    "main = putStrLn \"Hello World!\""
   ]
  },
  {
   "cell_type": "markdown",
   "metadata": {},
   "source": [
    "A simple program that prints \"Hello World\" on the standard output. Remember that all your programs have to have an action called main that functions as the entry point of your program.\n",
    "\n",
    "OK! Let's compile this bad boy!"
   ]
  },
  {
   "cell_type": "markdown",
   "metadata": {},
   "source": [
    "Because we're on this Jupyter Notebook, we'll have to use some command line tools to make it happen. But you can just write a file with the `.hs` extension and compile it using `ghc` (without the `:!` prepended) like I show at the end."
   ]
  },
  {
   "cell_type": "markdown",
   "metadata": {},
   "source": [
    "So. first, we'll save the main action in a file with this command:"
   ]
  },
  {
   "cell_type": "code",
   "execution_count": null,
   "metadata": {
    "scrolled": true
   },
   "outputs": [
    {
     "data": {
      "text/plain": []
     },
     "metadata": {},
     "output_type": "display_data"
    }
   ],
   "source": [
    ":!echo \"main = putStrLn \\\"Hello World!\\\"\" >> hello.hs"
   ]
  },
  {
   "cell_type": "markdown",
   "metadata": {},
   "source": [
    "If we look for a haskell file, we see that it's there:"
   ]
  },
  {
   "cell_type": "code",
   "execution_count": null,
   "metadata": {
    "scrolled": true
   },
   "outputs": [
    {
     "data": {
      "text/plain": [
       "hello.hs"
      ]
     },
     "metadata": {},
     "output_type": "display_data"
    }
   ],
   "source": [
    ":!ls | grep 'hello'"
   ]
  },
  {
   "cell_type": "markdown",
   "metadata": {},
   "source": [
    "And, if we check its contents, we find only the main action:"
   ]
  },
  {
   "cell_type": "code",
   "execution_count": null,
   "metadata": {},
   "outputs": [
    {
     "data": {
      "text/plain": [
       "main = putStrLn \"Hello World!\""
      ]
     },
     "metadata": {},
     "output_type": "display_data"
    }
   ],
   "source": [
    ":!cat hello.hs"
   ]
  },
  {
   "cell_type": "markdown",
   "metadata": {},
   "source": [
    "Ok, let's compile it! \n",
    "\n",
    "To compile a file, the only thing we need to do is to pass the file path as an argument to the ghc command line tool:"
   ]
  },
  {
   "cell_type": "code",
   "execution_count": null,
   "metadata": {
    "scrolled": false
   },
   "outputs": [
    {
     "data": {
      "text/plain": [
       "[1 of 1] Compiling Main             ( hello.hs, hello.o )\n",
       "Linking hello ..."
      ]
     },
     "metadata": {},
     "output_type": "display_data"
    }
   ],
   "source": [
    ":!ghc hello.hs"
   ]
  },
  {
   "cell_type": "markdown",
   "metadata": {},
   "source": [
    "Now, if we look for files named outSourcecode, we find three new files:"
   ]
  },
  {
   "cell_type": "code",
   "execution_count": null,
   "metadata": {
    "scrolled": true
   },
   "outputs": [
    {
     "data": {
      "text/plain": [
       "hello\n",
       "hello.hi\n",
       "hello.hs\n",
       "hello.o"
      ]
     },
     "metadata": {},
     "output_type": "display_data"
    }
   ],
   "source": [
    ":!ls | grep 'hello'"
   ]
  },
  {
   "cell_type": "markdown",
   "metadata": {},
   "source": [
    "- `hello.hs` is the file we created with the source code.\n",
    "- `hello.o` is an object file and `hello.hi` is an interface file that will link the object file to the libraries that come with GHC to produce an executable. We don't really care about those right now.\n",
    "- The one that we care about is `hello` (called `hello.exe` if we compile it on a Windows machine). This one is the acutal executable. A binary that we can run like like any other program.\n",
    "\n",
    "So, let's run it!:"
   ]
  },
  {
   "cell_type": "code",
   "execution_count": null,
   "metadata": {},
   "outputs": [
    {
     "data": {
      "text/plain": [
       "Hello World!"
      ]
     },
     "metadata": {},
     "output_type": "display_data"
    }
   ],
   "source": [
    ":! ./hello"
   ]
  },
  {
   "cell_type": "markdown",
   "metadata": {},
   "source": [
    "And boom! We compiled and run our own Haskell program! Congratulations!"
   ]
  },
  {
   "cell_type": "markdown",
   "metadata": {},
   "source": [
    "Of course, because GHCi came with GHC, we can also load the `hello.hs` file to GHCI (`ghci`) and play arround with the main function."
   ]
  },
  {
   "cell_type": "markdown",
   "metadata": {},
   "source": [
    "<div class=\"alert alert-block alert-info\">\n",
    "    GHCi the Haskell REPL allows you to load a Haskell file with the <code>:l</code> command. There, it is not relevant whether the file has a main function or not. Once the file is loaded into GHCi you can call any of the functions or types defined in the file and test them if they work as you expected. If you load a <code>main.hs</code> file into GHCi that imports some user-defined modules, they will also be included as in the compilation process.\n",
    "</div>"
   ]
  },
  {
   "cell_type": "markdown",
   "metadata": {},
   "source": [
    "We've been coding in Haskell for a while now. But everything has been quite simple and short. That's why, if you've been doing your homework, we've been always writting our whole code in a single file.\n",
    "\n",
    "But what if we're making a more complex application? Like a website, a game, or a blockchain? How many thousands of unreadable code lines would that single file have? The naive solution is to split it into a bunch of files. But that stil doesn't solve many of problems we would have. That's why we use modules."
   ]
  },
  {
   "cell_type": "markdown",
   "metadata": {},
   "source": [
    "## Modules"
   ]
  },
  {
   "cell_type": "markdown",
   "metadata": {},
   "source": [
    "Crudely speaking, a Haskell module is just a collection of related functions, types, and type classes that can be imported and used in your code. But they are more than just that."
   ]
  },
  {
   "cell_type": "markdown",
   "metadata": {},
   "source": [
    "**Modules allow us to better structure, reuse, and mantain our code and environment.**"
   ]
  },
  {
   "cell_type": "markdown",
   "metadata": {},
   "source": [
    "We'll see how in this lesson. But first, we'll learn how to use modules that already come with Haskell and GHC.\n",
    "\n",
    "Starting with one we've been secretly using all this time. The most famous of all modules. The `Prelude`:"
   ]
  },
  {
   "cell_type": "markdown",
   "metadata": {},
   "source": [
    "### The `Prelude` module"
   ]
  },
  {
   "cell_type": "markdown",
   "metadata": {},
   "source": [
    "When working in GHCi or writing your own Haskell code, some functions are available by default, for instance `head`, `sum` and `length`.\n",
    "\n",
    "This is because those functions are part of a module called **Prelude** that is imported by default. \n",
    "\n",
    "The word prelude means an introduction to something more important which is the code and modules you will write.\n",
    "\n",
    "So, the `Prelude` module is the one that provides basic functions, data types, and type classes that the average coder might need for its code.\n"
   ]
  },
  {
   "cell_type": "markdown",
   "metadata": {},
   "source": [
    "On the Hackage link of the prelude module provided above, you will also find the type signatures of all these functions and more."
   ]
  },
  {
   "cell_type": "markdown",
   "metadata": {},
   "source": [
    "You can find a list of all the functions, types, and type classes provided by **Prelude** [here](https://hackage.haskell.org/package/base-4.17.0.0/docs/Prelude.html). This lesson's homework will be to read through everything provided by `Prelude`. It will be a refresher of all the functions, types, and type classes we've been using so far.\n",
    "\n",
    "But! There are also plenty of stuff we didn't cover and that depends on concepts we'll learn further down this course. So it's not required to understand everything. The objective is to have an idea of what does `Prelude` provide, use it as a refresher of all the functions, types, and type classes we've used so far, and get you used to read official documentation."
   ]
  },
  {
   "cell_type": "markdown",
   "metadata": {},
   "source": [
    "Besides the `Prelude`, there are other standard libraries."
   ]
  },
  {
   "cell_type": "markdown",
   "metadata": {},
   "source": [
    "### The Standard Libraries"
   ]
  },
  {
   "cell_type": "markdown",
   "metadata": {},
   "source": [
    "If you go to [this website](https://downloads.haskell.org/ghc/latest/docs/libraries/), you can see all the libraries that come baked in into Haskell.\n",
    "\n",
    "It's daunting, I know. But you don't have to memorize all this. There are tools like [Hoogle](https://hoogle.haskell.org) that let you easily search through libraries whenever you need to. No memorizing needed. We'll explore how to use this and other tools in a dedicated lesson.\n",
    "\n",
    "Right now, we'll learn how to use those standard libraries in our code, and we'll learn a bit about a couple of them.\n",
    "\n",
    "To be able to use a module, we need to import it. "
   ]
  },
  {
   "cell_type": "markdown",
   "metadata": {},
   "source": [
    "### Importing Modules"
   ]
  },
  {
   "cell_type": "markdown",
   "metadata": {},
   "source": [
    "<div class=\"alert alert-block alert-warning\">\n",
    "We're gong to import many modules several times during this lesson. So, if you run the cells sequentially, you will encounter errors when you shouldn't. In those cases, restart the Kernel (In the Kernel menu above) to get rid of all the imports and run only the cell you're on, skipping all the previous ones.\n",
    "</div>"
   ]
  },
  {
   "cell_type": "markdown",
   "metadata": {},
   "source": [
    "Let's say your app needs to manipulate files and folders. We can use a module called `System.Directory` that has a bunch of functions, actions and types related to file and directory manipulation.\n",
    "\n",
    "To import this module, we use the `import` keyword followed by the name of the module:"
   ]
  },
  {
   "cell_type": "markdown",
   "metadata": {},
   "source": [
    "```haskell\n",
    "import System.Directory\n",
    "```"
   ]
  },
  {
   "cell_type": "markdown",
   "metadata": {},
   "source": [
    "This must be done before defining any functions, so imports are usually done at the top of the file. By adding this line of code, we gain access to all the functions, actions, types, and typeclasses of the `System.Directory` module. You can check everything that comes with this module here (link).\n",
    "\n",
    "One of the functions provided is `listDirectory`:"
   ]
  },
  {
   "cell_type": "markdown",
   "metadata": {},
   "source": [
    "```haskell\n",
    "listDirectory :: FilePath -> IO [FilePath]\n",
    "```"
   ]
  },
  {
   "cell_type": "markdown",
   "metadata": {},
   "source": [
    "It takes a directory path of type `FilePath` (which is just a type synonym for String) and returns an IO action that, when performed, returns a list of all entries (files and directories, everything) inside the directory we passed as parameter.\n",
    "\n",
    "So, if we use it to check what's inside the current directory of this JupyterNotebook, we get:"
   ]
  },
  {
   "cell_type": "code",
   "execution_count": 2,
   "metadata": {},
   "outputs": [
    {
     "data": {
      "text/plain": [
       "[\"23-State-Monad.ipynb\",\"21-Reader-Monad.ipynb\",\"24-Monadic-functions.ipynb\",\"09-Creating-parameterized-and-recursive-types.ipynb\",\"04-Pattern-matching.ipynb\",\"jupyter-tutuorial.ipynb\",\"ourProgram.o\",\"rise.css\",\"simpleProgram.hs\",\"06-Recursion-and-folds.ipynb\",\"22-Writer-Monad.ipynb\",\"simpleProgram\",\"ourProgram.hi\",\"13-Bits-Bytes.ipynb\",\"10-Creating-Type-Classes.ipynb\",\"15-Learning-on-your-own-and-project.ipynb\",\"16-Semigroup-and-Monoid.ipynb\",\"03-Conditions-and-helper-constructions.ipynb\",\"14-Handling-Errors.ipynb\",\"19-Aeson.ipynb\",\"hello.hi\",\"02-Functions-Data-Types-and-Signatures.ipynb\",\"ourSourceCode.hi\",\"hello.o\",\"17-Functor.ipynb\",\"11-Basic-IO.ipynb\",\".ipynb_checkpoints\",\"20-Monad.ipynb\",\"12-Pragmas-Modules-and-Cabal.ipynb\",\"25-Monad-Transformers.ipynb\",\"18-Applicative.ipynb\",\"ourSourceCode.o\",\"01-Introduction-to-haskell.ipynb\",\"08-Creating-non-parameterized-types.ipynb\",\"05-Improving-and-combining-functions.ipynb\",\"07-Intro-to-Type-Classes.ipynb\"]"
      ]
     },
     "metadata": {},
     "output_type": "display_data"
    }
   ],
   "source": [
    "import System.Directory\n",
    "\n",
    "listDirectory \".\""
   ]
  },
  {
   "cell_type": "markdown",
   "metadata": {},
   "source": [
    "...that inside the current folder, there are the files containing all the lessons we covered so far."
   ]
  },
  {
   "cell_type": "markdown",
   "metadata": {},
   "source": [
    "Now, let's say that we decide to write a function to find files iniside the current directory that contain a certain String as part of their name. Something like this:"
   ]
  },
  {
   "cell_type": "markdown",
   "metadata": {},
   "source": [
    "```haskell\n",
    "import System.Directory\n",
    "\n",
    "find' :: String -> IO [FilePath]\n",
    "find' str = do\n",
    "  entry <- listDirectory \".\"\n",
    "  let found = -- filter entries\n",
    "  return found\n",
    "```"
   ]
  },
  {
   "cell_type": "markdown",
   "metadata": {},
   "source": [
    "First, we get a list of all the files and directories using listDirectory, and then, we have to filter them in some way. \n",
    "\n",
    "We could easily create the filtering function ourselves with some pattern matching and recursion. It wouldn't be a bad idea to do it by yourself to practice. But realistically, this sounds like a common-enough function to be available as a library. And it is!!\n",
    "\n",
    "There's also a module called [`Data.List`](https://hackage.haskell.org/package/base-4.17.0.0/docs/Data-List.html) that contains dozens of functions to work with lists.\n",
    "\n",
    "And one of them, called `isInfixOf` takes two lists and returns `True` if the first list is contained, wholly and intact, anywhere within the second. Exactly what we need, so let's use it:"
   ]
  },
  {
   "cell_type": "code",
   "execution_count": 25,
   "metadata": {},
   "outputs": [
    {
     "data": {
      "text/plain": [
       "[\"11-Basic-IO.ipynb\"]"
      ]
     },
     "metadata": {},
     "output_type": "display_data"
    }
   ],
   "source": [
    "import System.Directory\n",
    "import Data.List\n",
    "\n",
    "find' :: String -> IO [FilePath]\n",
    "find' str = do\n",
    "  entry <- listDirectory \".\"\n",
    "  let found = filter (str `isInfixOf`) entry\n",
    "  return found\n",
    "\n",
    "find' \"11\""
   ]
  },
  {
   "cell_type": "markdown",
   "metadata": {},
   "source": [
    "Awesome! Because we have acess to modules with pre-written code, we don't have to implement everything by ourselves."
   ]
  },
  {
   "cell_type": "markdown",
   "metadata": {},
   "source": [
    "Ok, so, the function looks good, but it has a weird name. Why not just call it `find` without the `'`?"
   ]
  },
  {
   "cell_type": "markdown",
   "metadata": {},
   "source": [
    "Now JupyterNotebook is, again, doing some magic to avoid errors. But if we tried to change the name of the function to `find` without the `'` and compile this code as a real Haskell program (which you will be able to do after this lesson), we'd get this error:"
   ]
  },
  {
   "cell_type": "markdown",
   "metadata": {},
   "source": [
    "```\n",
    "Ambiguous occurrence ‘find’\n",
    "    It could refer to\n",
    "       either ‘Data.List.find’,\n",
    "              imported from ‘Data.List’ at YourFileName.hs:3:1-16\n",
    "              (and originally defined in ‘Data.Foldable’)\n",
    "           or ‘YourFileName.find’, defined at YourFileName.hs:13:1\n",
    "```"
   ]
  },
  {
   "cell_type": "markdown",
   "metadata": {},
   "source": [
    "The error is clear. We have two functions with the same name. One in our file and one that came when we imported `Data.List`. So the compiler doesn't know which one we're refering to.\n",
    "\n",
    "There are multimple solutions to this. "
   ]
  },
  {
   "cell_type": "markdown",
   "metadata": {},
   "source": [
    "### Controlling the environment"
   ]
  },
  {
   "cell_type": "markdown",
   "metadata": {},
   "source": [
    "The esiest solution, of course, is to change the name of our function:"
   ]
  },
  {
   "cell_type": "code",
   "execution_count": 11,
   "metadata": {
    "scrolled": true
   },
   "outputs": [
    {
     "data": {
      "text/plain": [
       "[\"11-Basic-IO.ipynb\"]"
      ]
     },
     "metadata": {},
     "output_type": "display_data"
    }
   ],
   "source": [
    "import System.Directory\n",
    "import Data.List\n",
    "\n",
    "findEntry :: String -> IO [FilePath]\n",
    "findEntry str = do\n",
    "  entry <- listDirectory \".\"\n",
    "  let found = filter (str `isInfixOf`) entry\n",
    "  return found\n",
    "\n",
    "findEntry \"11\""
   ]
  },
  {
   "cell_type": "markdown",
   "metadata": {},
   "source": [
    "But this doesn't solve the underlying issue that our environment is pollutted with dozens of functions and types of both `System.Directory` and `Data.List` that we're not planning to use. Which can cause all sorts of troubles."
   ]
  },
  {
   "cell_type": "markdown",
   "metadata": {},
   "source": [
    "A better solution is to import a specific function or type instead of the whole module. We can easily do it like this:"
   ]
  },
  {
   "cell_type": "code",
   "execution_count": 26,
   "metadata": {},
   "outputs": [
    {
     "data": {
      "text/plain": [
       "[\"11-Basic-IO.ipynb\"]"
      ]
     },
     "metadata": {},
     "output_type": "display_data"
    }
   ],
   "source": [
    "import System.Directory (listDirectory) -- import lsitDirectory from System.Directory\n",
    "import Data.List (isInfixOf)            -- import isInfixOf     from Data.List\n",
    "\n",
    "find :: String -> IO [FilePath]\n",
    "find str = do\n",
    "  entry <- listDirectory \".\"\n",
    "  let found = filter (str `isInfixOf`) entry\n",
    "  return found\n",
    "\n",
    "find \"11\""
   ]
  },
  {
   "cell_type": "markdown",
   "metadata": {},
   "source": [
    "We just add the functions inside a parenthesis on the right. And if we need to import more than one, we just add it separated by a comma.\n",
    "\n",
    "For example, if we want to sort the entries before returning them, we can import the `sort` function from `Data.List` and use it like this:"
   ]
  },
  {
   "cell_type": "code",
   "execution_count": 36,
   "metadata": {},
   "outputs": [
    {
     "data": {
      "text/plain": [
       "[\"08-Creating-non-parameterized-types.ipynb\",\"09-Creating-parameterized-and-recursive-types.ipynb\",\"10-Creating-Type-Classes.ipynb\"]"
      ]
     },
     "metadata": {},
     "output_type": "display_data"
    }
   ],
   "source": [
    "import System.Directory (listDirectory)\n",
    "import Data.List (isInfixOf, sort)      -- import isInfixOf and sort from Data.List\n",
    "\n",
    "find :: String -> IO [FilePath]\n",
    "find str = do\n",
    "  entry <- listDirectory \".\"\n",
    "  let found = sort $ filter (str `isInfixOf`) entry -- filter and sort\n",
    "  return found\n",
    "\n",
    "find \"Creating\""
   ]
  },
  {
   "cell_type": "markdown",
   "metadata": {},
   "source": [
    "And we can keep adding the functions we need when we need them."
   ]
  },
  {
   "cell_type": "markdown",
   "metadata": {},
   "source": [
    "Finally, if we happen to need many functions of a module, importing them one by one might be cumbersome. And we might end up with a huge list of functions that contain almost the whole module.\n",
    "\n",
    "For those cases, you can use the `hidden` keyword. For example, let's say taht our `find` function is just one of many in our file. And we need to use a lot of functions provided by `Data.List`.\n",
    "\n",
    "We can change the import like this:"
   ]
  },
  {
   "cell_type": "code",
   "execution_count": 42,
   "metadata": {},
   "outputs": [
    {
     "data": {
      "text/plain": [
       "[\"08-Creating-non-parameterized-types.ipynb\",\"09-Creating-parameterized-and-recursive-types.ipynb\",\"10-Creating-Type-Classes.ipynb\"]"
      ]
     },
     "metadata": {},
     "output_type": "display_data"
    }
   ],
   "source": [
    "import System.Directory (listDirectory)\n",
    "import Data.List hiding (find)  -- import everything from Data.List, except `find`\n",
    "\n",
    "find :: String -> IO [FilePath]\n",
    "find str = do\n",
    "  entry <- listDirectory \".\"\n",
    "  let found = sort $ filter (str `isInfixOf`) entry\n",
    "  return found\n",
    "\n",
    "find \"Creating\""
   ]
  },
  {
   "cell_type": "markdown",
   "metadata": {},
   "source": [
    "Here, we're importing everything from `Data.List` except for the `find` function.\n",
    "\n",
    "And, same as before, you can hide more functions and types by adding them inside those parenthesis separated by commas."
   ]
  },
  {
   "cell_type": "markdown",
   "metadata": {},
   "source": [
    "And that's how you can control your environment while importing modules.\n",
    "\n",
    "But there's one more case that we don't have a solution for. What if we import two modules that have functions with the same name?\n",
    "\n",
    "For example:"
   ]
  },
  {
   "cell_type": "code",
   "execution_count": 51,
   "metadata": {
    "scrolled": true
   },
   "outputs": [
    {
     "ename": "",
     "evalue": "",
     "output_type": "error",
     "traceback": [
      "<interactive>:4:22: error:\n    Ambiguous occurrence ‘filter’\n    It could refer to\n       either ‘Data.Map.filter’, imported from ‘Data.Map’ (and originally defined in ‘Data.Map.Internal’)\n           or ‘Prelude.filter’, imported from ‘Prelude’ (and originally defined in ‘GHC.List’)"
     ]
    }
   ],
   "source": [
    "import System.Directory (listDirectory)\n",
    "import Data.List hiding (find)\n",
    "import Data.Map\n",
    "\n",
    "find :: String -> IO [FilePath]\n",
    "find str = do\n",
    "  entry <- listDirectory \".\"\n",
    "  let found = sort $ filter (str `isInfixOf`) entry\n",
    "  return found\n",
    "\n",
    "find \"Creating\"\n",
    "\n",
    "-- 👇 More code that uses `filter` from Data.Map\n",
    "-- ..."
   ]
  },
  {
   "cell_type": "markdown",
   "metadata": {},
   "source": [
    "Let's say that we import a module called `Data.Map`. This module has types and functions that allow you to store associations between unique keys and values. For now, don't worry about it, we'll take a propoer look at this module in future lessons.\n",
    "\n",
    "What is interesting about this, is that both `Data.Map` and `Prelude` (a module we'll learn about shortly) provide a function called `filter`. Same as before, we have two different functions with the same name and Haskell doesn't know which one we're refering to.\n",
    "\n",
    "In this scenario, we don't want to hide Map's `filter` function because we're using it somewhere else in our code. And we cannot change their name because we're importing both of them from other modules.\n",
    "\n",
    "Now is when namespaces come in handy!"
   ]
  },
  {
   "cell_type": "markdown",
   "metadata": {},
   "source": [
    "## Controlling the namespace"
   ]
  },
  {
   "cell_type": "markdown",
   "metadata": {},
   "source": [
    "Without all the jargon: "
   ]
  },
  {
   "cell_type": "markdown",
   "metadata": {},
   "source": [
    "**A namespace is an environment created to hold a group of names.**"
   ]
  },
  {
   "cell_type": "markdown",
   "metadata": {},
   "source": [
    "We've been talking about \"our environment\" as a single thing. A \"space\" that contains our functions, types, and type classes all mixed together. But thanks to modules, we can have different environments (or namespaces).\n",
    "\n",
    "And is as easy as adding a single word to the import:"
   ]
  },
  {
   "cell_type": "code",
   "execution_count": 4,
   "metadata": {},
   "outputs": [
    {
     "data": {
      "text/plain": [
       "[\"23-State-Monad.ipynb\",\"21-Reader-Monad.ipynb\",\"24-Monadic-functions.ipynb\",\"09-Creating-parameterized-and-recursive-types.ipynb\",\"04-Pattern-matching.ipynb\",\"jupyter-tutuorial.ipynb\",\"ourProgram.o\",\"rise.css\",\"simpleProgram.hs\",\"06-Recursion-and-folds.ipynb\",\"22-Writer-Monad.ipynb\",\"simpleProgram\",\"ourProgram.hi\",\"13-Bits-Bytes.ipynb\",\"10-Creating-Type-Classes.ipynb\",\"15-Learning-on-your-own-and-project.ipynb\",\"16-Semigroup-and-Monoid.ipynb\",\"03-Conditions-and-helper-constructions.ipynb\",\"14-Handling-Errors.ipynb\",\"19-Aeson.ipynb\",\"hello.hi\",\"02-Functions-Data-Types-and-Signatures.ipynb\",\"ourSourceCode.hi\",\"hello.o\",\"17-Functor.ipynb\",\"11-Basic-IO.ipynb\",\".ipynb_checkpoints\",\"20-Monad.ipynb\",\"12-Pragmas-Modules-and-Cabal.ipynb\",\"25-Monad-Transformers.ipynb\",\"18-Applicative.ipynb\",\"ourSourceCode.o\",\"01-Introduction-to-haskell.ipynb\",\"08-Creating-non-parameterized-types.ipynb\",\"05-Improving-and-combining-functions.ipynb\",\"07-Intro-to-Type-Classes.ipynb\"]"
      ]
     },
     "metadata": {},
     "output_type": "display_data"
    },
    {
     "ename": "",
     "evalue": "",
     "output_type": "error",
     "traceback": [
      "<interactive>:1:1: error:\n    • Variable not in scope: listDirectory :: String -> t\n    • Perhaps you meant ‘IHaskellDirectory.listDirectory’ (imported from System.Directory)"
     ]
    }
   ],
   "source": [
    "import qualified System.Directory (listDirectory) -- qualified import\n",
    "\n",
    "System.Directory.listDirectory \".\"\n",
    "listDirectory \".\" -- This doesn't work"
   ]
  },
  {
   "cell_type": "markdown",
   "metadata": {},
   "source": [
    "<div class=\"alert alert-block alert-warning\">\n",
    "If you run the previous cells, <code>listDirectory \".\"</code> will work because Jupyter's environment already has <code>System.Directory</code> imported without qualifying it. If you want to reproduce this errror, you'll have to restart the kernel and run the above cell first.\n",
    "</div>"
   ]
  },
  {
   "cell_type": "markdown",
   "metadata": {},
   "source": [
    "By adding the `qualified` keyword after `import`, instead of adding the `listDirectory` to our environment, we create a new one called `System.Directory` that contains it.\n",
    "\n",
    "That way, each time we want to use `listDirectory`, we have to look for it inside the `System.Directory` namespace.\n",
    "\n",
    "This solves our previous problem:"
   ]
  },
  {
   "cell_type": "code",
   "execution_count": 5,
   "metadata": {
    "scrolled": true
   },
   "outputs": [
    {
     "data": {
      "text/plain": [
       "[\"08-Creating-non-parameterized-types.ipynb\",\"09-Creating-parameterized-and-recursive-types.ipynb\",\"10-Creating-Type-Classes.ipynb\"]"
      ]
     },
     "metadata": {},
     "output_type": "display_data"
    }
   ],
   "source": [
    "import System.Directory (listDirectory)\n",
    "import Data.List hiding (find)\n",
    "import qualified Data.Map\n",
    "\n",
    "find :: String -> IO [FilePath]\n",
    "find str = do\n",
    "  entry <- listDirectory \".\"\n",
    "  let found = sort $ filter (str `isInfixOf`) entry\n",
    "  return found\n",
    "\n",
    "find \"Creating\"\n",
    "\n",
    "-- 👇 More code that uses `Data.Map.filter` from Data.Map\n",
    "-- ..."
   ]
  },
  {
   "cell_type": "markdown",
   "metadata": {},
   "source": [
    "As you can see, we don't have errors no more. Now that we `qualified` the `Data.Map` import, we're still importing everything from that module, including the `filter` function; But all that is inside the `Data.Map` namespace, so it doesn't get mixed with the functions in our main environment."
   ]
  },
  {
   "cell_type": "markdown",
   "metadata": {},
   "source": [
    "And, to show how we would use code from `Data.Map`, let's take that list of filtered and ordered entries and transform them into a map:"
   ]
  },
  {
   "cell_type": "code",
   "execution_count": 10,
   "metadata": {},
   "outputs": [
    {
     "data": {
      "text/plain": [
       "fromList [(1,\"08-Creating-non-parameterized-types.ipynb\"),(2,\"09-Creating-parameterized-and-recursive-types.ipynb\"),(3,\"10-Creating-Type-Classes.ipynb\")]"
      ]
     },
     "metadata": {},
     "output_type": "display_data"
    }
   ],
   "source": [
    "import Data.List hiding (find)\n",
    "import System.Directory (listDirectory)\n",
    "import qualified Data.Map\n",
    "\n",
    "find :: String -> IO (Data.Map.Map Int String)\n",
    "find str = do\n",
    "  entry <- listDirectory \".\"\n",
    "  let found = sort $ filter (str `isInfixOf`) entry\n",
    "  let foundMap = Data.Map.fromList $ zip ([1 ..] :: [Int]) found -- List to Map\n",
    "  return foundMap\n",
    "\n",
    "find \"Creating\""
   ]
  },
  {
   "cell_type": "markdown",
   "metadata": {},
   "source": [
    "We only added a single line of code. Like we said before, maps store associations between unique keys and values. We have the values, but without unique keys!\n",
    "\n",
    "To assing a unique key to each value, we use the `zip` function. As we saw on the homework of the lesson on recursion, the `zip` function takes two lists and returns a list of tuples with the corresponding pairs.\n",
    "\n",
    "In this case, we're zipping an infinite list of odered numbers starting from one, and the list of filtered and sorted entries. So, we should get a list of pairs with a number as the first element and an entry as the second.\n",
    "\n",
    "And, conveniently enough, the `Data.Map` module provides a function called `fromList` that takes a list of pairs and returns a value of type `Map`. In this case, the value it returns is of type `Map Int Strin` because the keys are `Int` and the values are `String`. (run cell.)"
   ]
  },
  {
   "cell_type": "markdown",
   "metadata": {},
   "source": [
    "With this final feature, we've gain complete control of our environments. Althoug, writing `Data.Map` everywhere gets old pretty quicly. And if we qualify imports with longer names or qualify several modules, our code starts to get cluttered and harder to read.\n",
    "\n",
    "As a quality-of-life improvement, Haskell allows us to rename the namespace to a more convenient one. For example:"
   ]
  },
  {
   "cell_type": "code",
   "execution_count": 1,
   "metadata": {},
   "outputs": [
    {
     "data": {
      "text/plain": [
       "fromList [(1,\"08-Creating-non-parameterized-types.ipynb\"),(2,\"09-Creating-parameterized-and-recursive-types.ipynb\"),(3,\"10-Creating-Type-Classes.ipynb\")]"
      ]
     },
     "metadata": {},
     "output_type": "display_data"
    }
   ],
   "source": [
    "import Data.List hiding (find)\n",
    "import System.Directory (listDirectory)\n",
    "import qualified Data.Map as Map -- Renamed namespace\n",
    "\n",
    "find :: String -> IO (Map.Map Int String)\n",
    "find str = do\n",
    "  entry <- listDirectory \".\"\n",
    "  let found = sort $ filter (str `isInfixOf`) entry\n",
    "  let foundMap = Map.fromList $ zip ([1 ..] :: [Int]) found -- List to Map\n",
    "  return foundMap\n",
    "\n",
    "find \"Creating\""
   ]
  },
  {
   "cell_type": "markdown",
   "metadata": {},
   "source": [
    "<div class=\"alert alert-block alert-warning\">\n",
    "    Notice that module names are capitalized, if you are renaming them, this new name has to be capitalized as well!\n",
    "</div>"
   ]
  },
  {
   "cell_type": "markdown",
   "metadata": {},
   "source": [
    "And as a final tip, we can combine all this different techniques. For example, if two modules do kind of the same thing, but don't have any name clashes, we could give both namespaces the same name and treat them as if they came from a single module.\n",
    "\n",
    "This doesn't apply right now, but there's an import combination that does. our `find` function looks pretty good. But one thing that bothers me is that `Map.Map`. I don't mind the `Map.fromList`, actualy, I prefer it! That let's me know that `fromList` coms from the `Data.Map` module. But `Map.Map` is kind of redundant. Of course that the `Map` type constructor comes from the `Data.Map` module!\n",
    "\n",
    "Let's combine a couple of imports to avoid this redundancy!:"
   ]
  },
  {
   "cell_type": "code",
   "execution_count": null,
   "metadata": {},
   "outputs": [
    {
     "data": {
      "text/plain": [
       "fromList [(1,\"08-Creating-non-parameterized-types.ipynb\"),(2,\"09-Creating-parameterized-and-recursive-types.ipynb\"),(3,\"10-Creating-Type-Classes.ipynb\")]"
      ]
     },
     "metadata": {},
     "output_type": "display_data"
    }
   ],
   "source": [
    "import Data.List hiding (find)       \n",
    "import System.Directory (listDirectory)\n",
    "import qualified Data.Map as Map hiding (Map) -- import qualified + Rename namespace + hide Map\n",
    "import Data.Map (Map)                         -- Import only Map\n",
    "\n",
    "find :: String -> IO (Map Int String)\n",
    "find str = do\n",
    "  entry <- listDirectory \".\"\n",
    "  let found = sort $ filter (str `isInfixOf`) entry\n",
    "  let foundMap = Map.fromList $ zip ([1 ..] :: [Int]) found\n",
    "  return foundMap\n",
    "  \n",
    "find \"Creating\""
   ]
  },
  {
   "cell_type": "markdown",
   "metadata": {},
   "source": [
    "By hiding the `Map` type constructor from the qualified import and importing it separatedly, we essentially removed the `Map` type constructor from the `Map` namespace and added it to our main namespace.\n",
    "\n",
    "Everything else is the same, but now, the signature of `find` is easier to read."
   ]
  },
  {
   "cell_type": "markdown",
   "metadata": {},
   "source": [
    "That's pretty much everything about importing modules and managing your environment. But remember we said modules also allow us to better structure, reuse, and mantain our code? Well, let's see how!"
   ]
  },
  {
   "cell_type": "markdown",
   "metadata": {},
   "source": [
    "### Creating your own module"
   ]
  },
  {
   "cell_type": "markdown",
   "metadata": {},
   "source": [
    "Since modules are just plain Haskell files that can be imported in other Haskell files, it is easy to create a module on your own. \n",
    "\n",
    "In the following section, we will show you how to set up a module."
   ]
  },
  {
   "cell_type": "markdown",
   "metadata": {},
   "source": [
    "Let's say we want another version of the Prelude function `sum` that returns an error for the input of the empty list, instead of the value 0 that the Prelude `sum` returns."
   ]
  },
  {
   "cell_type": "markdown",
   "metadata": {},
   "source": [
    "To create a module that exposes such a module, we first create a Haskell file that we call `Sum.hs`. At the top of this file, we write a module statement like\n",
    "```haskell\n",
    "module Sum where\n",
    "```"
   ]
  },
  {
   "cell_type": "markdown",
   "metadata": {},
   "source": [
    "With this statement, we defined the name of our module as `Sum`, which again should start with an upper case letter.\n",
    "\n",
    "It is good practice that the name of the module is the same as the name of the file, though this is not mandatory."
   ]
  },
  {
   "cell_type": "markdown",
   "metadata": {},
   "source": [
    "<div class=\"alert alert-block alert-warning\">\n",
    "    In the case of submodules like <code>import System.Directory as SD</code>, the module declaration is the same as the import (<code> module System.Directory where</code>), while the name of the file does not contain the string <code>\"System</code>. It is common that the directory that contains the submodule <code>.hs</code> file is names after the parent module (<code>System</code>).\n",
    "</div>"
   ]
  },
  {
   "cell_type": "markdown",
   "metadata": {},
   "source": [
    "Then we define our own parameterized type `MyData` that can be used for displaying an error message. \n",
    "\n",
    "We will learn more about proper error handling in lesson 14. After that, we define our `sum` function."
   ]
  },
  {
   "cell_type": "markdown",
   "metadata": {},
   "source": [
    "```haskell\n",
    "module Sum where\n",
    "\n",
    "import qualified Prelude\n",
    "\n",
    "data MyData a b = Error a | Result b deriving Prelude.Show\n",
    "\n",
    "sum :: Prelude.Num a => [a] -> MyData Prelude.String a\n",
    "sum [] = Error \"List is empty\"\n",
    "sum xs = Result (Prelude.sum xs)\n",
    "\n",
    "```"
   ]
  },
  {
   "cell_type": "markdown",
   "metadata": {},
   "source": [
    "Notice that in the definition of our `sum` function, we use the prelude version of `sum` that we access by `Prelude.sum` to prevent name collision of our sum.\n",
    "\n",
    "Now, if we were in another Haskell file and wanted to import our `Sum` module, we should use qualified import to avoid name collision with the Prelude."
   ]
  },
  {
   "cell_type": "markdown",
   "metadata": {},
   "source": [
    "```haskell\n",
    "import qualified Sum (sum)\n",
    "import qualified Prelude\n",
    "\n",
    "Prelude.sum []       -- 0\n",
    "Prelude.sum [1..3]   -- 6\n",
    "\n",
    "Sum.sum []     -- Error \"List is empty\" \n",
    "Sum.sum [1..3] -- Result 6\n",
    "```"
   ]
  },
  {
   "cell_type": "markdown",
   "metadata": {},
   "source": [
    "If you defined your `sum` function with another name that would not match any default function name from Prelude, you could use a simple import statement as `import Sum`. \n",
    "\n",
    "This would work if our function name would be e.g. `sum1`. Then you could use the function names directly. "
   ]
  },
  {
   "cell_type": "markdown",
   "metadata": {},
   "source": [
    "```haskell\n",
    "import Sum\n",
    "\n",
    "sum []      -- 0\n",
    "sum [1..3]  -- 6\n",
    "\n",
    "sum1 []     -- Error \"List is empty\" \n",
    "sum1 [1..3] -- Result 6\n",
    "```"
   ]
  },
  {
   "cell_type": "markdown",
   "metadata": {},
   "source": [
    "In contrasts to imports restriction like above where we only imported `sum` from the module `Sum`, Haskell also gives you control over exports. That is, what does a module expose to the outside world?\n",
    "\n",
    "In the above example, our module `Sum` exports all that is declared in its file. To take control over what the `Sum` module exports, we declare the things we want to export in the module declaration."
   ]
  },
  {
   "cell_type": "markdown",
   "metadata": {},
   "source": [
    "```haskell\n",
    "module Sum (sum) where\n",
    "\n",
    "import qualified Prelude\n",
    "\n",
    "data MyData a b = Error a | Result b deriving Prelude.Show\n",
    "\n",
    "sum :: Prelude.Num a => [a] -> MyData Prelude.String a\n",
    "sum [] = Error \"List is empty\"\n",
    "sum xs = Result (Prelude.sum xs)\n",
    "```"
   ]
  },
  {
   "cell_type": "markdown",
   "metadata": {},
   "source": [
    "This means that when importing the module `Sum`, we no longer have access to the data type `MyData` and its constructors `Error` and `Result`! Things like\n",
    "```haskell\n",
    "import Sum \n",
    "\n",
    "willNotWork :: MyData String Integer\n",
    "willNotWork = Result 10\n",
    "```\n",
    "will fail with an error `Not in scope: type constructor or class ‘MyData’`."
   ]
  },
  {
   "cell_type": "markdown",
   "metadata": {},
   "source": [
    "If we did want to export this data type explicitly, we should have used\n",
    "```haskell\n",
    "module Sum (\n",
    "  sum\n",
    ", MyData(Error, Result) \n",
    "  ) where\n",
    "```"
   ]
  },
  {
   "cell_type": "markdown",
   "metadata": {},
   "source": [
    "<div class=\"alert alert-block alert-info\">\n",
    "   It is common practice to separate multiple exports by adding them to a new line.\n",
    "</div>"
   ]
  },
  {
   "cell_type": "markdown",
   "metadata": {},
   "source": [
    "Notice that we also added some brackets to the export of the data type `MyData` to also export its type constructors! If you do not want to make this explicit, but want to export all its constructors, you can also use `(..)` to export "
   ]
  },
  {
   "cell_type": "markdown",
   "metadata": {},
   "source": [
    "### Using modules to your advantage"
   ]
  },
  {
   "cell_type": "markdown",
   "metadata": {},
   "source": [
    "We mentioned that modules gives you control over what is exposed in the module and that it can hide complexity. In this example, we will use this trick to enforce some extra constraints on a type.\n",
    "\n",
    "To achieve this we will use *smart constructors*, this is a common Haskell pattern in a module that hides the constructors of a data type and instead expose a function with similar but constrained functionality!"
   ]
  },
  {
   "cell_type": "markdown",
   "metadata": {},
   "source": [
    "In this example we want to implement a natural number type, these are integers larger than zero. A naive way would be to implement this as\n",
    "```haskell\n",
    "module Naturals where\n",
    "\n",
    "newtype Nat = Nat Integer deriving Show\n",
    "```"
   ]
  },
  {
   "cell_type": "markdown",
   "metadata": {},
   "source": [
    "This indeed creates the namespace and a type for a `Nat` but it does not ensure that the integer is bigger than zero! \n",
    "\n",
    "Remember that the `Nat` after the `=` sign acts as the constructor of this type. Each object that we create of type `Nat` is initiated with this constructor. For example,"
   ]
  },
  {
   "cell_type": "code",
   "execution_count": null,
   "metadata": {},
   "outputs": [],
   "source": [
    "newtype Nat = Nat Integer deriving Show\n",
    "\n",
    "aNatural1 = Nat 10\n",
    "aNatural2 = Nat (-10)\n",
    "\n",
    "print $ show aNatural1\n",
    "print $ show aNatural2"
   ]
  },
  {
   "cell_type": "markdown",
   "metadata": {},
   "source": [
    "When deciding what to export in your module, we can choose to hide this `Nat` constructor while still exposing the type `Nat`.\n",
    "\n",
    "But if we do this, another module that uses our `Naturals` module can never construct a `Nat` type since the constructor is hidden, so we must give an alternative."
   ]
  },
  {
   "cell_type": "markdown",
   "metadata": {},
   "source": [
    "This is where the *smart* constructor comes in. This is a function that has the same name as the constructor, but without a capital at the beginning.\n",
    "\n",
    "In addition, this function creates a `Nat` with its proper constraint of being strictly bigger than zero!"
   ]
  },
  {
   "cell_type": "markdown",
   "metadata": {},
   "source": [
    "```haskell\n",
    "module Naturals (\n",
    "  Nat\n",
    ", nat\n",
    ") where\n",
    "\n",
    "newtype Nat = Nat Integer deriving Show\n",
    "\n",
    "nat :: Integer -> Nat\n",
    "nat n = Nat (abs n)\n",
    "```"
   ]
  },
  {
   "cell_type": "markdown",
   "metadata": {},
   "source": [
    "We see here that instead of exposing the full type via `Nat (Nat)` in the exports, we have access to the creation of such a type via the function `nat`."
   ]
  },
  {
   "cell_type": "markdown",
   "metadata": {},
   "source": [
    "<div class=\"alert alert-block alert-info\">\n",
    "    Notice that the type of the constructor <code>Nat</code> given by <code>Nat :: Integer -> Nat</code> is the same as the function <code>nat</code>!\n",
    "</div>"
   ]
  },
  {
   "cell_type": "code",
   "execution_count": null,
   "metadata": {},
   "outputs": [],
   "source": [
    "module Naturals (\n",
    "  Nat\n",
    ", nat\n",
    ") where\n",
    "\n",
    "newtype Nat = Nat Integer deriving Show\n",
    "\n",
    "nat :: Integer -> Nat\n",
    "nat n = Nat (abs n)"
   ]
  },
  {
   "cell_type": "code",
   "execution_count": null,
   "metadata": {},
   "outputs": [],
   "source": [
    "import Naturals\n",
    "\n",
    "correctNatural = nat (-10)\n",
    "print $ show correctNatural"
   ]
  },
  {
   "cell_type": "markdown",
   "metadata": {},
   "source": [
    "Modules is a feature that allows us to better structure, reuse, and mantain our code."
   ]
  },
  {
   "cell_type": "markdown",
   "metadata": {},
   "source": [
    "<div class=\"alert alert-block alert-info\">\n",
    "    To discover what a module exposes, you can either look at the source code or test it out in GHCi. In GHCi import the module with a new name, for example <code>import System.Directory as SD</code>. To explore what `SD` exposed, you can now type <code>SD.</code> inline and press tab to autocomplete to discover all possibilities. In lesson 15 (learning on your own) we will explain how you can look up these things in a streamlined way.\n",
    "</div>"
   ]
  },
  {
   "cell_type": "markdown",
   "metadata": {},
   "source": [
    "## Language pragmas"
   ]
  },
  {
   "cell_type": "markdown",
   "metadata": {},
   "source": [
    "Language pragmas or also called language extensions, are a way to modify how the Haskell compiler interprets your code. \n",
    "\n",
    "Because of this, you can say that they add or alter some functionality of your Haskell code."
   ]
  },
  {
   "cell_type": "markdown",
   "metadata": {},
   "source": [
    "The syntax to add a pragma to a Haskell file is by adding the statement below at the top of the file:\n",
    "```\n",
    "{-# LANGUAGE pragme_name #-}\n",
    "```\n",
    "Pragmas are not like modules because they do not bring any new functions to Haskell, but just code functionality."
   ]
  },
  {
   "cell_type": "markdown",
   "metadata": {},
   "source": [
    "Let's look at an example where we use the **NoImplicitPrelude** pragma. \n",
    "\n",
    "When this pragma is added to your file, it prevents the default import of the **Prelude** module."
   ]
  },
  {
   "cell_type": "markdown",
   "metadata": {},
   "source": [
    "Because of this, if you can define your own versions of Prelude functions without having a name collision.\n",
    "\n",
    "One reason why this would be useful is you do not want any partial functions."
   ]
  },
  {
   "cell_type": "code",
   "execution_count": null,
   "metadata": {},
   "outputs": [],
   "source": [
    "{-# LANGUAGE NoImplicitPrelude #-}\n",
    "\n",
    "import GHC.Base (String)\n",
    "import GHC.Show (Show)\n",
    "\n",
    "data Data a b = Error a | Result b deriving Show\n",
    "\n",
    "head :: [a] -> Data String a\n",
    "head [] = Error \"Empty list!\"\n",
    "head (x:xs) = Result x\n",
    " \n",
    "tail :: [a] -> Data String [a]\n",
    "tail [] = Error \"Empty list!\"\n",
    "tail (x:xs) = Result xs"
   ]
  },
  {
   "cell_type": "markdown",
   "metadata": {},
   "source": [
    "In the example above we see because we prevent the import of Prelude we have to manually import the `String` type and the `Show` type class. "
   ]
  },
  {
   "cell_type": "markdown",
   "metadata": {},
   "source": [
    "Another reason is that you want to avoid using some of Prelude's lazy functions. So, you define them such that they are strict.\n",
    "\n",
    "To achieve this, you can use the **BangPatterns** pragma that lets you add an exclamation mark in front of variables to evaluate them strictly."
   ]
  },
  {
   "cell_type": "code",
   "execution_count": null,
   "metadata": {},
   "outputs": [],
   "source": [
    "{-# LANGUAGE BangPatterns #-}\n",
    "{-# LANGUAGE NoImplicitPrelude #-}\n",
    "\n",
    "foldl :: (b -> a -> b) -> b -> [a] -> b\n",
    "foldl f = go \n",
    "  where\n",
    "    go !z []     = z\n",
    "    go !z (x:xs) = go (f z x) xs"
   ]
  },
  {
   "cell_type": "markdown",
   "metadata": {},
   "source": [
    "Another language pragme we can look at is the **DuplicateRecordFields** pragma.\n",
    "\n",
    "It allows you to define various record syntax types that contain duplicated function names."
   ]
  },
  {
   "cell_type": "code",
   "execution_count": null,
   "metadata": {},
   "outputs": [],
   "source": [
    "{-# LANGUAGE DuplicateRecordFields #-}\n",
    "\n",
    "data UserAge = UserAge { name :: String\n",
    "                       , age :: Int }\n",
    "\n",
    "data UserHeight = UserHeight { name :: String\n",
    "                             , height :: Int }                     "
   ]
  },
  {
   "cell_type": "markdown",
   "metadata": {},
   "source": [
    "The last example we will show is how to use the **TypeApplications** pragma which allows you to use visible type application in expressions.\n",
    "\n",
    "It's just another way of how to define a type of variable. You use it such that you add the `@` symbol with the type name before the variable. "
   ]
  },
  {
   "cell_type": "code",
   "execution_count": null,
   "metadata": {},
   "outputs": [
    {
     "data": {
      "text/plain": [
       "1"
      ]
     },
     "metadata": {},
     "output_type": "display_data"
    },
    {
     "data": {
      "text/plain": [
       "1.0"
      ]
     },
     "metadata": {},
     "output_type": "display_data"
    }
   ],
   "source": [
    "{-# LANGUAGE TypeApplications #-}\n",
    "\n",
    "myInt = read @Int \"1\"\n",
    "myFloat = read @Float \"1\"\n",
    "\n",
    "myInt\n",
    "myFloat"
   ]
  },
  {
   "cell_type": "markdown",
   "metadata": {},
   "source": [
    "You can use this notation also when calling functions. In the example below we define the `Number` type that holds either a whole number, or a decimal number or a string.\n",
    "\n",
    "The parse function then takes in a string and analyzes it if it represents a whole number, a decimal number or if it's not a number at all."
   ]
  },
  {
   "cell_type": "code",
   "execution_count": null,
   "metadata": {},
   "outputs": [
    {
     "data": {
      "text/plain": [
       "WHOLE (-9223372036854775808)"
      ]
     },
     "metadata": {},
     "output_type": "display_data"
    },
    {
     "data": {
      "text/plain": [
       "WHOLE 9223372036854775808"
      ]
     },
     "metadata": {},
     "output_type": "display_data"
    },
    {
     "data": {
      "text/plain": [
       "DECIMAL 1.2345679"
      ]
     },
     "metadata": {},
     "output_type": "display_data"
    },
    {
     "data": {
      "text/plain": [
       "DECIMAL 1.23456789"
      ]
     },
     "metadata": {},
     "output_type": "display_data"
    }
   ],
   "source": [
    "{-# LANGUAGE TypeApplications #-}\n",
    "\n",
    "data Number a b = WHOLE a | DECIMAL b | NAN String deriving (Show)\n",
    "\n",
    "parse :: (Read a, Read b) => String -> Number a b\n",
    "parse inp\n",
    "  | isNumber && isDecimal = DECIMAL $ read inp\n",
    "  | isNumber = WHOLE $ read inp\n",
    "  | otherwise = NAN \"Not a valid number\"\n",
    " where\n",
    "  validChar = \".0123456789\"\n",
    "  isNumber = all (`elem` validChar) inp\n",
    "  isDecimal = '.' `elem` inp\n",
    "\n",
    "longWhole = \"9223372036854775808\"\n",
    "longDecimal = \"1.23456789\"\n",
    "\n",
    "parse @Int @Float longWhole\n",
    "parse @Integer @Float longWhole\n",
    "parse @Int @Float longDecimal\n",
    "parse @Int @Double longDecimal"
   ]
  },
  {
   "cell_type": "markdown",
   "metadata": {},
   "source": [
    "When we call the `parse` function, we specify the types for the variable `a` and `b`. \n",
    "\n",
    "This enables us to choose what kind of precision we want when parsing a whole or a decimal number."
   ]
  },
  {
   "cell_type": "markdown",
   "metadata": {},
   "source": [
    "As a side note, we state here that the `@` symbol can also be used for referencing lists, which has nothing to do with type applications.\n",
    "\n",
    "In the example below, the `counts` function takes in a list of numbers and returns a list of tuples with the unique number and their appearance counts.\n",
    "\n",
    "When we pattern match the list with `(x:xs)` we also say `list@` that creates a variable named `list` which is equal to the entire list `x:xs`."
   ]
  },
  {
   "cell_type": "code",
   "execution_count": null,
   "metadata": {},
   "outputs": [],
   "source": [
    "newtype Count = Count Int deriving Show\n",
    "\n",
    "counts :: Eq a => [a] -> [(a, Count)]\n",
    "counts [] = []\n",
    "counts list@(x:xs) = (x, Count $ length (filter (== x) list)) : counts (filter (/= x) list)\n",
    "\n",
    "counts [1,2,1,4,5,2,4,3]"
   ]
  },
  {
   "cell_type": "markdown",
   "metadata": {},
   "source": [
    "There are also many other pragmas that you can add to your code. Some of them are:\n",
    "\n",
    "- **OverloadedStrings**: Lets you define variables of data types that store text by directly using a string instead of applying a helper function to it.\n",
    "\n",
    "- **TemplateHaskell**: Provides tools for Haskell meta-programming, which means that the code generates other code. It is also used in Plutus.\n",
    "\n",
    "- **ViewPatterns**: Allows for more sophisticated pattern matching."
   ]
  },
  {
   "cell_type": "markdown",
   "metadata": {},
   "source": [
    "A list of all language extensions can be found on Hackage [(2)](https://hackage.haskell.org/package/template-haskell-2.19.0.0/docs/Language-Haskell-TH.html#g:5)."
   ]
  },
  {
   "cell_type": "markdown",
   "metadata": {},
   "source": [
    "## Using cabal"
   ]
  },
  {
   "cell_type": "markdown",
   "metadata": {},
   "source": [
    "### Introduction"
   ]
  },
  {
   "cell_type": "markdown",
   "metadata": {
    "tags": []
   },
   "source": [
    "**What is cabal?**\n",
    "\n",
    "It is a Haskell package management tool that can be used from the command line, similar as **pip** for Python or **npm** for JavaScript. \n",
    "\n",
    "The name **cabal** stands for *Common Architecture for Building Applications and Libraries*."
   ]
  },
  {
   "cell_type": "markdown",
   "metadata": {},
   "source": [
    "**What is a Haskell package?**\n",
    "\n",
    "A Haskell **package** is a collection of Haskell files that defines modules. The modules contain code that offer related functionality. \n",
    "\n",
    "The reason why there are multiple modules contained in a package are: \n",
    "- a developer might not need all the functionality from the package and wants to import only certain modules\n",
    "\n",
    "- it is easier to maintain the package if the code is contained in multiple modules instead of one "
   ]
  },
  {
   "cell_type": "markdown",
   "metadata": {},
   "source": [
    "**Why do we need cabal?**\n",
    "\n",
    "Imagine we have a file that contains the molar concentrations of vitamin C, vitamin E and copper for a person's blood. \n",
    "\n",
    "The units are `mol/L` and the numbers have scientific notation.\n",
    "```\n",
    "Vitamin C: 40e-6\n",
    "Vitamin E: 50e-6\n",
    "Copper:    15e-6\n",
    "```"
   ]
  },
  {
   "cell_type": "markdown",
   "metadata": {},
   "source": [
    "Now, when you read the file and extract the strings that contain the numbers, you cannot parse them with the `read` function.\n",
    "\n",
    "After some search on Google, you find out there is a module called **Data.Scientific**, that allows you to parse the numbers in scientific format."
   ]
  },
  {
   "cell_type": "markdown",
   "metadata": {},
   "source": [
    "The parsing can be done with the `read` function:\n",
    "```haskell\n",
    "read \"40e-6\" :: Scientific\n",
    "```"
   ]
  },
  {
   "cell_type": "markdown",
   "metadata": {},
   "source": [
    "But when you try to import this module, you realize that you get an error.\n",
    "\n",
    "This is because the package **scientific** which contains this module is not installed by default when you install **GHC**."
   ]
  },
  {
   "cell_type": "markdown",
   "metadata": {},
   "source": [
    "Only **packages** that contain commonly used modules come with the default installation of Haskell. Some of them are **base**, **text** and **time**.\n",
    "\n",
    "For other packages that you might need, **cabal** can help you to install them on your OS."
   ]
  },
  {
   "cell_type": "markdown",
   "metadata": {},
   "source": [
    "### Managing packages with cabal"
   ]
  },
  {
   "cell_type": "markdown",
   "metadata": {},
   "source": [
    "**How to check if a module / package is available by default?**\n",
    "\n",
    "To check whether a module can be imported in Haskell, simply start GHCi and type `import module_name`. \n",
    "\n",
    "If the package containing the module is not installed, you will get an error. "
   ]
  },
  {
   "cell_type": "markdown",
   "metadata": {},
   "source": [
    "You can also use the TAB button for auto-completion. For instance, type `import Data.A` and hit TAB. You will get a list of all modules that start with `Data.A`. \n",
    "\n",
    "For packages, you can display the list of installed packages on your OS with the command:\n",
    "```\n",
    "cabal list --installed\n",
    "```"
   ]
  },
  {
   "cell_type": "markdown",
   "metadata": {},
   "source": [
    "**How to install a Haskell package?**\n",
    "\n",
    "When **cabal** installs a package, it downloads it from [Hackage](https://hackage.haskell.org/). As said before, we will talk about Hackage in lesson 15.\n",
    "\n",
    "In case you already know which package you need to use, you can install it with one of the commands below."
   ]
  },
  {
   "cell_type": "markdown",
   "metadata": {},
   "source": [
    "To install a package on your OS, you can use the command:\n",
    "```\n",
    "cabal install package_name\n",
    "```"
   ]
  },
  {
   "cell_type": "markdown",
   "metadata": {},
   "source": [
    "It could happen that cabal will complain if the package is in form of a library. In this case, use the command:\n",
    "```\n",
    "cabal install --lib package_name\n",
    "```"
   ]
  },
  {
   "cell_type": "markdown",
   "metadata": {},
   "source": [
    "If you download a tar.gz file of a package, you can install the package locally with the command:\n",
    "```\n",
    "cabal install ./package_name.tar.gz\n",
    "```"
   ]
  },
  {
   "cell_type": "markdown",
   "metadata": {},
   "source": [
    "An example of how to install the **scientific** package is:\n",
    "```\n",
    "cabal install --lib scientific\n",
    "```"
   ]
  },
  {
   "cell_type": "markdown",
   "metadata": {},
   "source": [
    "**How to remove a Haskell package?**\n",
    "\n",
    "Currently, **cabal** does not know how to uninstall packages.\n",
    "\n",
    "You can install the **cabal-uninstall** package that lets you remove Haskell packages.\n",
    "```\n",
    "cabal-uninstall package_name\n",
    "```"
   ]
  },
  {
   "cell_type": "markdown",
   "metadata": {},
   "source": [
    "### Building a project with cabal"
   ]
  },
  {
   "cell_type": "markdown",
   "metadata": {},
   "source": [
    "We learned now how to use **cabal** to manage Haskell packages. But **cabal** can also be used for another purpose.\n",
    "\n",
    "You can use it to build Haskell projects instead of compiling the source code with the **ghc** command."
   ]
  },
  {
   "cell_type": "markdown",
   "metadata": {},
   "source": [
    "Cabal uses a `.cabal` file that describes the building process of a project.\n",
    "\n",
    "The reasons for building projects with **cabal** instead of **ghc** are:\n",
    "- Cabal can handle a project structure that contains files in multiple folders.\n",
    "\n",
    "- In the cabal file, you can specify for each folder separately: \n",
    "  - Which of the installed packages you want to import.\n",
    "\n",
    "  - Which packages cabal should add as build dependencies.<br>\n",
    "    They will be used in the compiling process, but not installed on the OS.\n",
    "\n",
    "  - What the folder contains: the main executable file, library files or test files.\n",
    "\n",
    "- The build is more clean. All files created from the build are put in the `dist-newstyle` folder.\n",
    "\n",
    "- You can create a package with cabal and distribute it to other developers."
   ]
  },
  {
   "cell_type": "markdown",
   "metadata": {},
   "source": [
    "**Creating new project**\n",
    "\n",
    "To create a new project in cabal, create an empty folder, move into it and use one of the following commands:"
   ]
  },
  {
   "cell_type": "markdown",
   "metadata": {},
   "source": [
    "Creates a simple project:\n",
    "```\n",
    "cabal init\n",
    "```"
   ]
  },
  {
   "cell_type": "markdown",
   "metadata": {},
   "source": [
    "Creates a project by asking you multiple questions where you can choose from a set of parameters:\n",
    "```\n",
    "cabal init --interactive\n",
    "```\n",
    "**NOTE**: Initially, you should say \"no\" for a simple project. Otherwise, the command runs as in the first case."
   ]
  },
  {
   "cell_type": "markdown",
   "metadata": {},
   "source": [
    "The commands above will create a cabal file and some folders with files depending on the options you specified."
   ]
  },
  {
   "cell_type": "markdown",
   "metadata": {},
   "source": [
    "**Explaining the cabal file**\n",
    "\n",
    "Let's have a look at the contents of an example cabal file: \n",
    "```\n",
    "cabal-version:      2.4\n",
    "name:               test\n",
    "version:            0.1.0.0\n",
    "\n",
    "-- A short (one-line) description of the package.\n",
    "-- synopsis:\n",
    "\n",
    "-- A longer description of the package.\n",
    "-- description:\n",
    "\n",
    "-- A URL where users can report bugs.\n",
    "-- bug-reports:\n",
    "\n",
    "-- The license under which the package is released.\n",
    "-- license:\n",
    "author:             Luka Kurnjek\n",
    "maintainer:         luka.kurnjek@iohk.io\n",
    "\n",
    "-- A copyright notice.\n",
    "-- copyright:\n",
    "-- category:\n",
    "extra-source-files: CHANGELOG.md\n",
    "\n",
    "executable test\n",
    "    main-is:          Main.hs\n",
    "\n",
    "    -- Modules included in this executable, other than Main.\n",
    "    -- other-modules:\n",
    "\n",
    "    -- LANGUAGE extensions used by modules in this package.\n",
    "    -- other-extensions:\n",
    "    build-depends:    base \n",
    "    hs-source-dirs:   app\n",
    "    default-language: Haskell2010\n",
    "```"
   ]
  },
  {
   "cell_type": "markdown",
   "metadata": {},
   "source": [
    "The fields in the beginning are self-explanatory. You can remove any comments that start with `--`. \n",
    "\n",
    "The name of your project is set to the name of the folder on which you created the project. "
   ]
  },
  {
   "cell_type": "markdown",
   "metadata": {},
   "source": [
    "This name will also be used for the name of the package if you want to build and distribute it. \n",
    "\n",
    "In case a package with the name you set already exists on Hackage, you will be notified. "
   ]
  },
  {
   "cell_type": "markdown",
   "metadata": {},
   "source": [
    "After the initial 5 fields, the `extra-source-files` field specifies the file that contains the copyright notice.\n",
    "\n",
    "Then the fields that specify the project folder types are defined, which also contain build instructions."
   ]
  },
  {
   "cell_type": "markdown",
   "metadata": {},
   "source": [
    "One of the more often used fields are:\n",
    "- `executable`: defines information for the executable part of project\n",
    "\n",
    "- `library`: defines information for the supporting libraries of the project\n",
    "\n",
    "- `test-suite`: defines information for the testing part of the project "
   ]
  },
  {
   "cell_type": "markdown",
   "metadata": {},
   "source": [
    "For the `executable` filed, you first need to add the name of the project and then configuration options:\n",
    "- `main-is` defines the Haskell file which gets executed when the program is started (usually Main.hs). \n",
    "\n",
    "- `build-depends` defines the packages needed to build this project (base package is included by default)\n",
    "\n",
    "- `hs-source-dirs` defines the name of the folder where the main executable file is residing\n",
    "\n",
    "- `default-language` specifies the name of the Haskell release you want to use."
   ]
  },
  {
   "cell_type": "markdown",
   "metadata": {},
   "source": [
    "Also, other configuration options can be added to the executable section as:\n",
    "- `import` defines which of the already installed modules to import when compiling the main executable\n",
    "\n",
    "- `ghc-options` defines which compiler flags to use when building this code"
   ]
  },
  {
   "cell_type": "markdown",
   "metadata": {},
   "source": [
    "Cabal supports equality and inequality operators for comparing package versions. \n",
    "\n",
    "For instance, when you define the `build-depends` you can set conditions for library versions. "
   ]
  },
  {
   "cell_type": "markdown",
   "metadata": {},
   "source": [
    "You could for write: \n",
    "```\n",
    "build-depends: base ^>=4.14.3.0\n",
    "```"
   ]
  },
  {
   "cell_type": "markdown",
   "metadata": {},
   "source": [
    "The carrot operator `^` is used to treat `^>= x.y.z` as identical to `>= x.y.z && < x.(y + 1)`. \n",
    "\n",
    "So in our case, we could write the above statement also as: \n",
    "```\n",
    "base >= 4.14.3.0 && < 4.15\n",
    "``` "
   ]
  },
  {
   "cell_type": "markdown",
   "metadata": {},
   "source": [
    "For the `library` and `test-suite` fields, the same options and rules apply as for the `executable` field.\n",
    "\n",
    "Common folder naming practices for these fields are:\n",
    "- `src` or `lib` for `library` field\n",
    "\n",
    "- `test` for `test-suite` field"
   ]
  },
  {
   "cell_type": "markdown",
   "metadata": {},
   "source": [
    "**Building and running your project**\n",
    "\n",
    "All the command in this section need to be performed inside the project folder at the top level."
   ]
  },
  {
   "cell_type": "markdown",
   "metadata": {},
   "source": [
    "To build your project, you run the command:\n",
    "```\n",
    "cabal build\n",
    "```"
   ]
  },
  {
   "cell_type": "markdown",
   "metadata": {},
   "source": [
    "To run your project, you run the command:\n",
    "```\n",
    "cabal exec project_name\n",
    "```"
   ]
  },
  {
   "cell_type": "markdown",
   "metadata": {},
   "source": [
    "You can do both actions also with one command:\n",
    "```\n",
    "cabal run\n",
    "```"
   ]
  },
  {
   "cell_type": "markdown",
   "metadata": {},
   "source": [
    "## That's it for today!"
   ]
  }
 ],
 "metadata": {
  "celltoolbar": "Slideshow",
  "kernelspec": {
   "display_name": "Haskell",
   "language": "haskell",
   "name": "haskell"
  },
  "language_info": {
   "codemirror_mode": "ihaskell",
   "file_extension": ".hs",
   "mimetype": "text/x-haskell",
   "name": "haskell",
   "pygments_lexer": "Haskell",
   "version": "9.0.2"
  }
 },
 "nbformat": 4,
 "nbformat_minor": 4
}
