{
 "cells": [
  {
   "cell_type": "code",
   "execution_count": 2,
   "metadata": {},
   "outputs": [],
   "source": [
    ":opt no-lint"
   ]
  },
  {
   "cell_type": "markdown",
   "metadata": {},
   "source": [
    "# Applicative Functor"
   ]
  },
  {
   "cell_type": "markdown",
   "metadata": {},
   "source": [
    "## Outline\n",
    "\n",
    "1. s"
   ]
  },
  {
   "cell_type": "markdown",
   "metadata": {},
   "source": [
    "## Why `Applicative` functors?"
   ]
  },
  {
   "cell_type": "markdown",
   "metadata": {},
   "source": [
    "### Our journey until now"
   ]
  },
  {
   "cell_type": "markdown",
   "metadata": {},
   "source": [
    "The reason we need Applicative Functors (or Applicatives for short) is due to a limitation of regular `Functors`.\n",
    "\n",
    "To provide a bit of context lets do a quick recap of our abstraction journey of `map` and `Functor`."
   ]
  },
  {
   "cell_type": "markdown",
   "metadata": {},
   "source": [
    "We started with a bunch of recursive functions:"
   ]
  },
  {
   "cell_type": "markdown",
   "metadata": {},
   "source": [
    "```haskell\n",
    "lowerString :: [Char] -> [Char]\n",
    "lowerString []     = []\n",
    "lowerString (x:xs) = toLower x : lowerString xs\n",
    "\n",
    "addOne :: Num a => [a] -> [a]\n",
    "addOne []     = []\n",
    "addOne (x:xs) = (x + 1) : addOne xs\n",
    "\n",
    "boolToBit :: [Bool] -> [Char]\n",
    "boolToBit []     = []\n",
    "boolToBit (x:xs) = (if x then '1' else '0') : boolToBit xs\n",
    "```"
   ]
  },
  {
   "cell_type": "markdown",
   "metadata": {},
   "source": [
    "These functions were usefull, but they were limited to applying a specific funtion to a list of specific types. However, we noticed that they had common traits that we could extract and we got the `map` function:"
   ]
  },
  {
   "cell_type": "markdown",
   "metadata": {},
   "source": [
    "```haskell\n",
    "map :: (a -> b) -> [a] -> [b]\n",
    "map _ []     = []\n",
    "map f (x:xs) = f x : map f xs\n",
    "\n",
    "\n",
    "lowerString = map toLower\n",
    "\n",
    "addOne = map (+1)\n",
    "\n",
    "boolToBit = map (\\x -> if x then '1' else '0')\n",
    "```"
   ]
  },
  {
   "cell_type": "markdown",
   "metadata": {},
   "source": [
    "The `map` function is a more powerful version of these functions because it's more general. Now, we can apply any function to a list of values. And because its more general, we can recreate the original functions by passing the concrete function we want to apply to the values."
   ]
  },
  {
   "cell_type": "markdown",
   "metadata": {},
   "source": [
    "But then, we faced a problem. `map` only works for lists. But there are plenty of structures with values we want to manipulate. And if we implement their own map-like functions:"
   ]
  },
  {
   "cell_type": "markdown",
   "metadata": {},
   "source": [
    "```haskell\n",
    "map :: (a -> b) -> [a] -> [b]\n",
    "map _ []     = []\n",
    "map f (x:xs) = f x : map f xs\n",
    "\n",
    "\n",
    "\n",
    "maybeMap :: (a -> b) -> Maybe a -> Maybe b\n",
    "maybeMap _ Nothing  = Nothing\n",
    "maybeMap f (Just x) = Just (f x)\n",
    "\n",
    "\n",
    "\n",
    "treeMap :: (a -> b) -> Tree a -> Tree b\n",
    "treeMap f (Leaf x)       = Leaf (f x)\n",
    "treeMap f (Node lt x rt) = Node (treeMap f lt) (f x) (treeMap f rt)\n",
    "```"
   ]
  },
  {
   "cell_type": "markdown",
   "metadata": {},
   "source": [
    "We realize that these functions were useful, but they were limited to specific structures. However, they had common traits that we could extract. And that's how we got the `Functor` type class:"
   ]
  },
  {
   "cell_type": "markdown",
   "metadata": {},
   "source": [
    "A `Functor` is a type that can apply a function to the values of its structure without modifying the structure itself.\n",
    "\n",
    "```haskell\n",
    "class Functor f where\n",
    "    fmap :: (a -> b) -> f a -> f b\n",
    "    \n",
    "    (<$) ::     a    -> f b -> f a\n",
    "    (<$) =  fmap . const\n",
    "    {-# MINIMAL fmap #-}\n",
    "```\n",
    "**Identity law**\n",
    "```haskell\n",
    "fmap id == id\n",
    "```\n",
    "**Composition law**\n",
    "```haskell\n",
    "fmap (f . g) == fmap f . fmap g\n",
    "```"
   ]
  },
  {
   "cell_type": "markdown",
   "metadata": {},
   "source": [
    "The `Functor` type class is a more powerful version of those functions because it's more general. Now, we can apply any function to any structure that is an instance of `Functor`. And, of course, we obtain what we had before, and more, by creating the instances: "
   ]
  },
  {
   "cell_type": "markdown",
   "metadata": {},
   "source": [
    "```haskell\n",
    "instance Functor [] where\n",
    "  -- fmap :: (a -> b) -> [a] -> [b]\n",
    "  fmap _ []     = []\n",
    "  fmap f (x:xs) = f x : fmap f xs\n",
    "\n",
    "\n",
    "instance Functor Maybe where\n",
    "  -- fmap :: (a -> b) -> Maybe a -> Maybe b\n",
    "  fmap _ Nothing  = Nothing\n",
    "  fmap f (Just x) = Just (f x)\n",
    "  \n",
    "  \n",
    "instance Functor Tree where\n",
    "  -- fmap :: (a -> b) -> Tree a -> Tree b\n",
    "  fmap f (Leaf x)       = Leaf (f x)\n",
    "  fmap f (Node lt x rt) = Node (fmap f lt) (f x) (fmap f rt)\n",
    "```"
   ]
  },
  {
   "cell_type": "markdown",
   "metadata": {},
   "source": [
    "As you can see, every time we extracted a more general expression we got a more powerful abstraction. But there are cases when `Functor` is not enough."
   ]
  },
  {
   "cell_type": "markdown",
   "metadata": {},
   "source": [
    "### The limits of `Functor`"
   ]
  },
  {
   "cell_type": "markdown",
   "metadata": {},
   "source": [
    "Let's try applying a few functions to a `Functor`. Let's say the `Maybe` functor: "
   ]
  },
  {
   "cell_type": "code",
   "execution_count": 32,
   "metadata": {},
   "outputs": [
    {
     "data": {
      "text/html": [
       "<style>/* Styles used for the Hoogle display in the pager */\n",
       ".hoogle-doc {\n",
       "display: block;\n",
       "padding-bottom: 1.3em;\n",
       "padding-left: 0.4em;\n",
       "}\n",
       ".hoogle-code {\n",
       "display: block;\n",
       "font-family: monospace;\n",
       "white-space: pre;\n",
       "}\n",
       ".hoogle-text {\n",
       "display: block;\n",
       "}\n",
       ".hoogle-name {\n",
       "color: green;\n",
       "font-weight: bold;\n",
       "}\n",
       ".hoogle-head {\n",
       "font-weight: bold;\n",
       "}\n",
       ".hoogle-sub {\n",
       "display: block;\n",
       "margin-left: 0.4em;\n",
       "}\n",
       ".hoogle-package {\n",
       "font-weight: bold;\n",
       "font-style: italic;\n",
       "}\n",
       ".hoogle-module {\n",
       "font-weight: bold;\n",
       "}\n",
       ".hoogle-class {\n",
       "font-weight: bold;\n",
       "}\n",
       ".get-type {\n",
       "color: green;\n",
       "font-weight: bold;\n",
       "font-family: monospace;\n",
       "display: block;\n",
       "white-space: pre-wrap;\n",
       "}\n",
       ".show-type {\n",
       "color: green;\n",
       "font-weight: bold;\n",
       "font-family: monospace;\n",
       "margin-left: 1em;\n",
       "}\n",
       ".mono {\n",
       "font-family: monospace;\n",
       "display: block;\n",
       "}\n",
       ".err-msg {\n",
       "color: red;\n",
       "font-style: italic;\n",
       "font-family: monospace;\n",
       "white-space: pre;\n",
       "display: block;\n",
       "}\n",
       "#unshowable {\n",
       "color: red;\n",
       "font-weight: bold;\n",
       "}\n",
       ".err-msg.in.collapse {\n",
       "padding-top: 0.7em;\n",
       "}\n",
       ".highlight-code {\n",
       "white-space: pre;\n",
       "font-family: monospace;\n",
       "}\n",
       ".suggestion-warning { \n",
       "font-weight: bold;\n",
       "color: rgb(200, 130, 0);\n",
       "}\n",
       ".suggestion-error { \n",
       "font-weight: bold;\n",
       "color: red;\n",
       "}\n",
       ".suggestion-name {\n",
       "font-weight: bold;\n",
       "}\n",
       "</style><span class='get-type'>(+1) :: forall a. Num a => a -> a</span>"
      ],
      "text/plain": [
       "(+1) :: forall a. Num a => a -> a"
      ]
     },
     "metadata": {},
     "output_type": "display_data"
    },
    {
     "data": {
      "text/html": [
       "<style>/* Styles used for the Hoogle display in the pager */\n",
       ".hoogle-doc {\n",
       "display: block;\n",
       "padding-bottom: 1.3em;\n",
       "padding-left: 0.4em;\n",
       "}\n",
       ".hoogle-code {\n",
       "display: block;\n",
       "font-family: monospace;\n",
       "white-space: pre;\n",
       "}\n",
       ".hoogle-text {\n",
       "display: block;\n",
       "}\n",
       ".hoogle-name {\n",
       "color: green;\n",
       "font-weight: bold;\n",
       "}\n",
       ".hoogle-head {\n",
       "font-weight: bold;\n",
       "}\n",
       ".hoogle-sub {\n",
       "display: block;\n",
       "margin-left: 0.4em;\n",
       "}\n",
       ".hoogle-package {\n",
       "font-weight: bold;\n",
       "font-style: italic;\n",
       "}\n",
       ".hoogle-module {\n",
       "font-weight: bold;\n",
       "}\n",
       ".hoogle-class {\n",
       "font-weight: bold;\n",
       "}\n",
       ".get-type {\n",
       "color: green;\n",
       "font-weight: bold;\n",
       "font-family: monospace;\n",
       "display: block;\n",
       "white-space: pre-wrap;\n",
       "}\n",
       ".show-type {\n",
       "color: green;\n",
       "font-weight: bold;\n",
       "font-family: monospace;\n",
       "margin-left: 1em;\n",
       "}\n",
       ".mono {\n",
       "font-family: monospace;\n",
       "display: block;\n",
       "}\n",
       ".err-msg {\n",
       "color: red;\n",
       "font-style: italic;\n",
       "font-family: monospace;\n",
       "white-space: pre;\n",
       "display: block;\n",
       "}\n",
       "#unshowable {\n",
       "color: red;\n",
       "font-weight: bold;\n",
       "}\n",
       ".err-msg.in.collapse {\n",
       "padding-top: 0.7em;\n",
       "}\n",
       ".highlight-code {\n",
       "white-space: pre;\n",
       "font-family: monospace;\n",
       "}\n",
       ".suggestion-warning { \n",
       "font-weight: bold;\n",
       "color: rgb(200, 130, 0);\n",
       "}\n",
       ".suggestion-error { \n",
       "font-weight: bold;\n",
       "color: red;\n",
       "}\n",
       ".suggestion-name {\n",
       "font-weight: bold;\n",
       "}\n",
       "</style><span class='get-type'>(+1) <$> Just 3 :: forall b. Num b => Maybe b</span>"
      ],
      "text/plain": [
       "(+1) <$> Just 3 :: forall b. Num b => Maybe b"
      ]
     },
     "metadata": {},
     "output_type": "display_data"
    },
    {
     "data": {
      "text/plain": [
       "Just 4"
      ]
     },
     "metadata": {},
     "output_type": "display_data"
    },
    {
     "data": {
      "text/html": [
       "<style>/* Styles used for the Hoogle display in the pager */\n",
       ".hoogle-doc {\n",
       "display: block;\n",
       "padding-bottom: 1.3em;\n",
       "padding-left: 0.4em;\n",
       "}\n",
       ".hoogle-code {\n",
       "display: block;\n",
       "font-family: monospace;\n",
       "white-space: pre;\n",
       "}\n",
       ".hoogle-text {\n",
       "display: block;\n",
       "}\n",
       ".hoogle-name {\n",
       "color: green;\n",
       "font-weight: bold;\n",
       "}\n",
       ".hoogle-head {\n",
       "font-weight: bold;\n",
       "}\n",
       ".hoogle-sub {\n",
       "display: block;\n",
       "margin-left: 0.4em;\n",
       "}\n",
       ".hoogle-package {\n",
       "font-weight: bold;\n",
       "font-style: italic;\n",
       "}\n",
       ".hoogle-module {\n",
       "font-weight: bold;\n",
       "}\n",
       ".hoogle-class {\n",
       "font-weight: bold;\n",
       "}\n",
       ".get-type {\n",
       "color: green;\n",
       "font-weight: bold;\n",
       "font-family: monospace;\n",
       "display: block;\n",
       "white-space: pre-wrap;\n",
       "}\n",
       ".show-type {\n",
       "color: green;\n",
       "font-weight: bold;\n",
       "font-family: monospace;\n",
       "margin-left: 1em;\n",
       "}\n",
       ".mono {\n",
       "font-family: monospace;\n",
       "display: block;\n",
       "}\n",
       ".err-msg {\n",
       "color: red;\n",
       "font-style: italic;\n",
       "font-family: monospace;\n",
       "white-space: pre;\n",
       "display: block;\n",
       "}\n",
       "#unshowable {\n",
       "color: red;\n",
       "font-weight: bold;\n",
       "}\n",
       ".err-msg.in.collapse {\n",
       "padding-top: 0.7em;\n",
       "}\n",
       ".highlight-code {\n",
       "white-space: pre;\n",
       "font-family: monospace;\n",
       "}\n",
       ".suggestion-warning { \n",
       "font-weight: bold;\n",
       "color: rgb(200, 130, 0);\n",
       "}\n",
       ".suggestion-error { \n",
       "font-weight: bold;\n",
       "color: red;\n",
       "}\n",
       ".suggestion-name {\n",
       "font-weight: bold;\n",
       "}\n",
       "</style><span class='get-type'>(+) :: forall a. Num a => a -> a -> a</span>"
      ],
      "text/plain": [
       "(+) :: forall a. Num a => a -> a -> a"
      ]
     },
     "metadata": {},
     "output_type": "display_data"
    },
    {
     "data": {
      "text/html": [
       "<style>/* Styles used for the Hoogle display in the pager */\n",
       ".hoogle-doc {\n",
       "display: block;\n",
       "padding-bottom: 1.3em;\n",
       "padding-left: 0.4em;\n",
       "}\n",
       ".hoogle-code {\n",
       "display: block;\n",
       "font-family: monospace;\n",
       "white-space: pre;\n",
       "}\n",
       ".hoogle-text {\n",
       "display: block;\n",
       "}\n",
       ".hoogle-name {\n",
       "color: green;\n",
       "font-weight: bold;\n",
       "}\n",
       ".hoogle-head {\n",
       "font-weight: bold;\n",
       "}\n",
       ".hoogle-sub {\n",
       "display: block;\n",
       "margin-left: 0.4em;\n",
       "}\n",
       ".hoogle-package {\n",
       "font-weight: bold;\n",
       "font-style: italic;\n",
       "}\n",
       ".hoogle-module {\n",
       "font-weight: bold;\n",
       "}\n",
       ".hoogle-class {\n",
       "font-weight: bold;\n",
       "}\n",
       ".get-type {\n",
       "color: green;\n",
       "font-weight: bold;\n",
       "font-family: monospace;\n",
       "display: block;\n",
       "white-space: pre-wrap;\n",
       "}\n",
       ".show-type {\n",
       "color: green;\n",
       "font-weight: bold;\n",
       "font-family: monospace;\n",
       "margin-left: 1em;\n",
       "}\n",
       ".mono {\n",
       "font-family: monospace;\n",
       "display: block;\n",
       "}\n",
       ".err-msg {\n",
       "color: red;\n",
       "font-style: italic;\n",
       "font-family: monospace;\n",
       "white-space: pre;\n",
       "display: block;\n",
       "}\n",
       "#unshowable {\n",
       "color: red;\n",
       "font-weight: bold;\n",
       "}\n",
       ".err-msg.in.collapse {\n",
       "padding-top: 0.7em;\n",
       "}\n",
       ".highlight-code {\n",
       "white-space: pre;\n",
       "font-family: monospace;\n",
       "}\n",
       ".suggestion-warning { \n",
       "font-weight: bold;\n",
       "color: rgb(200, 130, 0);\n",
       "}\n",
       ".suggestion-error { \n",
       "font-weight: bold;\n",
       "color: red;\n",
       "}\n",
       ".suggestion-name {\n",
       "font-weight: bold;\n",
       "}\n",
       "</style><span class='get-type'>(+) <$> Just 3 :: forall a. Num a => Maybe (a -> a)</span>"
      ],
      "text/plain": [
       "(+) <$> Just 3 :: forall a. Num a => Maybe (a -> a)"
      ]
     },
     "metadata": {},
     "output_type": "display_data"
    },
    {
     "data": {
      "text/html": [
       "<style>/* Styles used for the Hoogle display in the pager */\n",
       ".hoogle-doc {\n",
       "display: block;\n",
       "padding-bottom: 1.3em;\n",
       "padding-left: 0.4em;\n",
       "}\n",
       ".hoogle-code {\n",
       "display: block;\n",
       "font-family: monospace;\n",
       "white-space: pre;\n",
       "}\n",
       ".hoogle-text {\n",
       "display: block;\n",
       "}\n",
       ".hoogle-name {\n",
       "color: green;\n",
       "font-weight: bold;\n",
       "}\n",
       ".hoogle-head {\n",
       "font-weight: bold;\n",
       "}\n",
       ".hoogle-sub {\n",
       "display: block;\n",
       "margin-left: 0.4em;\n",
       "}\n",
       ".hoogle-package {\n",
       "font-weight: bold;\n",
       "font-style: italic;\n",
       "}\n",
       ".hoogle-module {\n",
       "font-weight: bold;\n",
       "}\n",
       ".hoogle-class {\n",
       "font-weight: bold;\n",
       "}\n",
       ".get-type {\n",
       "color: green;\n",
       "font-weight: bold;\n",
       "font-family: monospace;\n",
       "display: block;\n",
       "white-space: pre-wrap;\n",
       "}\n",
       ".show-type {\n",
       "color: green;\n",
       "font-weight: bold;\n",
       "font-family: monospace;\n",
       "margin-left: 1em;\n",
       "}\n",
       ".mono {\n",
       "font-family: monospace;\n",
       "display: block;\n",
       "}\n",
       ".err-msg {\n",
       "color: red;\n",
       "font-style: italic;\n",
       "font-family: monospace;\n",
       "white-space: pre;\n",
       "display: block;\n",
       "}\n",
       "#unshowable {\n",
       "color: red;\n",
       "font-weight: bold;\n",
       "}\n",
       ".err-msg.in.collapse {\n",
       "padding-top: 0.7em;\n",
       "}\n",
       ".highlight-code {\n",
       "white-space: pre;\n",
       "font-family: monospace;\n",
       "}\n",
       ".suggestion-warning { \n",
       "font-weight: bold;\n",
       "color: rgb(200, 130, 0);\n",
       "}\n",
       ".suggestion-error { \n",
       "font-weight: bold;\n",
       "color: red;\n",
       "}\n",
       ".suggestion-name {\n",
       "font-weight: bold;\n",
       "}\n",
       "</style><span class='get-type'>almostThere :: forall b. Num b => Maybe (Maybe b)</span>"
      ],
      "text/plain": [
       "almostThere :: forall b. Num b => Maybe (Maybe b)"
      ]
     },
     "metadata": {},
     "output_type": "display_data"
    },
    {
     "data": {
      "text/plain": [
       "Just (Just 5)"
      ]
     },
     "metadata": {},
     "output_type": "display_data"
    }
   ],
   "source": [
    ":t (+1)             -- Int -> Int\n",
    ":t (+1) <$> Just 3  -- Maybe Int\n",
    "(+1) <$> Just 3\n",
    "\n",
    "-----------------------------------------------------------------\n",
    "\n",
    "-- Add (Just 3) and (Just 2)?\n",
    ":t (+)             -- Int -> Int -> Int\n",
    ":t (+) <$> Just 3  -- Maybe (Int -> Int)\n",
    "\n",
    "-----------------------------------------------------------------\n",
    "\n",
    "almostThere = (<$> Just 3) <$> ((+) <$> Just 2) \n",
    "\n",
    ":t  almostThere -- Maybe (Maybe Int)\n",
    "almostThere"
   ]
  },
  {
   "cell_type": "markdown",
   "metadata": {},
   "source": [
    "As you can see with the first example, we have no issue fmapping the a function +1 to Just 3. But what if we want to add two functors? If we check the result of applying the plus operator to Just 3, we get a function at the functor level. We are not prepared for this!\n",
    "\n",
    "We can use fmap to take regular functions and apply them to functors. But we don't have a way to apply functions that already are at the functor level to functors. In the last example, we did some juggling to get almost what we needed. We managed to add the values but we ended up with duplicated functors."
   ]
  },
  {
   "cell_type": "markdown",
   "metadata": {},
   "source": [
    "The worst thing is that, this is a really common scenario. We may want to add two optional values that we retrieved from our database, maybe we want to apply a function to combine 3 trees into one, it's more common to have to work with multiple functors than with a single one. So, we need to solve this. \n",
    "\n",
    "\n",
    "One solution would be to create another versions of `fmap` that can handle a function of two arguments. For example, like this:"
   ]
  },
  {
   "cell_type": "code",
   "execution_count": 35,
   "metadata": {},
   "outputs": [
    {
     "data": {
      "text/plain": [
       "Just 5"
      ]
     },
     "metadata": {},
     "output_type": "display_data"
    }
   ],
   "source": [
    "fmap2 :: (a -> b -> c) -> Maybe a -> Maybe b -> Maybe c\n",
    "fmap2 f (Just a) (Just b) = Just (f a b)\n",
    "fmap2 _ _ _               = Nothing\n",
    "\n",
    "\n",
    "\n",
    "fmap2 (+) (Just 3) (Just 2)"
   ]
  },
  {
   "cell_type": "markdown",
   "metadata": {},
   "source": [
    "We take a binary function and two `Maybe` functors. If both values are `Just`, we apply the binary function, else, we return nothing because, if we are missing one or both values, we have no way of returning a valid result."
   ]
  },
  {
   "cell_type": "markdown",
   "metadata": {},
   "source": [
    "That would solve the problem. So in theory, we could create a type class called, for example:"
   ]
  },
  {
   "cell_type": "markdown",
   "metadata": {},
   "source": [
    "```haskell\n",
    "class Functor2 where\n",
    "    fmap2 :: (a -> b -> c) -> f a -> f b -> f c\n",
    "```"
   ]
  },
  {
   "cell_type": "markdown",
   "metadata": {},
   "source": [
    "But that only works for binary functions. If we need to use a function that takes three, four, or five arguments, we would need to create:"
   ]
  },
  {
   "cell_type": "markdown",
   "metadata": {},
   "source": [
    "```haskell\n",
    "class Functor3 where\n",
    "    fmap3 :: (a -> b -> c -> d) -> f a -> f b -> f c -> f d\n",
    "\n",
    "class Functor4 where\n",
    "    fmap4 :: (a -> b -> c -> d -> e) -> f a -> f b -> f c -> f d -> f e\n",
    "\n",
    "class Functor5 where\n",
    "    fmap5 :: (a -> b -> c -> d -> e -> g) -> f a -> f b -> f c -> f d -> f e -> f g\n",
    "```"
   ]
  },
  {
   "cell_type": "markdown",
   "metadata": {},
   "source": [
    "You know where we're going with this. This method is unsustainable. It doesn't matter how many type classes you create, there's always a usecase that requires more parameters. And, on top of that, we would have maybe dozens of type classes representing the same concept. \n",
    "\n",
    "But don't worry, thanks to currying, there's a better way!"
   ]
  },
  {
   "cell_type": "markdown",
   "metadata": {},
   "source": [
    "# Function application at the `Functor` level 🥇"
   ]
  },
  {
   "cell_type": "markdown",
   "metadata": {},
   "source": [
    "This is the key idea of the lesson. If you understand this section, the rest of the lecture will flow naturally."
   ]
  },
  {
   "cell_type": "markdown",
   "metadata": {},
   "source": [
    "Ok, so, we know that writing an `fmap` for every possible number of arguments is not feasable. But we don't have to. If we take a look at Haskell's function application:"
   ]
  },
  {
   "cell_type": "markdown",
   "metadata": {},
   "source": [
    "```haskell\n",
    "( ) :: (a -> b) -> a -> b\n",
    "($) :: (a -> b) -> a -> b\n",
    "\n",
    "result = (+1) 3 -- 4\n",
    "--           ^\n",
    "--           |\n",
    "--    Function application\n",
    "--            |\n",
    "--            ⌄\n",
    "result = (+1) $ 3\n",
    "```"
   ]
  },
  {
   "cell_type": "markdown",
   "metadata": {},
   "source": [
    "It takes a function that goes from `a` to `b` and a value of type `a` and returns a value of type `b`. It seems as if we could only apply a function of one argument to a value, but we know that in practice we can do this:"
   ]
  },
  {
   "cell_type": "code",
   "execution_count": 36,
   "metadata": {},
   "outputs": [
    {
     "data": {
      "text/plain": [
       "27"
      ]
     },
     "metadata": {},
     "output_type": "display_data"
    }
   ],
   "source": [
    "calculate :: Int -> Int -> Int -> Int\n",
    "calculate a b c = a + b * c\n",
    "\n",
    "calculate 3 6 4\n",
    "--       ^ ^ ^\n",
    "--       | | |\n",
    "--    Function application"
   ]
  },
  {
   "cell_type": "markdown",
   "metadata": {},
   "source": [
    "That is because all functions are curried, meaning they all take one argument and the `b` type returned by function application can be of any type, including a function. So, we can apply the `calculate` function to `3` to get a function that takes two parameters, then apply it to `6` to get a function that takes one parameter, and finally apply it to `4` to get an `Int`.\n",
    "\n",
    "This is not news, we already knew all that from the first lessons of the course. What is new though, is that now we want to create an operator that works like function application, but for functors. That way, it will work for functions of any number of arguments."
   ]
  },
  {
   "cell_type": "markdown",
   "metadata": {},
   "source": [
    "So, if regular function application has this signature:"
   ]
  },
  {
   "cell_type": "markdown",
   "metadata": {},
   "source": [
    "```haskell\n",
    "( ) ::                 (a -> b) -> a -> b\n",
    "```"
   ]
  },
  {
   "cell_type": "markdown",
   "metadata": {},
   "source": [
    "How does the type signature of the same function would look if everything was a `Functor`? Well, you guessed it, like this:"
   ]
  },
  {
   "cell_type": "markdown",
   "metadata": {},
   "source": [
    "```haskell\n",
    "(<*>) :: Functor f => f (a -> b) -> f a -> f b\n",
    "```"
   ]
  },
  {
   "cell_type": "markdown",
   "metadata": {},
   "source": [
    "We call this the \"star\" or \"ap\" operator. We use an operator because, of course, it will be used mostly as an infix function. And the type reflects that the behavior is the same as regular function application but lifted to work at the functor level.\n",
    "\n",
    "It's important not to confuse the signatures of this functor-level function application with fmap:"
   ]
  },
  {
   "cell_type": "markdown",
   "metadata": {},
   "source": [
    "```haskell\n",
    "(<$>) ::                (a -> b) -> f a -> f b\n",
    "```"
   ]
  },
  {
   "cell_type": "markdown",
   "metadata": {},
   "source": [
    "`fmap` takes a function that is not at the functor level and applies it to a functor. Once you applied the function the first time, the end result, be it the final value or a partially applied function, is now at the functor level. So we can not use `fmap` anymore."
   ]
  },
  {
   "cell_type": "markdown",
   "metadata": {},
   "source": [
    "Ok, so let's try defining it specifically for optional types. For `Maybe` values, this star operator would look like this: "
   ]
  },
  {
   "cell_type": "markdown",
   "metadata": {},
   "source": [
    "```haskell\n",
    "(<*>) :: Maybe (a -> b) -> Maybe a -> Maybe b\n",
    "Just f  <*> Just x  = Just (f x) \n",
    "_       <*> _       = Nothing \n",
    "\n",
    "```"
   ]
  },
  {
   "cell_type": "markdown",
   "metadata": {},
   "source": [
    "We have to patternmatch to make sure that we actually have both the function and the value, apply the funciton to get a value of type `b`, and wrap it again with the Just constructor. If we don't have both, we can't return a valid result, so we return `Nothing`. \n",
    "\n",
    "This is really similar to the `fmap` definition. With the caveat that now we have to take into account that the function is optional too, not just the value.\n",
    "\n",
    "Now that we have our definition, let's try it out!:"
   ]
  },
  {
   "cell_type": "code",
   "execution_count": 40,
   "metadata": {},
   "outputs": [
    {
     "data": {
      "text/plain": [
       "Just 4"
      ]
     },
     "metadata": {},
     "output_type": "display_data"
    },
    {
     "data": {
      "text/plain": [
       "Just 5"
      ]
     },
     "metadata": {},
     "output_type": "display_data"
    },
    {
     "data": {
      "text/plain": [
       "Just 11"
      ]
     },
     "metadata": {},
     "output_type": "display_data"
    }
   ],
   "source": [
    "Just (+1) <*> (Just 3)\n",
    "\n",
    "Just (+) <*> (Just 3) <*> (Just 2)\n",
    "\n",
    "calculate :: Int -> Int -> Int -> Int\n",
    "calculate a b c = a + b * c\n",
    "\n",
    "Just calculate <*> (Just 3) <*> (Just 2) <*> (Just 4)"
   ]
  },
  {
   "cell_type": "markdown",
   "metadata": {},
   "source": [
    "Awesome, it seems that it works. But, I asured you that the star operator is function application at the functor level, and I compared its type with the function application type to build my case. It's time I prove it to you.\n",
    "\n",
    "To prove that the star operator is function application at the functor level, I'm going to create a type that doesn't do anything. If the structure doesn't do anything, then the star operator should return the same result as regular function application, right? So let's do that.\n",
    "\n",
    "How do you imagine a type that doesn't do anything looks like? It's actually pretty straight forward. We need a type that wraps another type and doesn't provide any functionality. Like this:"
   ]
  },
  {
   "cell_type": "code",
   "execution_count": 15,
   "metadata": {},
   "outputs": [],
   "source": [
    "newtype Identity a = Identity { getIdentity :: a } deriving (Show, Eq)"
   ]
  },
  {
   "cell_type": "markdown",
   "metadata": {},
   "source": [
    "As you can see, if we have a type with only one constructor that the only thing it does is to hold the value inside. It's virtually the same as the underlying type but with the extra anoyance of having to wrap and unwrap it.\n",
    "\n",
    "We call this type the `Identity` type for the same reasons we call the identity values and the identity function like that. They preserve the identity of the values they interact with. They don't do anything basically.\n",
    "\n",
    "Remember the newtype wrappers of the Semigroup and Monoid lessons? Those weren't identities because the behaviour we gave them when defining their Semigroup and Monoid instances actually did something. So now, we have to also implement the type class instances in a way that they have no effect."
   ]
  },
  {
   "cell_type": "markdown",
   "metadata": {},
   "source": [
    "Ok, so, let's implement the `Functor` instance for the `Identity` type:"
   ]
  },
  {
   "cell_type": "code",
   "execution_count": 16,
   "metadata": {},
   "outputs": [],
   "source": [
    "instance Functor Identity where\n",
    "  --fmap :: (a -> b) -> Identity a -> Identity b\n",
    "  fmap f (Identity a) = Identity (f a)"
   ]
  },
  {
   "cell_type": "markdown",
   "metadata": {},
   "source": [
    "To do that, we'll just pattern match to extract the internal value, apply the function and wrap it again. It's the same as the `Just` case of the `Maybe` type, with the difference that, because we only have one constructor, there's no option to fail, so we'll always be able to apply the function to the underlying value."
   ]
  },
  {
   "cell_type": "code",
   "execution_count": 43,
   "metadata": {},
   "outputs": [
    {
     "data": {
      "text/plain": [
       "Identity {getIdentity = 4}"
      ]
     },
     "metadata": {},
     "output_type": "display_data"
    },
    {
     "data": {
      "text/plain": [
       "Identity {getIdentity = 6}"
      ]
     },
     "metadata": {},
     "output_type": "display_data"
    },
    {
     "data": {
      "text/plain": [
       "Identity {getIdentity = 'A'}"
      ]
     },
     "metadata": {},
     "output_type": "display_data"
    },
    {
     "data": {
      "text/plain": [
       "True"
      ]
     },
     "metadata": {},
     "output_type": "display_data"
    }
   ],
   "source": [
    "fmap (+1) (Identity 3) -- Identity 4\n",
    "\n",
    "(*2) <$> Identity 3    -- Identity 6\n",
    "\n",
    "'A' <$ Identity 3      -- Identity 'A'\n",
    "\n",
    "fmap id (Identity False) == Identity False -- True"
   ]
  },
  {
   "cell_type": "markdown",
   "metadata": {},
   "source": [
    "And as you can see, it works as expected and respects the `Functor` laws."
   ]
  },
  {
   "cell_type": "markdown",
   "metadata": {},
   "source": [
    "Now, we can create the star operator. \n",
    "\n",
    "The type was:"
   ]
  },
  {
   "cell_type": "markdown",
   "metadata": {},
   "source": [
    "```haskell\n",
    "(<*>) :: Functor f => f (a -> b) -> f a -> f b\n",
    "```"
   ]
  },
  {
   "cell_type": "markdown",
   "metadata": {},
   "source": [
    "So, we had a funciton at the functor level applied to a functor with values of type `a` to get the functor with values of type `b`. Because the `Identity` functor is basically just an anoying wrapper, for now at least, we know that we just have to unwrap and apply the funciton to the value of type `a`. So let's do that:"
   ]
  },
  {
   "cell_type": "code",
   "execution_count": 45,
   "metadata": {},
   "outputs": [],
   "source": [
    "(<*>) :: Identity (a -> b) -> Identity a -> Identity b\n",
    "(Identity f) <*> (Identity x) = Identity (f x)\n",
    "\n",
    "infixl 4 <*>"
   ]
  },
  {
   "cell_type": "markdown",
   "metadata": {},
   "source": [
    "Pretty straight forward, almost the same as `fmap`. Now comes the moment of truth. Let's see if the star operator is actually function application at the functor level:"
   ]
  },
  {
   "cell_type": "code",
   "execution_count": 46,
   "metadata": {
    "scrolled": true
   },
   "outputs": [
    {
     "data": {
      "text/plain": [
       "2"
      ]
     },
     "metadata": {},
     "output_type": "display_data"
    },
    {
     "data": {
      "text/plain": [
       "2"
      ]
     },
     "metadata": {},
     "output_type": "display_data"
    },
    {
     "data": {
      "text/plain": [
       "3"
      ]
     },
     "metadata": {},
     "output_type": "display_data"
    },
    {
     "data": {
      "text/plain": [
       "3"
      ]
     },
     "metadata": {},
     "output_type": "display_data"
    },
    {
     "data": {
      "text/plain": [
       "7"
      ]
     },
     "metadata": {},
     "output_type": "display_data"
    },
    {
     "data": {
      "text/plain": [
       "7"
      ]
     },
     "metadata": {},
     "output_type": "display_data"
    }
   ],
   "source": [
    "(+1) 1\n",
    "getIdentity $ Identity (+1) <*> Identity 1\n",
    "\n",
    "(+) 1 2\n",
    "getIdentity $ Identity (+) <*> Identity 1 <*> Identity 2\n",
    "\n",
    "(\\a b c -> a + b * c) 1 2 3\n",
    "getIdentity $ Identity (\\a b c -> a + b * c) <*> Identity 1 <*> Identity 2 <*> Identity 3"
   ]
  },
  {
   "cell_type": "markdown",
   "metadata": {},
   "source": [
    "As you can see, we have three examples of applying the same funtion to a value or multiple values. Once without functor using the built-in function application, and once using the star operator within a `Functor` that doesn't do anything. And we get the same result in both cases.\n",
    "\n",
    "We just proved that the star operator is a more generalized form of function application. It's more general because we get the same old function application if we apply it to the `Identity` functor, but we can also apply it to other functors.\n",
    "\n",
    "Is this enough though? Let's talk about `pure`."
   ]
  },
  {
   "cell_type": "markdown",
   "metadata": {},
   "source": [
    "## Being `pure` 😇"
   ]
  },
  {
   "cell_type": "markdown",
   "metadata": {},
   "source": [
    "We've proved that the star opearator is a generalized form of function application. Does that mean that we could handle all possible cases when working with Functors?"
   ]
  },
  {
   "cell_type": "markdown",
   "metadata": {},
   "source": [
    "When working with Functors, there are three possible cases. You can have everything at the functor level:"
   ]
  },
  {
   "cell_type": "code",
   "execution_count": 11,
   "metadata": {
    "scrolled": true
   },
   "outputs": [
    {
     "data": {
      "text/plain": [
       "Just 7"
      ]
     },
     "metadata": {},
     "output_type": "display_data"
    }
   ],
   "source": [
    "Just (\\a b c -> a + b * c) <*> Just 1 <*> Just 2 <*> Just 3"
   ]
  },
  {
   "cell_type": "markdown",
   "metadata": {},
   "source": [
    "No issue with that, it works using the star operator we just defined. \n",
    "\n",
    "Another case is to have the need to apply a function that is not a functor to a bunch of functors:"
   ]
  },
  {
   "cell_type": "code",
   "execution_count": 12,
   "metadata": {
    "scrolled": true
   },
   "outputs": [
    {
     "data": {
      "text/plain": [
       "Just 7"
      ]
     },
     "metadata": {},
     "output_type": "display_data"
    }
   ],
   "source": [
    "(\\a b c -> a + b * c) <$> Just 1 <*> Just 2 <*> Just 3"
   ]
  },
  {
   "cell_type": "markdown",
   "metadata": {},
   "source": [
    "No issue either, that is what `fmap` is for.\n",
    "\n",
    "But, we could also encounter a third scenario. One when one or more values aren't functors:"
   ]
  },
  {
   "cell_type": "markdown",
   "metadata": {},
   "source": [
    "```haskell\n",
    "--                              DB      Local    DB\n",
    "Just (\\a b c -> a + b * c) <*> Just 1 <*> 2 <*> Just 3\n",
    "--                                        ^\n",
    "--                                        |\n",
    "--                              ❌  Not a Functor! ❌\n",
    "```"
   ]
  },
  {
   "cell_type": "markdown",
   "metadata": {},
   "source": [
    "This happens in dozens of scenarios. For example, if two of the three values com from the database and the other one is provided locally.\n",
    "\n",
    "And we currently have no way to solve this. `fmap` lifts functions, not individual values. So, we need a new way to lift individual values. This function should take any value and return it embeded in a Functor. We could call this function `lift`, but for reasons we'll explain in the last section of this lesson, we'll call it `pure`:"
   ]
  },
  {
   "cell_type": "markdown",
   "metadata": {},
   "source": [
    "```haskell\n",
    "pure :: Functor f => a -> f a\n",
    "```"
   ]
  },
  {
   "cell_type": "markdown",
   "metadata": {},
   "source": [
    "Regardless of how it's called, what it does is to lift values to the functor level. \n",
    "\n",
    "We can define it trivially for the `Maybe` type like this:"
   ]
  },
  {
   "cell_type": "code",
   "execution_count": 25,
   "metadata": {},
   "outputs": [
    {
     "data": {
      "text/plain": [
       "Just 'a'"
      ]
     },
     "metadata": {},
     "output_type": "display_data"
    },
    {
     "data": {
      "text/plain": [
       "Just 4"
      ]
     },
     "metadata": {},
     "output_type": "display_data"
    }
   ],
   "source": [
    "pureMaybe :: a -> Maybe a\n",
    "pureMaybe = Just\n",
    "\n",
    "pureMaybe 'a'\n",
    "\n",
    "pureMaybe 4"
   ]
  },
  {
   "cell_type": "markdown",
   "metadata": {},
   "source": [
    "And having this funciton, we can solve the missing case like this:"
   ]
  },
  {
   "cell_type": "code",
   "execution_count": 24,
   "metadata": {
    "scrolled": false
   },
   "outputs": [
    {
     "data": {
      "text/plain": [
       "Just 7"
      ]
     },
     "metadata": {},
     "output_type": "display_data"
    }
   ],
   "source": [
    "Just (\\a b c -> a + b * c) <*> Just 1 <*> pureMaybe 2 <*> Just 3"
   ]
  },
  {
   "cell_type": "markdown",
   "metadata": {},
   "source": [
    "Of course, `pureMaybe` is specialized to `Maybe` values. So, it's the same as wrapping the value in a `Just` constructor. We want a function that works for all `Functors`, so this will also be part of our new type class. \n",
    "\n",
    "And with this second behaviour, we can apply any function to any amount of values at the functor level. To prove it to you, I'm let's define fmap for all the funciton from zero to five arguments using these two new operators:"
   ]
  },
  {
   "cell_type": "markdown",
   "metadata": {},
   "source": [
    "```haskell\n",
    "    fmap0 :: a -> f a\n",
    "    fmap0 = pure\n",
    "    \n",
    "    fmap1 :: (a -> b) -> f a -> f b\n",
    "    fmap1 g fa = pure g <*> fa -- same as g <$> fa\n",
    "\n",
    "    fmap2 :: (a -> b -> c) -> f a -> f b -> f c\n",
    "    fmap2 g fa fb = pure g <*> fa <*> fb\n",
    "\n",
    "    fmap3 :: (a -> b -> c -> d) -> f a -> f b -> f c -> f d\n",
    "    fmap3 g fa fb fc = pure g <*> fa <*> fb <*> fc\n",
    "\n",
    "    fmap4 :: (a -> b -> c -> d -> e) -> f a -> f b -> f c -> f d -> f e\n",
    "    fmap4 g fa fb fc fd = pure g <*> fa <*> fb <*> fc <*> fd\n",
    "\n",
    "    fmap5 :: (a -> b -> c -> d -> e -> g) -> f a -> f b -> f c -> f d -> f e -> f g\n",
    "    fmap5 g fa fb fc fd fe = pure g <*> fa <*> fb <*> fc <*> fd <*> fe\n",
    "```"
   ]
  },
  {
   "cell_type": "markdown",
   "metadata": {},
   "source": [
    "I removed the `Functor` constraint to avoid cluttering the slide, but remember that all the `f`s are functors.\n",
    "\n",
    "For `fmap0`, we have a function that takes zero arguments. That's a constant value. So, we need to embed a constant value into a functor. Easy, we use `pure` that fits perfectly.\n",
    "\n",
    "For `fmap1`, we have a funciton that takes one argumment. We lift the function to the Functor level, and then use the star operator to apply it to an argument. \n",
    "\n",
    "For `fmap2`, we have a funciton that takes two argumments. We lift the function to the Functor level, and then use the star operator to apply it to both arguments.\n",
    "\n",
    "And it's the same for `fmap3`, 4, and 5. Lift the function and use the star operator as many times as needed until the funciton is fully applied.\n",
    "\n",
    "And, as I'm sure you might notice, `fmap1` is the same as our regular `fmap`. And `fmap2`, 3, 4, and 5, all start with the same `pure g <*> fa` pattern. So, we can simplify a bit by replacing the first appication of the star operator with a functor so we avoid having to lift the initial functor, and we get this:"
   ]
  },
  {
   "cell_type": "markdown",
   "metadata": {},
   "source": [
    "```haskell\n",
    "    fmap0 :: a -> f a\n",
    "    fmap0 = pure\n",
    "    \n",
    "    fmap1 :: (a -> b) -> f a -> f b\n",
    "    fmap1 g fa = g <$> fa\n",
    "\n",
    "    fmap2 :: (a -> b -> c) -> f a -> f b -> f c\n",
    "    fmap2 g fa fb = g <$> fa <*> fb\n",
    "\n",
    "    fmap3 :: (a -> b -> c -> d) -> f a -> f b -> f c -> f d\n",
    "    fmap3 g fa fb fc = g <$> fa <*> fb <*> fc\n",
    "\n",
    "    fmap4 :: (a -> b -> c -> d -> e) -> f a -> f b -> f c -> f d -> f e\n",
    "    fmap4 g fa fb fc fd = g <$> fa <*> fb <*> fc <*> fd\n",
    "\n",
    "    fmap5 :: (a -> b -> c -> d -> e -> g) -> f a -> f b -> f c -> f d -> f e -> f g\n",
    "    fmap5 g fa fb fc fd fe = g <$> fa <*> fb <*> fc <*> fd <*> fe\n",
    "```"
   ]
  },
  {
   "cell_type": "markdown",
   "metadata": {},
   "source": [
    "Awesome!! Looks like we only need the star operator and pure to handle all cases. I guess it's time to formalize our findings."
   ]
  },
  {
   "cell_type": "markdown",
   "metadata": {},
   "source": [
    "## The `Applicative` type class"
   ]
  },
  {
   "cell_type": "markdown",
   "metadata": {},
   "source": [
    "Here's the `Applicative` type class: "
   ]
  },
  {
   "cell_type": "markdown",
   "metadata": {},
   "source": [
    "```haskell\n",
    "class Functor f => Applicative f where\n",
    "    pure  :: a -> f a\n",
    "    (<*>) :: f (a -> b) -> f a -> f b\n",
    "```"
   ]
  },
  {
   "cell_type": "markdown",
   "metadata": {},
   "source": [
    "So, how can we express what an `Applicative` is in words? For starterd, could say something like this:"
   ]
  },
  {
   "cell_type": "markdown",
   "metadata": {},
   "source": [
    "An `Applicative` is a functor with a function to embed expressions (`pure`), and an operator that works as function application at the functor level (`<*>`)."
   ]
  },
  {
   "cell_type": "markdown",
   "metadata": {},
   "source": [
    "That's why they are called applicative functors, because they are functors with function application."
   ]
  },
  {
   "cell_type": "markdown",
   "metadata": {},
   "source": [
    "To define the `Applicative` type class, we just need these two new behaviours we just discovered. But before we formally define it, let's make it more concrete by defining a few instances so we have "
   ]
  },
  {
   "cell_type": "markdown",
   "metadata": {},
   "source": [
    "Let's start by defining the instance for the `Identity` type wrapper:"
   ]
  },
  {
   "cell_type": "code",
   "execution_count": 34,
   "metadata": {},
   "outputs": [],
   "source": [
    "newtype Identity a = Identity { getValue :: a } deriving (Show, Eq)\n",
    "\n",
    "instance Functor Identity where\n",
    "  --fmap :: (a -> b) -> Identity a -> Identity b\n",
    "  fmap f (Identity a) = Identity (f a)"
   ]
  },
  {
   "cell_type": "markdown",
   "metadata": {},
   "source": [
    "Of course, because `Applicative` is a subclass of `Functor`, we have to define `Functor` first. It's pretty straight forward. We pattern match to extract the value wraped with the `Identity` constructor, apply the function to the underlying value, and wrap it again. Now to the new part:"
   ]
  },
  {
   "cell_type": "code",
   "execution_count": 37,
   "metadata": {},
   "outputs": [],
   "source": [
    "instance Applicative Identity where\n",
    "  -- pure :: a -> Identity a\n",
    "  pure = Identity\n",
    "  \n",
    "  -- (<*>) :: Identity (a -> b) -> Identity a -> Identity b\n",
    "  -- Identity f <*> Identity a = Identity (f a)\n",
    "  Identity f <*> ia = fmap f ia -- same as definition above"
   ]
  },
  {
   "cell_type": "markdown",
   "metadata": {},
   "source": [
    "To create an instance for the applicative type class, we need to define both `pure` and the star operator. We don't have much choice for `pure`. We need to lift a value to the `Identity` level and we have only one constructor with the same type as pure. So we just use that.\n",
    "\n",
    "For the star operator, we have two choices. We can patternmatch to extract both the function and the value, apply the function to the value and wrap it again, or because we have `fmap` at our disposal, we can patternmatch to extract only the funciton and fmappit to the value. Which, if you look at the definition of the functior instance, it's the same as what we did in the first definition by hand, but we avoid repeating ourselves.\n",
    "\n",
    "Now that the `Identity` type is an applicative functor, we can use the operators:"
   ]
  },
  {
   "cell_type": "code",
   "execution_count": 36,
   "metadata": {},
   "outputs": [
    {
     "data": {
      "text/plain": [
       "Identity {getValue = 2}"
      ]
     },
     "metadata": {},
     "output_type": "display_data"
    },
    {
     "data": {
      "text/plain": [
       "Identity {getValue = 3}"
      ]
     },
     "metadata": {},
     "output_type": "display_data"
    },
    {
     "data": {
      "text/plain": [
       "Identity {getValue = 7}"
      ]
     },
     "metadata": {},
     "output_type": "display_data"
    }
   ],
   "source": [
    "Identity (+1) <*> Identity 1\n",
    "\n",
    "Identity (+) <*> Identity 1 <*> Identity 2\n",
    "\n",
    "Identity (\\a b c -> a + b * c) <*> Identity 1 <*> Identity 2 <*> Identity 3"
   ]
  },
  {
   "cell_type": "markdown",
   "metadata": {},
   "source": [
    "That one was borring, so let's do a new one. Let's create an instance for the `Maybe` type. Same as before we start with the functor instance:"
   ]
  },
  {
   "cell_type": "markdown",
   "metadata": {},
   "source": [
    "```haskell\n",
    "data Maybe a = Nothing | Just a\n",
    "\n",
    "-------------------------------------------------------------------------\n",
    "\n",
    "instance Functor Maybe where\n",
    "  -- fmap :: (a -> b) -> Maybe a -> Maybe b\n",
    "  fmap _ Nothing  = Nothing\n",
    "  fmap f (Just x) = Just (f x)\n",
    "\n",
    "-------------------------------------------------------------------------\n",
    "\n",
    "instance Applicative Maybe where\n",
    "  -- pure :: a -> Maybe a\n",
    "  -- pure = \\x -> Nothing ❌\n",
    "  pure = Just\n",
    "  \n",
    "  -- (<*>) :: Maybe (a -> b) -> Maybe a -> Maybe b\n",
    "  Just f <*> ma = fmap f ma\n",
    "  _      <*> _  = Nothing\n",
    "```"
   ]
  },
  {
   "cell_type": "markdown",
   "metadata": {},
   "source": [
    "We don't run this cell because these instances are alreay provided by the prelude.\n",
    "\n",
    "So, we alredy talked about the `Functor` instance in the previous lesson, so we won't go there. Now, about the applicative instance...\n",
    "\n",
    "We have two possible options that satisfy the types for `pure`. We could ignore the input and return `Nothing`, and we could use `Just` that fits perfectly fine by itself. Conceptually, it makes sense to .... . But, if that doesn't convince you, `Just` is the only options if we want to respect the laws of the type class!"
   ]
  },
  {
   "cell_type": "markdown",
   "metadata": {},
   "source": [
    "## The `Applicative` laws"
   ]
  },
  {
   "cell_type": "markdown",
   "metadata": {},
   "source": [
    "Remember that one of the characteristics of functors was that `fmap` din't change the structure itself. Here, the star operator has the same restriction."
   ]
  },
  {
   "cell_type": "markdown",
   "metadata": {},
   "source": [
    "Sadly, same as it happened with Semigroup, Monoid, and Functor, not everything is reflected in the type class definition. So, we have to complement it with a few laws. Here they are:"
   ]
  },
  {
   "cell_type": "markdown",
   "metadata": {},
   "source": [
    "**Identity:**\n",
    "```haskell\n",
    "pure id <*> v = v\n",
    "```"
   ]
  },
  {
   "cell_type": "markdown",
   "metadata": {},
   "source": [
    "Applying a lifted `id` function to an applicative, should return the same applicative. This makes sense, right? Same as when we deal with `fmap`, the star operator should respect the structor of the Functor that is now an applicative functor. Let's see an example with the `Maybe` type:"
   ]
  },
  {
   "cell_type": "code",
   "execution_count": 58,
   "metadata": {},
   "outputs": [
    {
     "data": {
      "text/plain": [
       "True"
      ]
     },
     "metadata": {},
     "output_type": "display_data"
    },
    {
     "data": {
      "text/plain": [
       "False"
      ]
     },
     "metadata": {},
     "output_type": "display_data"
    }
   ],
   "source": [
    "(pure id <*> Just 3) == Just 3\n",
    "\n",
    "--------------------------------------------\n",
    "\n",
    "wrongPure = \\x -> Nothing\n",
    "\n",
    "(wrongPure id <*> Just 3) == Just 3"
   ]
  },
  {
   "cell_type": "markdown",
   "metadata": {},
   "source": [
    "As you can see, the star operator should also respect the structure of the functor and only modify the values. If we don't do anything to the values, we should get our original applicatvie functor. That's why we have to use `Just` as `pure`. If we use a function like `wrongPure` that ignores the input and always returns `Nothing`, we are changing the the structure when applying a lifted id function.\n",
    "\n",
    "Next, we have the Homomorphism law:"
   ]
  },
  {
   "cell_type": "markdown",
   "metadata": {},
   "source": [
    "**Homomorphism:**\n",
    "```haskell\n",
    "pure f <*> pure x = pure (f x)\n",
    "```"
   ]
  },
  {
   "cell_type": "markdown",
   "metadata": {},
   "source": [
    "Applying a lifted function to a lifted value should be the same as applying the funciton to the value and then lift the result. This enforces that the  star operator has to behave the same as function application.\n",
    "\n",
    "Let's see an example:"
   ]
  },
  {
   "cell_type": "code",
   "execution_count": 47,
   "metadata": {},
   "outputs": [
    {
     "data": {
      "text/plain": [
       "True"
      ]
     },
     "metadata": {},
     "output_type": "display_data"
    },
    {
     "data": {
      "text/plain": [
       "Just \"3\""
      ]
     },
     "metadata": {},
     "output_type": "display_data"
    }
   ],
   "source": [
    "leftSide :: Maybe String\n",
    "leftSide = pure show <*> pure 3\n",
    "\n",
    "rightSide :: Maybe String\n",
    "rightSide = pure (show 3)\n",
    "\n",
    "leftSide == rightSide\n",
    "leftSide"
   ]
  },
  {
   "cell_type": "markdown",
   "metadata": {},
   "source": [
    "Amazing, works as expected!! We still have two more to go through. Next, we have the composition law:"
   ]
  },
  {
   "cell_type": "markdown",
   "metadata": {},
   "source": [
    "**Composition:**\n",
    "```haskell\n",
    "(pure (.) <*> u <*> v) <*> w = u <*> (v <*> w) \n",
    "```"
   ]
  },
  {
   "cell_type": "markdown",
   "metadata": {},
   "source": [
    "This one shows that the operator is associative, although it might not be clear at a glance, so here's an example:"
   ]
  },
  {
   "cell_type": "code",
   "execution_count": 50,
   "metadata": {
    "scrolled": false
   },
   "outputs": [
    {
     "data": {
      "text/plain": [
       "True"
      ]
     },
     "metadata": {},
     "output_type": "display_data"
    },
    {
     "data": {
      "text/plain": [
       "Just \"6\""
      ]
     },
     "metadata": {},
     "output_type": "display_data"
    }
   ],
   "source": [
    "leftSide  = (pure (.) <*> Just show <*> Just (*2)) <*> Just 3\n",
    "rightSide =               Just show <*> (Just (*2) <*> Just 3)\n",
    "\n",
    "\n",
    "leftSide == rightSide\n",
    "leftSide"
   ]
  },
  {
   "cell_type": "markdown",
   "metadata": {},
   "source": [
    "On the left side, we want to combine the `show` function with the  `(*2)` funtion first and then apply it to `3`. And we know that the way of combining functions is by composition. So, we lift function composition to the functor level and apply it to `Just show` and `Just (*2)`. Then, we apply the result of that comoposition to `Just 3`.\n",
    "\n",
    "On the right side, we fist want to combine the last two and then combine the result with the first. In this case, we don't need to lift function composition because we can apply `Just (*2)` to `Just 3` directly. So we do that to get `Just 6` and then apply `Just show` to get the string representation of the number six.\n",
    "\n",
    "As you can see, we get the same result on both sises.\n",
    "\n",
    "Finally, we have the interchange law:"
   ]
  },
  {
   "cell_type": "markdown",
   "metadata": {},
   "source": [
    "**Interchange:**\n",
    "```haskell\n",
    "f <*> pure x = pure (\\f -> f x) <*> f\n",
    "```"
   ]
  },
  {
   "cell_type": "markdown",
   "metadata": {},
   "source": [
    "This one states that, we should get the same result if we flip the arguments when applying a function. We know this is true for regular function application. For example:"
   ]
  },
  {
   "cell_type": "code",
   "execution_count": 51,
   "metadata": {
    "scrolled": false
   },
   "outputs": [
    {
     "data": {
      "text/plain": [
       "True"
      ]
     },
     "metadata": {},
     "output_type": "display_data"
    },
    {
     "data": {
      "text/plain": [
       "4"
      ]
     },
     "metadata": {},
     "output_type": "display_data"
    }
   ],
   "source": [
    "leftSide  = (+1) 3\n",
    "rightSide = (\\f -> f 3) (+1) \n",
    "\n",
    "\n",
    "leftSide == rightSide\n",
    "leftSide"
   ]
  },
  {
   "cell_type": "markdown",
   "metadata": {},
   "source": [
    "On the left side, we take the function `(+1)` and apply it to 3 to get 4.\n",
    "\n",
    "On the right side, we take a function that takes another function as parameter and applies it to the number three and we apply this function to the `(+1)` funciton. This results in +1 being passed as parameter and being applied to 3.\n",
    "\n",
    "As you can see, we have to make the extra step of adding a lambda function, but if we flip the arguments of function application, we stil get the same result. That property should also hold with our star operator:"
   ]
  },
  {
   "cell_type": "code",
   "execution_count": 52,
   "metadata": {
    "scrolled": false
   },
   "outputs": [
    {
     "data": {
      "text/plain": [
       "True"
      ]
     },
     "metadata": {},
     "output_type": "display_data"
    },
    {
     "data": {
      "text/plain": [
       "Just 4"
      ]
     },
     "metadata": {},
     "output_type": "display_data"
    }
   ],
   "source": [
    "leftSide  = Just (+1) <*> pure 3\n",
    "rightSide = pure (\\f -> f 3) <*> Just (+1) \n",
    "\n",
    "\n",
    "leftSide == rightSide\n",
    "leftSide"
   ]
  },
  {
   "cell_type": "markdown",
   "metadata": {},
   "source": [
    "This is the same as we just saw but lifted at the appicative functor level.\n",
    "\n",
    "Same as before, we have to make the extra step of adding a lambda function, but if we flip the arguments of the star operator, we stil get the same result."
   ]
  },
  {
   "cell_type": "markdown",
   "metadata": {},
   "source": [
    "And that's it! To hone in on the type class implementation, let's do one more before moving on. Let's create the Applicative instance for the `Either` type:"
   ]
  },
  {
   "cell_type": "markdown",
   "metadata": {},
   "source": [
    "```haskell\n",
    "instance Functor (Either e) where\n",
    "  fmap f (Left e) = Left e\n",
    "  fmap f (Right a) = Right (f a)\n",
    "\n",
    "-----------------------------------------------------------\n",
    "\n",
    "instance Applicative (Either e) where\n",
    "  -- pure :: a -> Either a a\n",
    "  pure = Right\n",
    "  -- (<*>) :: Either e (a -> b) -> Either e a -> Either e b\n",
    "  Left e <*> _ = Left e\n",
    "  Right f <*> r = fmap f r\n",
    "```"
   ]
  },
  {
   "cell_type": "markdown",
   "metadata": {},
   "source": [
    "We use `Right` as the way to lift the value with `pure`. If we only follow the types, `Right` is our only choice. You can quickly check it by yourself. Also, it makes sense. Lifting anything to the `Left` constructor would be useless because it would make any function that uses it return `Left` regardless of the other values. On top of that, it also makes sense from the `Functor` perspective. `Left e` is part of the structure, and we want to lift a value, so we have to use a constructor that can hold a value, and the only one available is the `Right` constructor that can hold values of type `a`.\n",
    "\n",
    "And for the star operator we have to take into account the cases that the function is both a `Left` and `Right`. If the function is a `Left`, that means we don't have a function, we have an error instead. So, we have no other option that propagating the error.\n",
    "\n",
    "If the constructor is a `Right`, we do have the function. And in this case we could have both `Left` and `Right` as second argument, but we don't have to deal with that because we already defined `fmap` that  does it for us. So, we just `fmap` the funciton.\n",
    "\n",
    "And that's it! If we try to use it, we see that the results are reasonable:"
   ]
  },
  {
   "cell_type": "code",
   "execution_count": 32,
   "metadata": {
    "scrolled": true
   },
   "outputs": [
    {
     "data": {
      "text/plain": [
       "Right 2"
      ]
     },
     "metadata": {},
     "output_type": "display_data"
    },
    {
     "data": {
      "text/plain": [
       "Right 3"
      ]
     },
     "metadata": {},
     "output_type": "display_data"
    },
    {
     "data": {
      "text/plain": [
       "Left 2"
      ]
     },
     "metadata": {},
     "output_type": "display_data"
    },
    {
     "data": {
      "text/plain": [
       "Right 7"
      ]
     },
     "metadata": {},
     "output_type": "display_data"
    }
   ],
   "source": [
    "Right (+1) <*> pure 1\n",
    "\n",
    "(+) <$> Right 1 <*> Right 2\n",
    "\n",
    "(\\a b c -> a + b * c) <$> pure 1 <*> Left 2 <*> pure 3\n",
    "\n",
    "(\\a b c -> a + b * c) <$> Right 1 <*> pure 2 <*> pure 3"
   ]
  },
  {
   "cell_type": "markdown",
   "metadata": {},
   "source": [
    "But what we really want to check is if they follow the laws. So, let's do that. Starting with the identity law:"
   ]
  },
  {
   "cell_type": "code",
   "execution_count": 28,
   "metadata": {},
   "outputs": [
    {
     "data": {
      "text/plain": [
       "True"
      ]
     },
     "metadata": {},
     "output_type": "display_data"
    },
    {
     "data": {
      "text/plain": [
       "True"
      ]
     },
     "metadata": {},
     "output_type": "display_data"
    }
   ],
   "source": [
    "-- Identity: pure id <*> v = v\n",
    "\n",
    "\n",
    "(pure id <*> Left 3) == Left 3\n",
    "\n",
    "(pure id <*> Right 'a') == Right (id 'a')"
   ]
  },
  {
   "cell_type": "markdown",
   "metadata": {},
   "source": [
    "Nice. Our implementation follows the identity law. Now let's check for the Homomorphism law:"
   ]
  },
  {
   "cell_type": "code",
   "execution_count": 53,
   "metadata": {},
   "outputs": [
    {
     "data": {
      "text/plain": [
       "True"
      ]
     },
     "metadata": {},
     "output_type": "display_data"
    }
   ],
   "source": [
    "-- Homomorphism: pure f <*> pure x = pure (f x)\n",
    "\n",
    "\n",
    "leftSide :: Either e Int\n",
    "leftSide = pure (+1) <*> pure 1\n",
    "\n",
    "rightSide :: Either e Int\n",
    "rightSide = pure ((+1) 1)\n",
    "\n",
    "\n",
    "leftSide == rightSide"
   ]
  },
  {
   "cell_type": "markdown",
   "metadata": {},
   "source": [
    "Awesome, 2/4 done. Let's do composition next:"
   ]
  },
  {
   "cell_type": "code",
   "execution_count": 30,
   "metadata": {},
   "outputs": [
    {
     "data": {
      "text/plain": [
       "True"
      ]
     },
     "metadata": {},
     "output_type": "display_data"
    }
   ],
   "source": [
    "-- Composition: pure (.) <*> u <*> v <*> w = u <*> (v <*> w)\n",
    "\n",
    "\n",
    "leftSide :: Either String Int\n",
    "leftSide = pure (.) <*> u <*> v <*> w\n",
    "  where\n",
    "    u = Right (+1)\n",
    "    v = Right (*2)\n",
    "    --v = Left \"some error\"\n",
    "    w = Right 3\n",
    "\n",
    "rightSide :: Either String Int\n",
    "rightSide = u <*> (v <*> w)\n",
    "  where\n",
    "    u = Right (+1)\n",
    "    v = Right (*2)\n",
    "    -- v = Left \"some error\"\n",
    "    w = Right 3\n",
    "\n",
    "\n",
    "leftSide == rightSide"
   ]
  },
  {
   "cell_type": "markdown",
   "metadata": {},
   "source": [
    "As you can see, this law holds as well. And, of course, we can change any of these three values to different ones, for example `Left \"some error\"`, and it will still hold."
   ]
  },
  {
   "cell_type": "markdown",
   "metadata": {},
   "source": [
    "And finally, we check for the interchange law:"
   ]
  },
  {
   "cell_type": "code",
   "execution_count": 54,
   "metadata": {},
   "outputs": [
    {
     "data": {
      "text/plain": [
       "True"
      ]
     },
     "metadata": {},
     "output_type": "display_data"
    }
   ],
   "source": [
    "-- Interchange: u <*> pure y = pure ($ y) <*> u\n",
    "\n",
    "\n",
    "leftSide :: Either String Int\n",
    "leftSide = u <*> pure 5\n",
    "    where\n",
    "        u = Right (+1)\n",
    "        -- u = Left \"some error\"\n",
    "\n",
    "rightSide :: Either String Int\n",
    "rightSide = pure ($ 5) <*> u\n",
    "    where\n",
    "        u = Right (+1)\n",
    "        -- u = Left \"some error\"\n",
    "\n",
    "\n",
    "leftSide == rightSide"
   ]
  },
  {
   "cell_type": "markdown",
   "metadata": {},
   "source": [
    "Amazing! Our implementation seems to follow all the `Applicative` laws. We now have the Identity, Maybe, and Either Applicatives under our belt. So, I think it's time to move on into programming with effects."
   ]
  },
  {
   "cell_type": "markdown",
   "metadata": {},
   "source": [
    "## 🎆 Programming with effects 🎆"
   ]
  },
  {
   "cell_type": "markdown",
   "metadata": {},
   "source": [
    "Congratulations! You now know how to program with effects!! Oh, you didn't realize that? Well, you do! Here's why:"
   ]
  },
  {
   "cell_type": "markdown",
   "metadata": {},
   "source": [
    "When we talked about `Maybe`, we said tha it gave use a way to represent values that might fail. We wanted to return a value, but we weren't sure if we were going to be able, so we used `Mabye`:"
   ]
  },
  {
   "cell_type": "code",
   "execution_count": 71,
   "metadata": {},
   "outputs": [
    {
     "data": {
      "text/plain": [
       "Just 4"
      ]
     },
     "metadata": {},
     "output_type": "display_data"
    },
    {
     "data": {
      "text/plain": [
       "Nothing"
      ]
     },
     "metadata": {},
     "output_type": "display_data"
    },
    {
     "data": {
      "text/plain": [
       "Just 3"
      ]
     },
     "metadata": {},
     "output_type": "display_data"
    }
   ],
   "source": [
    "-- We used optional values to create safe versions of partial functions\n",
    "divMaybe :: Int -> Int -> Maybe Int\n",
    "divMaybe x 0 = Nothing\n",
    "divMaybe x y = Just (x `div` y)\n",
    "\n",
    "8 `divMaybe` 2\n",
    "8 `divMaybe` 0\n",
    "\n",
    "-- We used optional values to handle possible failed results\n",
    "valueFromDB = Just 3 -- Fake Database call\n",
    "valueFromDB"
   ]
  },
  {
   "cell_type": "markdown",
   "metadata": {},
   "source": [
    "In the first example, we see h\n",
    "\n",
    "In the second example, ..."
   ]
  },
  {
   "cell_type": "markdown",
   "metadata": {},
   "source": [
    "Now, imagine we need to apply the `calculate` function to a bunch of `Maybe` values:"
   ]
  },
  {
   "cell_type": "code",
   "execution_count": 72,
   "metadata": {},
   "outputs": [],
   "source": [
    "calculate :: Int -> Int -> Int -> Int\n",
    "calculate a b c = a + b * c"
   ]
  },
  {
   "cell_type": "markdown",
   "metadata": {},
   "source": [
    "Before learning about `Functor` and `Applicative`, we could have defined a funciton that takes 3 `Maybe` values and applies `calculate` to them like this:"
   ]
  },
  {
   "cell_type": "code",
   "execution_count": 74,
   "metadata": {},
   "outputs": [
    {
     "data": {
      "text/plain": [
       "Just 10"
      ]
     },
     "metadata": {},
     "output_type": "display_data"
    }
   ],
   "source": [
    "calculateMaybe ma mb mc = case ma of\n",
    "    Nothing -> Nothing\n",
    "    Just a -> case mb of\n",
    "        Nothing -> Nothing\n",
    "        Just b -> case mc of\n",
    "            Nothing -> Nothing\n",
    "            Just c -> Just (calculate a b c)\n",
    "\n",
    "\n",
    "calculateExplicit (8 `divMaybe` 2) (pure 2) valueFromDB"
   ]
  },
  {
   "cell_type": "markdown",
   "metadata": {},
   "source": [
    "We create a new `calculateMaybe` function to manually handle all possible failure cases, and if all three of the values return a `Just`, we know that we have all three underlying numbers and we can apply the original `calculate` function to them. And, of course, we wrap the result in a `Just` constructor to get the correct type.\n",
    "\n",
    "This has several disadvantages. One is that we have to create the new `calculateMaybe` function. Another is that `calculateMaybe` only works for `Maybe` values. And finally, we have to write a huge block pattern-matching with case expresions to handle the `Maybe` values three times."
   ]
  },
  {
   "cell_type": "markdown",
   "metadata": {},
   "source": [
    "But now that we have `Functor` and `Applicative`, we can do the same in one line:"
   ]
  },
  {
   "cell_type": "code",
   "execution_count": 75,
   "metadata": {},
   "outputs": [
    {
     "data": {
      "text/plain": [
       "Just 10"
      ]
     },
     "metadata": {},
     "output_type": "display_data"
    }
   ],
   "source": [
    "calculate <$> (8 `divMaybe` 2) <*> (pure 2) <*> valueFromDB"
   ]
  },
  {
   "cell_type": "markdown",
   "metadata": {},
   "source": [
    "Not only works, but we also don't have to create a new function, we can replace the values we apply `calculate` to with any applicative functor and it will still work, and we don't have to handle the possible failure cases by hand. This is what we achieved. But there's more. "
   ]
  },
  {
   "cell_type": "markdown",
   "metadata": {},
   "source": [
    "We can also thnk of `Maybe` as a type that provides the simulated effect of exception handling. When we apply functions using the applicative operators, also called \"apppicative style\", we're actually doing the same as we do in `calculateMaybe` but in a more convenient way. That's why its understandable to be confused when I tell you we can think of it as an effect when you can clearly see in the body of `calculateMaybe` that it's actually pure code.\n",
    "\n",
    "In Haskell we have a bit of a loose concept of effects. Sometimes, the same code can be thought as having an effect or not depending on who you ask. So, to make it as clear as possible, here are key clarifications that will save you a lot of time and headaches:"
   ]
  },
  {
   "cell_type": "markdown",
   "metadata": {},
   "source": [
    "Haskell has both **real effects** and **simulated effects**.\n",
    "- Real effects are inpure and unpredictable (e.g, `IO`)\n",
    "- Simulated effects <u>look inpure</u> when you use them, but are <u>actually pure</u> under the hood (e.g., `Maybe`)"
   ]
  },
  {
   "cell_type": "markdown",
   "metadata": {},
   "source": [
    "Simulated effects look inpure because there are computations that are hidden from us behind operators. So, from the point of view of the user of the operators, it looks like they are running side-effects, but it's actually pure code that they can not see.\n",
    "\n",
    "Another worthy clarification is that:"
   ]
  },
  {
   "cell_type": "markdown",
   "metadata": {},
   "source": [
    "Independently if they are real or simulated, **all effects** have an **associated type** and **<u>at least</u> an `Applicative` instance** (and usually a `Monad` instance as well)."
   ]
  },
  {
   "cell_type": "markdown",
   "metadata": {},
   "source": [
    "You can think of the `Applicative` type class we cover in this lesson and the `Monad` type class that we'll cover in a future lesson, as the boundary between what is usually not considered an effect and what it is.\n",
    "\n",
    "Let's see a few examples:"
   ]
  },
  {
   "cell_type": "markdown",
   "metadata": {},
   "source": [
    "**Examples of effects in Haskell:**\n",
    "\n",
    "- `Identity` provides no effect.\n",
    "<br>\n",
    "\n",
    "- `Maybe` provides the **simulated effect** of a computation that might fail.\n",
    "<br>\n",
    "\n",
    "- `Either` provides the **simulated effect** of a computation that might fail with an error message or some kind of context as to why we had an error.\n",
    "<br>\n",
    "\n",
    "- `IO` provides the **real effect** of interacting with the world (keyboard, screen, internet,...)."
   ]
  },
  {
   "cell_type": "markdown",
   "metadata": {},
   "source": [
    "There are more effects we'll discuss in later lectures, but let's stick with these ones for now to avoid overwhelming ourselves.\n",
    "\n",
    "And thinking on these terms, now it makes sense why we called `pure` to the function that we use to lift values to the applicative functor level.\n",
    "\n",
    "It's because we're embeding a value without an effect, a pure value, into an effectful context.   \n",
    "\n",
    "Once again, all we do with `pure` is to wrap the value with the correct expression, same as we have been doing during this lesson. That hasn't changed, it's the way we think about what we do that changed."
   ]
  },
  {
   "cell_type": "markdown",
   "metadata": {},
   "source": [
    "Now, with this point of view, let's finish this the same way we did with the `Functor` lesson, by exploring the extra functions we get with `Applicative` and how it's defined in the `base` library."
   ]
  },
  {
   "cell_type": "markdown",
   "metadata": {},
   "source": [
    "## Extra functions and `Applicative` as defined in `base`"
   ]
  },
  {
   "cell_type": "markdown",
   "metadata": {},
   "source": [
    "An `Applicative` is a functor with operations to embed pure expressions (`pure`), and sequence computations and combine their results (`<*>`)."
   ]
  },
  {
   "cell_type": "markdown",
   "metadata": {},
   "source": [
    "Finally, now that you know everthing about `Applicative`, let me introduce you to the functions available in `base` based on this type class:"
   ]
  },
  {
   "cell_type": "markdown",
   "metadata": {},
   "source": [
    "d"
   ]
  },
  {
   "cell_type": "markdown",
   "metadata": {},
   "source": [
    "---"
   ]
  },
  {
   "cell_type": "markdown",
   "metadata": {},
   "source": [
    "You can think of if as we always had:\n",
    "\n",
    "We apply a funciton to the `Maybe` functor and manage failure cases implicitly by the functions and operator definitions.\n",
    "\n",
    "Or you can think of it as:\n",
    "\n",
    "We perform the effect of evaluating all the possibly failing arguments and then apply the `calculate` computation to get the final result.\n",
    "\n",
    "When we talk about an \"effect\" we talk about some extra calculation on top of calculating the value. In this case, the extra calculation is to evaluate each `Maybe` applicative functor that we want to apply the `calcualte` functor to, to know if we have a value or not. "
   ]
  },
  {
   "cell_type": "markdown",
   "metadata": {},
   "source": [
    "If you replace the definitions of the fmap and star operators:"
   ]
  },
  {
   "cell_type": "code",
   "execution_count": 68,
   "metadata": {
    "scrolled": true
   },
   "outputs": [
    {
     "data": {
      "text/plain": [
       "Just 10"
      ]
     },
     "metadata": {},
     "output_type": "display_data"
    }
   ],
   "source": [
    "calculateExplicit ma mb mc = case ma of\n",
    "    Nothing -> Nothing\n",
    "    Just a -> case mb of\n",
    "        Nothing -> Nothing\n",
    "        Just b -> case mc of\n",
    "            Nothing -> Nothing\n",
    "            Just c -> Just (calculate a b c)\n",
    "\n",
    "\n",
    "calculateExplicit (8 `divMaybe` 2) (pure 2) valueFromDB"
   ]
  },
  {
   "cell_type": "markdown",
   "metadata": {},
   "source": [
    "You'll see that, under the hood, all what's happening is plain and borring error handling. So, the underlying mechanism is the same as always. \n",
    "\n",
    "Our interpretation of what's happening is the thing that changes. We attribute the concept of \"optional failure effect\" to the `Maybe` data type with its `Functor` and `Applicative` instances."
   ]
  },
  {
   "cell_type": "markdown",
   "metadata": {},
   "source": [
    "Notice that, we're not doing anything we couldn't do before learning about `Functor` and `Applicative`. We could have written the `calculateExplicit` function lessons ago. What we gained is being able to avoid explicitly handling every case by hand. We gained a framework, a set of type classes, functions, and operators that handle the dirty work for us so we can write terse and expressive code."
   ]
  },
  {
   "cell_type": "markdown",
   "metadata": {},
   "source": [
    "In the same vain than `Maybe`, when we deal with `Either` values like this:"
   ]
  },
  {
   "cell_type": "code",
   "execution_count": 69,
   "metadata": {
    "scrolled": true
   },
   "outputs": [
    {
     "data": {
      "text/plain": [
       "Right 10"
      ]
     },
     "metadata": {},
     "output_type": "display_data"
    }
   ],
   "source": [
    "valueFromDB = Right 3\n",
    "\n",
    "divEither :: Int -> Int -> Either String Int\n",
    "divEither x 0 = Left \"division by zero\"\n",
    "divEither x y = Right (x `div` y)\n",
    "\n",
    "\n",
    "calculate <$> (8 `divEither` 2) <*> pure 2 <*> valueFromDB"
   ]
  },
  {
   "cell_type": "markdown",
   "metadata": {},
   "source": [
    "Either provides a different effect. It's also the effect of an optional value, but on top of that it provides extra context in the case of failure."
   ]
  },
  {
   "cell_type": "markdown",
   "metadata": {},
   "source": [
    "And thinking on these terms, now it makes sense why we called `pure` to the function that we use to lift values to the applicative functor level.\n",
    "\n",
    "It's because we're embeding a pure value, a value without the effect into the effectfull context. Once again, all we do is to wrap the value with the correct expression, same as we did during this lesson. It's the way we think about it that changed."
   ]
  },
  {
   "cell_type": "markdown",
   "metadata": {},
   "source": [
    "So, as an overview of the \"effects\" we worked with today, we have:"
   ]
  },
  {
   "cell_type": "markdown",
   "metadata": {},
   "source": [
    "- `Identity` provides no effect.\n",
    "\n",
    "- `Maybe` provides the effect of a computation that might fail.\n",
    "\n",
    "- `Either` provides the effect of a computation that might fail with an error message or some kind of context as to why we had an error."
   ]
  },
  {
   "cell_type": "markdown",
   "metadata": {},
   "source": []
  }
 ],
 "metadata": {
  "kernelspec": {
   "display_name": "Haskell",
   "language": "haskell",
   "name": "haskell"
  },
  "language_info": {
   "codemirror_mode": "ihaskell",
   "file_extension": ".hs",
   "mimetype": "text/x-haskell",
   "name": "haskell",
   "pygments_lexer": "Haskell",
   "version": "8.10.7"
  }
 },
 "nbformat": 4,
 "nbformat_minor": 4
}
