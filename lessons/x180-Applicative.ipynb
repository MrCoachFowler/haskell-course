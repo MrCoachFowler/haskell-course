{
 "cells": [
  {
   "cell_type": "code",
   "execution_count": 1,
   "metadata": {},
   "outputs": [],
   "source": [
    ":opt no-lint"
   ]
  },
  {
   "cell_type": "markdown",
   "metadata": {},
   "source": [
    "# Applicative Functor"
   ]
  },
  {
   "cell_type": "markdown",
   "metadata": {},
   "source": [
    "## Outline\n",
    "\n",
    "1. s"
   ]
  },
  {
   "cell_type": "markdown",
   "metadata": {},
   "source": [
    "## Why `Applicative` functors?"
   ]
  },
  {
   "cell_type": "markdown",
   "metadata": {},
   "source": [
    "### Our journey until now"
   ]
  },
  {
   "cell_type": "markdown",
   "metadata": {},
   "source": [
    "The reason we need Applicative Functors (or Applicatives for short) is due to a limitation of regular `Functors`.\n",
    "\n",
    "To provide a bit of context lets do a quick recap of our abstraction journey of `map` and `Functor`."
   ]
  },
  {
   "cell_type": "markdown",
   "metadata": {},
   "source": [
    "We started with a bunch of recursive functions:"
   ]
  },
  {
   "cell_type": "markdown",
   "metadata": {},
   "source": [
    "```haskell\n",
    "lowerString :: [Char] -> [Char]\n",
    "lowerString []     = []\n",
    "lowerString (x:xs) = toLower x : lowerString xs\n",
    "\n",
    "addOne :: Num a => [a] -> [a]\n",
    "addOne []     = []\n",
    "addOne (x:xs) = (x + 1) : addOne xs\n",
    "\n",
    "boolToBit :: [Bool] -> [Char]\n",
    "boolToBit []     = []\n",
    "boolToBit (x:xs) = (if x then '1' else '0') : boolToBit xs\n",
    "```"
   ]
  },
  {
   "cell_type": "markdown",
   "metadata": {},
   "source": [
    "These functions were usefull, but they were limited to applying a specific funtion to a list of specific types. However, we noticed that they had common traits that we could extract and we got the `map` function:"
   ]
  },
  {
   "cell_type": "markdown",
   "metadata": {},
   "source": [
    "```haskell\n",
    "map :: (a -> b) -> [a] -> [b]\n",
    "map _ []     = []\n",
    "map f (x:xs) = f x : map f xs\n",
    "\n",
    "\n",
    "lowerString = map toLower\n",
    "\n",
    "addOne = map (+1)\n",
    "\n",
    "boolToBit = map (\\x -> if x then '1' else '0')\n",
    "```"
   ]
  },
  {
   "cell_type": "markdown",
   "metadata": {},
   "source": [
    "The `map` function is a more powerful version of these functions because it's more general. Now, we can apply any function to a list of values. And because its more general, we can recreate the original functions by passing the concrete function we want to apply to the values."
   ]
  },
  {
   "cell_type": "markdown",
   "metadata": {},
   "source": [
    "But then, we faced a problem. `map` only works for lists. But there are plenty of structures with values we want to manipulate. And if we implement their own map-like functions:"
   ]
  },
  {
   "cell_type": "markdown",
   "metadata": {},
   "source": [
    "```haskell\n",
    "map :: (a -> b) -> [a] -> [b]\n",
    "map _ []     = []\n",
    "map f (x:xs) = f x : map f xs\n",
    "\n",
    "\n",
    "\n",
    "maybeMap :: (a -> b) -> Maybe a -> Maybe b\n",
    "maybeMap _ Nothing  = Nothing\n",
    "maybeMap f (Just x) = Just (f x)\n",
    "\n",
    "\n",
    "\n",
    "treeMap :: (a -> b) -> Tree a -> Tree b\n",
    "treeMap f (Leaf x)       = Leaf (f x)\n",
    "treeMap f (Node lt x rt) = Node (treeMap f lt) (f x) (treeMap f rt)\n",
    "```"
   ]
  },
  {
   "cell_type": "markdown",
   "metadata": {},
   "source": [
    "We realize that these functions were useful, but they were limited to specific structures. However, they had common traits that we could extract. And that's how we got the `Functor` type class:"
   ]
  },
  {
   "cell_type": "markdown",
   "metadata": {},
   "source": [
    "A `Functor` is a type that can apply a function to the values of its structure without modifying the structure itself.\n",
    "\n",
    "```haskell\n",
    "class Functor f where\n",
    "    fmap :: (a -> b) -> f a -> f b\n",
    "    \n",
    "    (<$) ::     a    -> f b -> f a\n",
    "    (<$) =  fmap . const\n",
    "    {-# MINIMAL fmap #-}\n",
    "```\n",
    "**Identity law**\n",
    "```haskell\n",
    "fmap id == id\n",
    "```\n",
    "**Composition law**\n",
    "```haskell\n",
    "fmap (f . g) == fmap f . fmap g\n",
    "```"
   ]
  },
  {
   "cell_type": "markdown",
   "metadata": {},
   "source": [
    "The `Functor` type class is a more powerful version of those functions because it's more general. Now, we can apply any function to any structure that is an instance of `Functor`. And, of course, we obtain what we had before, and more, by creating the instances: "
   ]
  },
  {
   "cell_type": "markdown",
   "metadata": {},
   "source": [
    "```haskell\n",
    "instance Functor [] where\n",
    "  -- fmap :: (a -> b) -> [a] -> [b]\n",
    "  fmap _ []     = []\n",
    "  fmap f (x:xs) = f x : fmap f xs\n",
    "\n",
    "\n",
    "instance Functor Maybe where\n",
    "  -- fmap :: (a -> b) -> Maybe a -> Maybe b\n",
    "  fmap _ Nothing  = Nothing\n",
    "  fmap f (Just x) = Just (f x)\n",
    "  \n",
    "  \n",
    "instance Functor Tree where\n",
    "  -- fmap :: (a -> b) -> Tree a -> Tree b\n",
    "  fmap f (Leaf x)       = Leaf (f x)\n",
    "  fmap f (Node lt x rt) = Node (fmap f lt) (f x) (fmap f rt)\n",
    "```"
   ]
  },
  {
   "cell_type": "markdown",
   "metadata": {},
   "source": [
    "As you can see, every time we extracted a more general expression we got a more powerful abstraction. But there are cases when `Functor` is not enough."
   ]
  },
  {
   "cell_type": "markdown",
   "metadata": {},
   "source": [
    "### The limits of `Functor`"
   ]
  },
  {
   "cell_type": "markdown",
   "metadata": {},
   "source": [
    "Let's try applying a few functions to a `Functor`. Let's say the `Maybe` functor: "
   ]
  },
  {
   "cell_type": "code",
   "execution_count": 32,
   "metadata": {},
   "outputs": [
    {
     "data": {
      "text/html": [
       "<style>/* Styles used for the Hoogle display in the pager */\n",
       ".hoogle-doc {\n",
       "display: block;\n",
       "padding-bottom: 1.3em;\n",
       "padding-left: 0.4em;\n",
       "}\n",
       ".hoogle-code {\n",
       "display: block;\n",
       "font-family: monospace;\n",
       "white-space: pre;\n",
       "}\n",
       ".hoogle-text {\n",
       "display: block;\n",
       "}\n",
       ".hoogle-name {\n",
       "color: green;\n",
       "font-weight: bold;\n",
       "}\n",
       ".hoogle-head {\n",
       "font-weight: bold;\n",
       "}\n",
       ".hoogle-sub {\n",
       "display: block;\n",
       "margin-left: 0.4em;\n",
       "}\n",
       ".hoogle-package {\n",
       "font-weight: bold;\n",
       "font-style: italic;\n",
       "}\n",
       ".hoogle-module {\n",
       "font-weight: bold;\n",
       "}\n",
       ".hoogle-class {\n",
       "font-weight: bold;\n",
       "}\n",
       ".get-type {\n",
       "color: green;\n",
       "font-weight: bold;\n",
       "font-family: monospace;\n",
       "display: block;\n",
       "white-space: pre-wrap;\n",
       "}\n",
       ".show-type {\n",
       "color: green;\n",
       "font-weight: bold;\n",
       "font-family: monospace;\n",
       "margin-left: 1em;\n",
       "}\n",
       ".mono {\n",
       "font-family: monospace;\n",
       "display: block;\n",
       "}\n",
       ".err-msg {\n",
       "color: red;\n",
       "font-style: italic;\n",
       "font-family: monospace;\n",
       "white-space: pre;\n",
       "display: block;\n",
       "}\n",
       "#unshowable {\n",
       "color: red;\n",
       "font-weight: bold;\n",
       "}\n",
       ".err-msg.in.collapse {\n",
       "padding-top: 0.7em;\n",
       "}\n",
       ".highlight-code {\n",
       "white-space: pre;\n",
       "font-family: monospace;\n",
       "}\n",
       ".suggestion-warning { \n",
       "font-weight: bold;\n",
       "color: rgb(200, 130, 0);\n",
       "}\n",
       ".suggestion-error { \n",
       "font-weight: bold;\n",
       "color: red;\n",
       "}\n",
       ".suggestion-name {\n",
       "font-weight: bold;\n",
       "}\n",
       "</style><span class='get-type'>(+1) :: forall a. Num a => a -> a</span>"
      ],
      "text/plain": [
       "(+1) :: forall a. Num a => a -> a"
      ]
     },
     "metadata": {},
     "output_type": "display_data"
    },
    {
     "data": {
      "text/html": [
       "<style>/* Styles used for the Hoogle display in the pager */\n",
       ".hoogle-doc {\n",
       "display: block;\n",
       "padding-bottom: 1.3em;\n",
       "padding-left: 0.4em;\n",
       "}\n",
       ".hoogle-code {\n",
       "display: block;\n",
       "font-family: monospace;\n",
       "white-space: pre;\n",
       "}\n",
       ".hoogle-text {\n",
       "display: block;\n",
       "}\n",
       ".hoogle-name {\n",
       "color: green;\n",
       "font-weight: bold;\n",
       "}\n",
       ".hoogle-head {\n",
       "font-weight: bold;\n",
       "}\n",
       ".hoogle-sub {\n",
       "display: block;\n",
       "margin-left: 0.4em;\n",
       "}\n",
       ".hoogle-package {\n",
       "font-weight: bold;\n",
       "font-style: italic;\n",
       "}\n",
       ".hoogle-module {\n",
       "font-weight: bold;\n",
       "}\n",
       ".hoogle-class {\n",
       "font-weight: bold;\n",
       "}\n",
       ".get-type {\n",
       "color: green;\n",
       "font-weight: bold;\n",
       "font-family: monospace;\n",
       "display: block;\n",
       "white-space: pre-wrap;\n",
       "}\n",
       ".show-type {\n",
       "color: green;\n",
       "font-weight: bold;\n",
       "font-family: monospace;\n",
       "margin-left: 1em;\n",
       "}\n",
       ".mono {\n",
       "font-family: monospace;\n",
       "display: block;\n",
       "}\n",
       ".err-msg {\n",
       "color: red;\n",
       "font-style: italic;\n",
       "font-family: monospace;\n",
       "white-space: pre;\n",
       "display: block;\n",
       "}\n",
       "#unshowable {\n",
       "color: red;\n",
       "font-weight: bold;\n",
       "}\n",
       ".err-msg.in.collapse {\n",
       "padding-top: 0.7em;\n",
       "}\n",
       ".highlight-code {\n",
       "white-space: pre;\n",
       "font-family: monospace;\n",
       "}\n",
       ".suggestion-warning { \n",
       "font-weight: bold;\n",
       "color: rgb(200, 130, 0);\n",
       "}\n",
       ".suggestion-error { \n",
       "font-weight: bold;\n",
       "color: red;\n",
       "}\n",
       ".suggestion-name {\n",
       "font-weight: bold;\n",
       "}\n",
       "</style><span class='get-type'>(+1) <$> Just 3 :: forall b. Num b => Maybe b</span>"
      ],
      "text/plain": [
       "(+1) <$> Just 3 :: forall b. Num b => Maybe b"
      ]
     },
     "metadata": {},
     "output_type": "display_data"
    },
    {
     "data": {
      "text/plain": [
       "Just 4"
      ]
     },
     "metadata": {},
     "output_type": "display_data"
    },
    {
     "data": {
      "text/html": [
       "<style>/* Styles used for the Hoogle display in the pager */\n",
       ".hoogle-doc {\n",
       "display: block;\n",
       "padding-bottom: 1.3em;\n",
       "padding-left: 0.4em;\n",
       "}\n",
       ".hoogle-code {\n",
       "display: block;\n",
       "font-family: monospace;\n",
       "white-space: pre;\n",
       "}\n",
       ".hoogle-text {\n",
       "display: block;\n",
       "}\n",
       ".hoogle-name {\n",
       "color: green;\n",
       "font-weight: bold;\n",
       "}\n",
       ".hoogle-head {\n",
       "font-weight: bold;\n",
       "}\n",
       ".hoogle-sub {\n",
       "display: block;\n",
       "margin-left: 0.4em;\n",
       "}\n",
       ".hoogle-package {\n",
       "font-weight: bold;\n",
       "font-style: italic;\n",
       "}\n",
       ".hoogle-module {\n",
       "font-weight: bold;\n",
       "}\n",
       ".hoogle-class {\n",
       "font-weight: bold;\n",
       "}\n",
       ".get-type {\n",
       "color: green;\n",
       "font-weight: bold;\n",
       "font-family: monospace;\n",
       "display: block;\n",
       "white-space: pre-wrap;\n",
       "}\n",
       ".show-type {\n",
       "color: green;\n",
       "font-weight: bold;\n",
       "font-family: monospace;\n",
       "margin-left: 1em;\n",
       "}\n",
       ".mono {\n",
       "font-family: monospace;\n",
       "display: block;\n",
       "}\n",
       ".err-msg {\n",
       "color: red;\n",
       "font-style: italic;\n",
       "font-family: monospace;\n",
       "white-space: pre;\n",
       "display: block;\n",
       "}\n",
       "#unshowable {\n",
       "color: red;\n",
       "font-weight: bold;\n",
       "}\n",
       ".err-msg.in.collapse {\n",
       "padding-top: 0.7em;\n",
       "}\n",
       ".highlight-code {\n",
       "white-space: pre;\n",
       "font-family: monospace;\n",
       "}\n",
       ".suggestion-warning { \n",
       "font-weight: bold;\n",
       "color: rgb(200, 130, 0);\n",
       "}\n",
       ".suggestion-error { \n",
       "font-weight: bold;\n",
       "color: red;\n",
       "}\n",
       ".suggestion-name {\n",
       "font-weight: bold;\n",
       "}\n",
       "</style><span class='get-type'>(+) :: forall a. Num a => a -> a -> a</span>"
      ],
      "text/plain": [
       "(+) :: forall a. Num a => a -> a -> a"
      ]
     },
     "metadata": {},
     "output_type": "display_data"
    },
    {
     "data": {
      "text/html": [
       "<style>/* Styles used for the Hoogle display in the pager */\n",
       ".hoogle-doc {\n",
       "display: block;\n",
       "padding-bottom: 1.3em;\n",
       "padding-left: 0.4em;\n",
       "}\n",
       ".hoogle-code {\n",
       "display: block;\n",
       "font-family: monospace;\n",
       "white-space: pre;\n",
       "}\n",
       ".hoogle-text {\n",
       "display: block;\n",
       "}\n",
       ".hoogle-name {\n",
       "color: green;\n",
       "font-weight: bold;\n",
       "}\n",
       ".hoogle-head {\n",
       "font-weight: bold;\n",
       "}\n",
       ".hoogle-sub {\n",
       "display: block;\n",
       "margin-left: 0.4em;\n",
       "}\n",
       ".hoogle-package {\n",
       "font-weight: bold;\n",
       "font-style: italic;\n",
       "}\n",
       ".hoogle-module {\n",
       "font-weight: bold;\n",
       "}\n",
       ".hoogle-class {\n",
       "font-weight: bold;\n",
       "}\n",
       ".get-type {\n",
       "color: green;\n",
       "font-weight: bold;\n",
       "font-family: monospace;\n",
       "display: block;\n",
       "white-space: pre-wrap;\n",
       "}\n",
       ".show-type {\n",
       "color: green;\n",
       "font-weight: bold;\n",
       "font-family: monospace;\n",
       "margin-left: 1em;\n",
       "}\n",
       ".mono {\n",
       "font-family: monospace;\n",
       "display: block;\n",
       "}\n",
       ".err-msg {\n",
       "color: red;\n",
       "font-style: italic;\n",
       "font-family: monospace;\n",
       "white-space: pre;\n",
       "display: block;\n",
       "}\n",
       "#unshowable {\n",
       "color: red;\n",
       "font-weight: bold;\n",
       "}\n",
       ".err-msg.in.collapse {\n",
       "padding-top: 0.7em;\n",
       "}\n",
       ".highlight-code {\n",
       "white-space: pre;\n",
       "font-family: monospace;\n",
       "}\n",
       ".suggestion-warning { \n",
       "font-weight: bold;\n",
       "color: rgb(200, 130, 0);\n",
       "}\n",
       ".suggestion-error { \n",
       "font-weight: bold;\n",
       "color: red;\n",
       "}\n",
       ".suggestion-name {\n",
       "font-weight: bold;\n",
       "}\n",
       "</style><span class='get-type'>(+) <$> Just 3 :: forall a. Num a => Maybe (a -> a)</span>"
      ],
      "text/plain": [
       "(+) <$> Just 3 :: forall a. Num a => Maybe (a -> a)"
      ]
     },
     "metadata": {},
     "output_type": "display_data"
    },
    {
     "data": {
      "text/html": [
       "<style>/* Styles used for the Hoogle display in the pager */\n",
       ".hoogle-doc {\n",
       "display: block;\n",
       "padding-bottom: 1.3em;\n",
       "padding-left: 0.4em;\n",
       "}\n",
       ".hoogle-code {\n",
       "display: block;\n",
       "font-family: monospace;\n",
       "white-space: pre;\n",
       "}\n",
       ".hoogle-text {\n",
       "display: block;\n",
       "}\n",
       ".hoogle-name {\n",
       "color: green;\n",
       "font-weight: bold;\n",
       "}\n",
       ".hoogle-head {\n",
       "font-weight: bold;\n",
       "}\n",
       ".hoogle-sub {\n",
       "display: block;\n",
       "margin-left: 0.4em;\n",
       "}\n",
       ".hoogle-package {\n",
       "font-weight: bold;\n",
       "font-style: italic;\n",
       "}\n",
       ".hoogle-module {\n",
       "font-weight: bold;\n",
       "}\n",
       ".hoogle-class {\n",
       "font-weight: bold;\n",
       "}\n",
       ".get-type {\n",
       "color: green;\n",
       "font-weight: bold;\n",
       "font-family: monospace;\n",
       "display: block;\n",
       "white-space: pre-wrap;\n",
       "}\n",
       ".show-type {\n",
       "color: green;\n",
       "font-weight: bold;\n",
       "font-family: monospace;\n",
       "margin-left: 1em;\n",
       "}\n",
       ".mono {\n",
       "font-family: monospace;\n",
       "display: block;\n",
       "}\n",
       ".err-msg {\n",
       "color: red;\n",
       "font-style: italic;\n",
       "font-family: monospace;\n",
       "white-space: pre;\n",
       "display: block;\n",
       "}\n",
       "#unshowable {\n",
       "color: red;\n",
       "font-weight: bold;\n",
       "}\n",
       ".err-msg.in.collapse {\n",
       "padding-top: 0.7em;\n",
       "}\n",
       ".highlight-code {\n",
       "white-space: pre;\n",
       "font-family: monospace;\n",
       "}\n",
       ".suggestion-warning { \n",
       "font-weight: bold;\n",
       "color: rgb(200, 130, 0);\n",
       "}\n",
       ".suggestion-error { \n",
       "font-weight: bold;\n",
       "color: red;\n",
       "}\n",
       ".suggestion-name {\n",
       "font-weight: bold;\n",
       "}\n",
       "</style><span class='get-type'>almostThere :: forall b. Num b => Maybe (Maybe b)</span>"
      ],
      "text/plain": [
       "almostThere :: forall b. Num b => Maybe (Maybe b)"
      ]
     },
     "metadata": {},
     "output_type": "display_data"
    },
    {
     "data": {
      "text/plain": [
       "Just (Just 5)"
      ]
     },
     "metadata": {},
     "output_type": "display_data"
    }
   ],
   "source": [
    ":t (+1)             -- Int -> Int\n",
    ":t (+1) <$> Just 3  -- Maybe Int\n",
    "(+1) <$> Just 3\n",
    "\n",
    "-----------------------------------------------------------------\n",
    "\n",
    "-- Add (Just 3) and (Just 2)?\n",
    ":t (+)             -- Int -> Int -> Int\n",
    ":t (+) <$> Just 3  -- Maybe (Int -> Int)\n",
    "\n",
    "-----------------------------------------------------------------\n",
    "\n",
    "almostThere = (<$> Just 3) <$> ((+) <$> Just 2) \n",
    "\n",
    ":t  almostThere -- Maybe (Maybe Int)\n",
    "almostThere"
   ]
  },
  {
   "cell_type": "markdown",
   "metadata": {},
   "source": [
    "As you can see with the first example, we have no issue fmapping the a function +1 to Just 3. But what if we want to add two functors? If we check the result of applying the plus operator to Just 3, we get a function at the functor level. We are not prepared for this!\n",
    "\n",
    "We can use fmap to take regular functions and apply them to functors. But we don't have a way to apply functions that already are at the functor level to functors. In the last example, we did some juggling to get almost what we needed. We managed to add the values but we ended up with duplicated functors."
   ]
  },
  {
   "cell_type": "markdown",
   "metadata": {},
   "source": [
    "The worst thing is that, this is a really common scenario. We may want to add two optional values that we retrieved from our database, maybe we want to apply a function to combine 3 trees into one, it's more common to have to work with multiple functors than with a single one. So, we need to solve this. \n",
    "\n",
    "\n",
    "One solution would be to create another versions of `fmap` that can handle a function of two arguments. For example, like this:"
   ]
  },
  {
   "cell_type": "code",
   "execution_count": 35,
   "metadata": {},
   "outputs": [
    {
     "data": {
      "text/plain": [
       "Just 5"
      ]
     },
     "metadata": {},
     "output_type": "display_data"
    }
   ],
   "source": [
    "fmap2 :: (a -> b -> c) -> Maybe a -> Maybe b -> Maybe c\n",
    "fmap2 f (Just a) (Just b) = Just (f a b)\n",
    "fmap2 _ _ _               = Nothing\n",
    "\n",
    "\n",
    "\n",
    "fmap2 (+) (Just 3) (Just 2)"
   ]
  },
  {
   "cell_type": "markdown",
   "metadata": {},
   "source": [
    "We take a binary function and two `Maybe` functors. If both values are `Just`, we apply the binary function, else, we return nothing because, if we are missing one or both values, we have no way of returning a valid result."
   ]
  },
  {
   "cell_type": "markdown",
   "metadata": {},
   "source": [
    "That would solve the problem. So in theory, we could create a type class called, for example:"
   ]
  },
  {
   "cell_type": "markdown",
   "metadata": {},
   "source": [
    "```haskell\n",
    "class Functor2 where\n",
    "    fmap2 :: (a -> b -> c) -> f a -> f b -> f c\n",
    "```"
   ]
  },
  {
   "cell_type": "markdown",
   "metadata": {},
   "source": [
    "But that only works for binary functions. If we need to use a function that takes three, four, or five arguments, we would need to create:"
   ]
  },
  {
   "cell_type": "markdown",
   "metadata": {},
   "source": [
    "```haskell\n",
    "class Functor3 where\n",
    "    fmap3 :: (a -> b -> c -> d) -> f a -> f b -> f c -> f d\n",
    "\n",
    "class Functor4 where\n",
    "    fmap4 :: (a -> b -> c -> d -> e) -> f a -> f b -> f c -> f d -> f e\n",
    "\n",
    "class Functor5 where\n",
    "    fmap5 :: (a -> b -> c -> d -> e -> g) -> f a -> f b -> f c -> f d -> f e -> f g\n",
    "```"
   ]
  },
  {
   "cell_type": "markdown",
   "metadata": {},
   "source": [
    "You know where we're going with this. This method is unsustainable. It doesn't matter how many type classes you create, there's always a usecase that requires more parameters. And, on top of that, we would have maybe dozens of type classes representing the same concept. \n",
    "\n",
    "But don't worry, thanks to currying, there's a better way!"
   ]
  },
  {
   "cell_type": "markdown",
   "metadata": {},
   "source": [
    "# Function application at the `Functor` level 🥇"
   ]
  },
  {
   "cell_type": "markdown",
   "metadata": {},
   "source": [
    "This is the key idea of the lesson. If yo understand this section, the rest of the lecture will flow naturally."
   ]
  },
  {
   "cell_type": "markdown",
   "metadata": {},
   "source": [
    "Ok, so, we know that writing an `fmap` for every possible number of arguments is not feasable. But we don't have to. If we take a look at Haskell's built in function application:"
   ]
  },
  {
   "cell_type": "markdown",
   "metadata": {},
   "source": [
    "```haskell\n",
    "( ) :: (a -> b) -> a -> b\n",
    "\n",
    "result = (+1) 3 -- 4\n",
    "--           ^\n",
    "--           |\n",
    "--    Function application\n",
    "```"
   ]
  },
  {
   "cell_type": "markdown",
   "metadata": {},
   "source": [
    "It takes a function that goes from `a` to `b` and a value of type `a` and returns a value of type `b`.\n",
    "\n",
    "And, because in Haskell, all functions are curried, meaning they all take one argument, we can apply this operator multiple times until our funciton is fully applied:"
   ]
  },
  {
   "cell_type": "code",
   "execution_count": 36,
   "metadata": {},
   "outputs": [
    {
     "data": {
      "text/plain": [
       "27"
      ]
     },
     "metadata": {},
     "output_type": "display_data"
    }
   ],
   "source": [
    "calculate :: Int -> Int -> Int -> Int\n",
    "calculate a b c = a + b * c\n",
    "\n",
    "calculate 3 6 4\n",
    "--       ^ ^ ^\n",
    "--       | | |\n",
    "--    Function application"
   ]
  },
  {
   "cell_type": "markdown",
   "metadata": {},
   "source": [
    "That's what we need to achieve. An operator that works like function application, but for functors. That way, it will work with functiuons of any number of arguments."
   ]
  },
  {
   "cell_type": "markdown",
   "metadata": {},
   "source": [
    "So, if regular function application has this signature:"
   ]
  },
  {
   "cell_type": "markdown",
   "metadata": {},
   "source": [
    "```haskell\n",
    "( ) ::                 (a -> b) -> a -> b\n",
    "```"
   ]
  },
  {
   "cell_type": "markdown",
   "metadata": {},
   "source": [
    "How does the type signature of the same function would look if everything was a `Functor`? Well, you guessed it, like this:"
   ]
  },
  {
   "cell_type": "markdown",
   "metadata": {},
   "source": [
    "```haskell\n",
    "(<*>) :: Functor f => f (a -> b) -> f a -> f b\n",
    "```"
   ]
  },
  {
   "cell_type": "markdown",
   "metadata": {},
   "source": [
    "We call this the \"star\" or \"ap\" operator. We use an operator because, of course, it will be used mostly as an infix function. And the type reflects that the behavior is the same as regular function application but lifted to work at the functor level.\n",
    "\n",
    "It's important not to confuse the signatures of this functor-level function application with fmap:"
   ]
  },
  {
   "cell_type": "markdown",
   "metadata": {},
   "source": [
    "```haskell\n",
    "(<$>) ::                (a -> b) -> f a -> f b\n",
    "```"
   ]
  },
  {
   "cell_type": "markdown",
   "metadata": {},
   "source": [
    "`fmap` takes a function that is not at the functor level and applies it to a functor. Once you applied the function the first time, the end result, be it the final value or a partially applied function, is now at the functor level. So we can not use `fmap` anymore."
   ]
  },
  {
   "cell_type": "markdown",
   "metadata": {},
   "source": [
    "Ok, so let's try defining it specifically for optional types. For `Maybe` values, this star operator would look like this: "
   ]
  },
  {
   "cell_type": "markdown",
   "metadata": {},
   "source": [
    "```haskell\n",
    "(<*>) :: Maybe (a -> b) -> Maybe a -> Maybe b\n",
    "Nothing <*> _       = Nothing     -- We don't have function 🤷\n",
    "_       <*> Nothing = Nothing     -- We don't have a value to apply the function to 🤷\n",
    "Just f  <*> Just x  = Just (f x) \n",
    "```"
   ]
  },
  {
   "cell_type": "markdown",
   "metadata": {},
   "source": [
    "We have to patternmatch to make sure that we actually have both the function and the value. If we don't have both, we can't return a valid result, so we return `Nothing`. Else, we patternmatch to extract the function and value, apply the funciton to get a value of type `b`, and wrap it again with the Just constructor.\n",
    "\n",
    "This is really similar to the `fmap` definition. With the caveat that now we have to take into account that the function is optional too, not just the value.\n",
    "\n",
    "Now that we have our definition, let's try it out!:"
   ]
  },
  {
   "cell_type": "code",
   "execution_count": 40,
   "metadata": {},
   "outputs": [
    {
     "data": {
      "text/plain": [
       "Just 4"
      ]
     },
     "metadata": {},
     "output_type": "display_data"
    },
    {
     "data": {
      "text/plain": [
       "Just 5"
      ]
     },
     "metadata": {},
     "output_type": "display_data"
    },
    {
     "data": {
      "text/plain": [
       "Just 11"
      ]
     },
     "metadata": {},
     "output_type": "display_data"
    }
   ],
   "source": [
    "Just (+1) <*> (Just 3)\n",
    "\n",
    "Just (+) <*> (Just 3) <*> (Just 2)\n",
    "\n",
    "calculate :: Int -> Int -> Int -> Int\n",
    "calculate a b c = a + b * c\n",
    "\n",
    "Just calculate <*> (Just 3) <*> (Just 2) <*> (Just 4)"
   ]
  },
  {
   "cell_type": "markdown",
   "metadata": {},
   "source": [
    "Awesome, it seems that it works. But, I asured you that the star operator is function application at the functor level, and I compared its type with the function application type to build my case. It's time I prove it to you.\n",
    "\n",
    "To prove that the star operator is function application at the functor level, I'm going to create a type that doesn't do anything. If the structure doesn't do anything, then the star operator should return the same result as regular function application, right? So let's do that.\n",
    "\n",
    "How do you imagine a type that doesn't do anything looks like? It's actually pretty straight forward. We need a type that wraps another type and doesn't provide any functionality. Like this:"
   ]
  },
  {
   "cell_type": "code",
   "execution_count": 41,
   "metadata": {},
   "outputs": [],
   "source": [
    "newtype Identity a = Identity { getIdentity :: a } deriving (Show, Eq)"
   ]
  },
  {
   "cell_type": "markdown",
   "metadata": {},
   "source": [
    "As you can see, if we have a type with only one constructor that the only thing it does is to hold the value inside. It's virtually the same as the underlying type but with the extra anoyance of having to wrap and unwrap it.\n",
    "\n",
    "We call this type the `Identity` type for the same reasons we call the identity values and the identity function like that. They preserve the identity of the values they interact with. They don't do anything basically.\n",
    "\n",
    "Remember the newtype wrappers of the Semigroup and Monoid lessons? Those weren't identities because the behaviour we gave them when defining their Semigroup and Monoid instances actually did something. So now, we have to also implement the type class instances in a way that they have no effect."
   ]
  },
  {
   "cell_type": "markdown",
   "metadata": {},
   "source": [
    "Ok, so, let's implement the `Functor` instance for the `Identity` type:"
   ]
  },
  {
   "cell_type": "code",
   "execution_count": 42,
   "metadata": {},
   "outputs": [],
   "source": [
    "instance Functor Identity where\n",
    "  --fmap :: (a -> b) -> Identity a -> Identity b\n",
    "  fmap f (Identity a) = Identity (f a)"
   ]
  },
  {
   "cell_type": "markdown",
   "metadata": {},
   "source": [
    "To do that, we'll just pattern match to extract the internal value, apply the function and wrap it again. It's the same as the `Just` case of the `Maybe` type, with the difference that, because we only have one constructor, there's no option to fail, so we'll always be able to apply the function to the underlying value."
   ]
  },
  {
   "cell_type": "code",
   "execution_count": 43,
   "metadata": {},
   "outputs": [
    {
     "data": {
      "text/plain": [
       "Identity {getIdentity = 4}"
      ]
     },
     "metadata": {},
     "output_type": "display_data"
    },
    {
     "data": {
      "text/plain": [
       "Identity {getIdentity = 6}"
      ]
     },
     "metadata": {},
     "output_type": "display_data"
    },
    {
     "data": {
      "text/plain": [
       "Identity {getIdentity = 'A'}"
      ]
     },
     "metadata": {},
     "output_type": "display_data"
    },
    {
     "data": {
      "text/plain": [
       "True"
      ]
     },
     "metadata": {},
     "output_type": "display_data"
    }
   ],
   "source": [
    "fmap (+1) (Identity 3) -- Identity 4\n",
    "\n",
    "(*2) <$> Identity 3    -- Identity 6\n",
    "\n",
    "'A' <$ Identity 3      -- Identity 'A'\n",
    "\n",
    "fmap id (Identity False) == Identity False -- True"
   ]
  },
  {
   "cell_type": "markdown",
   "metadata": {},
   "source": [
    "And as you can see, it works as expected and respects the `Functor` laws."
   ]
  },
  {
   "cell_type": "markdown",
   "metadata": {},
   "source": [
    "Now, we can create the star operator. \n",
    "\n",
    "The type was:"
   ]
  },
  {
   "cell_type": "markdown",
   "metadata": {},
   "source": [
    "```haskell\n",
    "(<*>) :: Functor f => f (a -> b) -> f a -> f b\n",
    "```"
   ]
  },
  {
   "cell_type": "markdown",
   "metadata": {},
   "source": [
    "So, we had a funciton at the functor level applied to a functor with values of type `a` to get the functor with values of type `b`. Because the `Identity` functor is basically just an anoying wrapper, for now at least, we know that we just have to unwrap and apply the funciton to the value of type `a`. So let's do that:"
   ]
  },
  {
   "cell_type": "code",
   "execution_count": 45,
   "metadata": {},
   "outputs": [],
   "source": [
    "(<*>) :: Identity (a -> b) -> Identity a -> Identity b\n",
    "(Identity f) <*> (Identity x) = Identity (f x)\n",
    "\n",
    "infixl 4 <*>"
   ]
  },
  {
   "cell_type": "markdown",
   "metadata": {},
   "source": [
    "Pretty straight forward, almost the same as `fmap`. Now comes the moment of truth. Let's see if the star operator is actually function application at the functor level:"
   ]
  },
  {
   "cell_type": "code",
   "execution_count": 46,
   "metadata": {
    "scrolled": true
   },
   "outputs": [
    {
     "data": {
      "text/plain": [
       "2"
      ]
     },
     "metadata": {},
     "output_type": "display_data"
    },
    {
     "data": {
      "text/plain": [
       "2"
      ]
     },
     "metadata": {},
     "output_type": "display_data"
    },
    {
     "data": {
      "text/plain": [
       "3"
      ]
     },
     "metadata": {},
     "output_type": "display_data"
    },
    {
     "data": {
      "text/plain": [
       "3"
      ]
     },
     "metadata": {},
     "output_type": "display_data"
    },
    {
     "data": {
      "text/plain": [
       "7"
      ]
     },
     "metadata": {},
     "output_type": "display_data"
    },
    {
     "data": {
      "text/plain": [
       "7"
      ]
     },
     "metadata": {},
     "output_type": "display_data"
    }
   ],
   "source": [
    "(+1) 1\n",
    "getIdentity $ Identity (+1) <*> Identity 1\n",
    "\n",
    "(+) 1 2\n",
    "getIdentity $ Identity (+) <*> Identity 1 <*> Identity 2\n",
    "\n",
    "(\\a b c -> a + b * c) 1 2 3\n",
    "getIdentity $ Identity (\\a b c -> a + b * c) <*> Identity 1 <*> Identity 2 <*> Identity 3"
   ]
  },
  {
   "cell_type": "markdown",
   "metadata": {},
   "source": [
    "As you can see, we have three examples of applying the same funtion to a value or multiple values. Once without functor using the built-in function application, and once using the star operator within a `Functor` that doesn't do anything. And we get the same result in both cases.\n",
    "\n",
    "We just proved that the star operator is a more generalized form of function application. It's more general because we get the same old function application if we apply it to the `Identity` functor, but we can also apply it to other functors."
   ]
  },
  {
   "cell_type": "markdown",
   "metadata": {},
   "source": [
    "--- Alternative: Is this enough though? What if one of the values is not a functor? For example, what if we want to combine three values, one local, and two that come from a database so they are maybe values. Like this:"
   ]
  },
  {
   "cell_type": "markdown",
   "metadata": {},
   "source": [
    "--- Alternative\n",
    "```haskell\n",
    "--                              DB      Local    DB\n",
    "Just (\\a b c -> a + b * c) <*> Just 1 <*> 2 <*> Just 3\n",
    "--                                        ^\n",
    "--                                        |\n",
    "--                              ❌  Not a Functor! ❌\n",
    "```"
   ]
  },
  {
   "cell_type": "markdown",
   "metadata": {},
   "source": [
    "As of now, we don't have a way to lift a value. We can only lift a function using fmap, and all other values have to already be functors."
   ]
  },
  {
   "cell_type": "markdown",
   "metadata": {},
   "source": [
    "Now that we have our new operator, let's see if it actually solves the problem we had."
   ]
  },
  {
   "cell_type": "markdown",
   "metadata": {},
   "source": [
    "## Being `pure` 😇"
   ]
  },
  {
   "cell_type": "markdown",
   "metadata": {},
   "source": [
    "We proved that the star operator is a generalized form of function application.  we could use it to build `fmap`s for every function. So let's try to do that:"
   ]
  },
  {
   "cell_type": "markdown",
   "metadata": {},
   "source": [
    "```haskell\n",
    "    fmap0 :: a -> f a\n",
    "    \n",
    "    fmap1 :: (a -> b) -> f a -> f b\n",
    "    fmap1 = fmap\n",
    "\n",
    "    fmap2 :: (a -> b -> c) -> f a -> f b -> f c\n",
    "\n",
    "    fmap3 :: (a -> b -> c -> d) -> f a -> f b -> f c -> f d\n",
    "\n",
    "    fmap4 :: (a -> b -> c -> d -> e) -> f a -> f b -> f c -> f d -> f e\n",
    "\n",
    "    fmap5 :: (a -> b -> c -> d -> e -> g) -> f a -> f b -> f c -> f d -> f e -> f g\n",
    "```"
   ]
  },
  {
   "cell_type": "markdown",
   "metadata": {},
   "source": [
    "I'm not adding the `Functor` constraint for readibiliy, but all those `f`s are functors.\n",
    "\n",
    "Ok, so lets try that. We already have `fmap1` (the `fmap` that lifts a function of one argument). It's our regular old `fmap`. Bput we'll redefine it using our new operator.\n",
    "\n",
    "Let's start with the simplest of all: `fmap0`. It takes a function that takes zero inputs, so, a constant value, and returns the same value lifted to the functor level. Hmm... righ of the bat we have an issue here. How do we do this? I mean, I don't see how we could use the `fmap` or the star operator. `fmap` requires two arguments and the star operator as well, on top of requiring that everything has to already be at the functor level. \n",
    "\n",
    "What about specific function, though? Could we think of ways to implement `fmap0` for specific functors? I think so. And it's acually pretty easy!\n",
    "\n",
    "For example, how can we embed a value of type `a` inside the `Identity` functro? Easy:"
   ]
  },
  {
   "cell_type": "code",
   "execution_count": 79,
   "metadata": {},
   "outputs": [
    {
     "data": {
      "text/plain": [
       "Identity {getValue = 3}"
      ]
     },
     "metadata": {},
     "output_type": "display_data"
    },
    {
     "data": {
      "text/plain": [
       "Identity {getValue = \"Hellooo!\"}"
      ]
     },
     "metadata": {},
     "output_type": "display_data"
    },
    {
     "data": {
      "text/plain": [
       "Identity {getValue = False}"
      ]
     },
     "metadata": {},
     "output_type": "display_data"
    }
   ],
   "source": [
    "fmap0 :: a -> Identity a\n",
    "fmap0 = Identity\n",
    "\n",
    "\n",
    "fmap0 3\n",
    "fmap0 \"Hellooo!\"\n",
    "fmap0 False"
   ]
  },
  {
   "cell_type": "markdown",
   "metadata": {},
   "source": [
    "We just wrapp the value with the `Identity` constructor.\n",
    "\n",
    "And, if we want to do it for `Maybe` values, it would be like this:"
   ]
  },
  {
   "cell_type": "code",
   "execution_count": 80,
   "metadata": {},
   "outputs": [
    {
     "data": {
      "text/plain": [
       "Just 3"
      ]
     },
     "metadata": {},
     "output_type": "display_data"
    },
    {
     "data": {
      "text/plain": [
       "Just \"Hellooo!\""
      ]
     },
     "metadata": {},
     "output_type": "display_data"
    },
    {
     "data": {
      "text/plain": [
       "Just False"
      ]
     },
     "metadata": {},
     "output_type": "display_data"
    }
   ],
   "source": [
    "fmap0 :: a -> Maybe a\n",
    "fmap0 = Just\n",
    "\n",
    "\n",
    "fmap0 3\n",
    "fmap0 \"Hellooo!\"\n",
    "fmap0 False"
   ]
  },
  {
   "cell_type": "markdown",
   "metadata": {},
   "source": [
    "We wrapp with the `Just` constructor. We pick `Just` instead of `Nothing` because else we'd always get `Nothing` and we'd have a function that alway fails. But we're not failing, we already know the value, so we can just embed it inside the `Just`."
   ]
  },
  {
   "cell_type": "markdown",
   "metadata": {},
   "source": [
    "We can do the same for lists:"
   ]
  },
  {
   "cell_type": "code",
   "execution_count": 82,
   "metadata": {},
   "outputs": [
    {
     "data": {
      "text/plain": [
       "[3]"
      ]
     },
     "metadata": {},
     "output_type": "display_data"
    },
    {
     "data": {
      "text/plain": [
       "[\"Hellooo!\"]"
      ]
     },
     "metadata": {},
     "output_type": "display_data"
    },
    {
     "data": {
      "text/plain": [
       "[False]"
      ]
     },
     "metadata": {},
     "output_type": "display_data"
    }
   ],
   "source": [
    "fmap0 :: a -> [a]\n",
    "fmap0 x = [x]\n",
    "\n",
    "\n",
    "fmap0 3\n",
    "fmap0 \"Hellooo!\"\n",
    "fmap0 False"
   ]
  },
  {
   "cell_type": "markdown",
   "metadata": {},
   "source": [
    "A list of a single value is still a list."
   ]
  },
  {
   "cell_type": "markdown",
   "metadata": {},
   "source": [
    "Etcetera, etcetera.\n",
    "\n",
    "So, we can write this function for individual functors, but we have to do it more generally, for every functor. And because every functor works in different ways, we'll have to define a new function that does this for us as part of a type class. We'll call this fucntion `pure`:"
   ]
  },
  {
   "cell_type": "markdown",
   "metadata": {},
   "source": [
    "```haskell\n",
    "pure :: a -> f a\n",
    "```"
   ]
  },
  {
   "cell_type": "markdown",
   "metadata": {},
   "source": [
    "`pure` takes a value and embedes it in a functor. That's it. We call it \"pure\" because..."
   ]
  },
  {
   "cell_type": "markdown",
   "metadata": {},
   "source": [
    "## Defining every `fmapX` following the types"
   ]
  },
  {
   "cell_type": "markdown",
   "metadata": {},
   "source": [
    "Ok, so, now that we have pure, let's define all those `fmapN` functions. Just to prove that we don't need them if we ouse these two new functions. Starting, again, with `fmap0`:"
   ]
  },
  {
   "cell_type": "markdown",
   "metadata": {},
   "source": [
    "```haskell\n",
    "fmap0 :: a -> f a\n",
    "fmap0 = ..\n",
    "```"
   ]
  },
  {
   "cell_type": "markdown",
   "metadata": {},
   "source": [
    "We need to take a constant value and lift it to the functor level. Easy, we just defined `pure` to do exactly that, so our first `fmap` is:"
   ]
  },
  {
   "cell_type": "markdown",
   "metadata": {},
   "source": [
    "```haskell\n",
    "fmap0 :: a -> f a\n",
    "fmap0 = pure\n",
    "```"
   ]
  },
  {
   "cell_type": "markdown",
   "metadata": {},
   "source": [
    "One down, 5 to go. What about `fmap1`?"
   ]
  },
  {
   "cell_type": "markdown",
   "metadata": {},
   "source": [
    "```haskell\n",
    "fmap1 :: (a -> b) -> f a -> f b\n",
    "fmap1 = fmap\n",
    "```"
   ]
  },
  {
   "cell_type": "markdown",
   "metadata": {},
   "source": [
    "I know it's the same as `fmap`, but we said we could define everything uisng just:"
   ]
  },
  {
   "cell_type": "markdown",
   "metadata": {},
   "source": [
    "```haskell\n",
    "pure a -> f a\n",
    "(<*>) f (a -> b) -> f a -> f b\n",
    "```"
   ]
  },
  {
   "cell_type": "markdown",
   "metadata": {},
   "source": [
    "So, how are we gonna do this? Let's start from scratch:"
   ]
  },
  {
   "cell_type": "markdown",
   "metadata": {},
   "source": [
    "```haskell\n",
    "fmap1 :: (a -> b) -> f a -> f b\n",
    "fmap1 g fx = ...\n",
    "```"
   ]
  },
  {
   "cell_type": "markdown",
   "metadata": {},
   "source": [
    "```haskell\n",
    "g  :: a -> b\n",
    "fx :: f a\n",
    "pure  :: a -> f a\n",
    "(<*>) :: f (a -> b) -> f a -> f b\n",
    "---------------------------------------------------------------------------------------------\n",
    "pure g          :: f (a -> b)                -- lift g\n",
    "---------------------------------------------------------------------------------------------\n",
    "(<*>)           :: f (a -> b) -> f a -> f b  -- We can use <*> directly\n",
    "pure g <*>      ::               f a -> f b  -- partially apply <*>\n",
    "---------------------------------------------------------------------------------------------\n",
    "pure g <*> fx   ::                      f b  -- fully apply <*>\n",
    "```"
   ]
  },
  {
   "cell_type": "markdown",
   "metadata": {},
   "source": [
    "```haskell\n",
    "fmap1 :: (a -> b) -> f a -> f b\n",
    "fmap1 g x = pure g <*> x -- = fmap g x = g <$> x\n",
    "```"
   ]
  },
  {
   "cell_type": "markdown",
   "metadata": {},
   "source": [
    "And that's how we define `fmap1` which is the same as `fmap`. Now, we can do `fmap2`:"
   ]
  },
  {
   "cell_type": "markdown",
   "metadata": {},
   "source": [
    "```haskell\n",
    "fmap2 :: (a -> b -> c) -> f a -> f b -> f c\n",
    "fmap2 g fx fy = ...\n",
    "```"
   ]
  },
  {
   "cell_type": "markdown",
   "metadata": {},
   "source": [
    "So, we have the function `g` that takes a value of type `a` and another of type `b`, one value of type `f a` and another of type `f b`. And, using those and the two funcitons we just defined, we want to obtain `f c`."
   ]
  },
  {
   "cell_type": "markdown",
   "metadata": {},
   "source": [
    "```haskell\n",
    "g  :: a -> b -> c\n",
    "fx :: f a\n",
    "fy :: f b\n",
    "pure  :: a -> f a\n",
    "(<*>) :: f (a -> b) -> f a -> f b\n",
    "---------------------------------------------------------------------------------------------\n",
    "pure g               :: f (a -> b -> c)  -- lift g\n",
    "---------------------------------------------------------------------------------------------\n",
    "(<*>)                :: f (a -> (b -> c)) -> f a -> f (b -> c)  -- specialize `b` to `b -> c`\n",
    "pure g <*>           ::                      f a -> f (b -> c)  -- partially apply <*>\n",
    "---------------------------------------------------------------------------------------------\n",
    "(pure g) <*> fx      ::                             f (b -> c)  -- fully apply <*>\n",
    "---------------------------------------------------------------------------------------------\n",
    "(<*>)                ::                             f (b -> c) -> f b -> f c -- spec `a` to `b`, `b` to `c`\n",
    "(pure g) <*> fx <*>  ::                                           f b -> f c -- partially apply second <*>\n",
    "---------------------------------------------------------------------------------------------\n",
    "pure g <*> fx <*> fy ::                                                  f c -- fully apply second <*>\n",
    "```"
   ]
  },
  {
   "cell_type": "markdown",
   "metadata": {},
   "source": [
    "```haskell\n",
    "fmap2 :: (a -> b -> c) -> f a -> f b -> f c\n",
    "fmap2 g fx fy = pure g <*> fx <*> fy\n",
    "```"
   ]
  },
  {
   "cell_type": "markdown",
   "metadata": {},
   "source": [
    "We can keep going, but for the sake of time, I'll asume you figure out the pattern. Once we lift the function using pure, all we have to do is use the star operator as function application for the rest of the parameters and we're good. So, this is how all the fmap functions would look like: "
   ]
  },
  {
   "cell_type": "markdown",
   "metadata": {},
   "source": [
    "```haskell\n",
    "    fmap0 :: a -> f a\n",
    "    fmap0 = pure\n",
    "    \n",
    "    fmap1 :: (a -> b) -> f a -> f b\n",
    "    fmap1 g fa = pure g <*> fa -- same as g <$> fa\n",
    "\n",
    "    fmap2 :: (a -> b -> c) -> f a -> f b -> f c\n",
    "    fmap2 g fa fb = pure g <*> fa <*> fb\n",
    "\n",
    "    fmap3 :: (a -> b -> c -> d) -> f a -> f b -> f c -> f d\n",
    "    fmap3 g fa fb fc = pure g <*> fa <*> fb <*> fc\n",
    "\n",
    "    fmap4 :: (a -> b -> c -> d -> e) -> f a -> f b -> f c -> f d -> f e\n",
    "    fmap4 g fa fb fc fd = pure g <*> fa <*> fb <*> fc <*> fd\n",
    "\n",
    "    fmap5 :: (a -> b -> c -> d -> e -> g) -> f a -> f b -> f c -> f d -> f e -> f g\n",
    "    fmap5 g fa fb fc fd fe = pure g <*> fa <*> fb <*> fc <*> fd <*> fe\n",
    "```"
   ]
  },
  {
   "cell_type": "markdown",
   "metadata": {},
   "source": [
    "On top of that, we see that from fmap1 onwards, we can replace the two steps of fist lifting the function with `pure` and then applying it with the star operator with one step using the fmap operator. So the same expresions could be written like this:"
   ]
  },
  {
   "cell_type": "markdown",
   "metadata": {},
   "source": [
    "```haskell\n",
    "    fmap0 :: a -> f a\n",
    "    fmap0 = pure\n",
    "    \n",
    "    fmap1 :: (a -> b) -> f a -> f b\n",
    "    fmap1 g fa = g <$> fa\n",
    "\n",
    "    fmap2 :: (a -> b -> c) -> f a -> f b -> f c\n",
    "    fmap2 g fa fb = g <$> fa <*> fb\n",
    "\n",
    "    fmap3 :: (a -> b -> c -> d) -> f a -> f b -> f c -> f d\n",
    "    fmap3 g fa fb fc = g <$> fa <*> fb <*> fc\n",
    "\n",
    "    fmap4 :: (a -> b -> c -> d -> e) -> f a -> f b -> f c -> f d -> f e\n",
    "    fmap4 g fa fb fc fd = g <$> fa <*> fb <*> fc <*> fd\n",
    "\n",
    "    fmap5 :: (a -> b -> c -> d -> e -> g) -> f a -> f b -> f c -> f d -> f e -> f g\n",
    "    fmap5 g fa fb fc fd fe = g <$> fa <*> fb <*> fc <*> fd <*> fe\n",
    "```"
   ]
  },
  {
   "cell_type": "markdown",
   "metadata": {},
   "source": [
    "This style of using fmap to start the function aplication and continuing with the star operator is called applicative style, and is really common in Haskell.\n",
    "\n",
    "Remenber that defining all these fmaps was just to demostrate the usefulnes and power of the pure and star operators. In reality we use the operators directly as we'll do in the rest of the lesson."
   ]
  },
  {
   "cell_type": "markdown",
   "metadata": {},
   "source": [
    "OK, that's it! We solve the limitation we suffered with `fmap`. Now, let's make it official by creating the type class."
   ]
  },
  {
   "cell_type": "markdown",
   "metadata": {},
   "source": [
    "## The `Applicative` type class"
   ]
  },
  {
   "cell_type": "markdown",
   "metadata": {},
   "source": [
    "Here's the `Applicative` type class: "
   ]
  },
  {
   "cell_type": "markdown",
   "metadata": {},
   "source": [
    "```haskell\n",
    "class Functor f => Applicative f where\n",
    "    pure  :: a -> f a\n",
    "    (<*>) :: f (a -> b) -> f a -> f b\n",
    "```"
   ]
  },
  {
   "cell_type": "markdown",
   "metadata": {},
   "source": [
    "So, how can we express what an `Applicative` is in words? For starterd, could say something like this:"
   ]
  },
  {
   "cell_type": "markdown",
   "metadata": {},
   "source": [
    "An `Applicative` is a functor with a function to embed expressions (`pure`), and an operator that works as function application at the functor level (`<*>`)."
   ]
  },
  {
   "cell_type": "markdown",
   "metadata": {},
   "source": [
    "That's why they are called applicative functors, because they are functors with function application."
   ]
  },
  {
   "cell_type": "markdown",
   "metadata": {},
   "source": [
    "To define the `Applicative` type class, we just need these two new behaviours we just discovered. But before we formally define it, let's make it more concrete by defining a few instances so we have "
   ]
  },
  {
   "cell_type": "markdown",
   "metadata": {},
   "source": [
    "Let's start by defining the instance for the `Identity` type wrapper:"
   ]
  },
  {
   "cell_type": "code",
   "execution_count": 13,
   "metadata": {},
   "outputs": [],
   "source": [
    "newtype Identity a = Identity { getValue :: a } deriving (Show, Eq)\n",
    "\n",
    "instance Functor Identity where\n",
    "  --fmap :: (a -> b) -> Identity a -> Identity b\n",
    "  fmap f (Identity a) = Identity (f a)"
   ]
  },
  {
   "cell_type": "markdown",
   "metadata": {},
   "source": [
    "Of course, because `Applicative` is a subclass of `Functor`, we have to define `Functor` first. It's pretty straight forward. We pattern match to extract the value wraped with the `Identity` constructor, apply the function to the underlying value, and wrap it again. Now to the new part:"
   ]
  },
  {
   "cell_type": "code",
   "execution_count": 19,
   "metadata": {},
   "outputs": [],
   "source": [
    "instance Applicative Identity where\n",
    "  -- pure :: a -> Identity a\n",
    "  pure = Identity\n",
    "  -- (<*>) :: Identity (a -> b) -> Identity a -> Identity b\n",
    "  -- Identity f <*> Identity a = Identity (f a)\n",
    "  Identity f <*> x = f <$> x -- same as definition above"
   ]
  },
  {
   "cell_type": "markdown",
   "metadata": {},
   "source": [
    "To create an instance for the applicative type class, we need to define both `pure` and the star operator. We don't have much choice for `pure`. We need to lift a value to the `Identity` level and we have only one constructor with the same type as pure. So we just use that.\n",
    "\n",
    "For the star operator, we have two choices. We can patternmatch to extract both the function and the value, apply the function to the value and wrap it again, or because we have `fmap` at our disposal, we can patternmatch to extract only the funciton and fmappit to the value. Which, if you look at the definition of the functior instance, it's the same as what we did in the first definition by hand, but we avoid repeating ourselves.\n",
    "\n",
    "Now that the `Identity` type is an applicative functor, we can use the operators:"
   ]
  },
  {
   "cell_type": "code",
   "execution_count": 21,
   "metadata": {},
   "outputs": [
    {
     "data": {
      "text/plain": [
       "Identity {getValue = 2}"
      ]
     },
     "metadata": {},
     "output_type": "display_data"
    },
    {
     "data": {
      "text/plain": [
       "Identity {getValue = 3}"
      ]
     },
     "metadata": {},
     "output_type": "display_data"
    },
    {
     "data": {
      "text/plain": [
       "Identity {getValue = 7}"
      ]
     },
     "metadata": {},
     "output_type": "display_data"
    }
   ],
   "source": [
    "Identity (+1) <*> Identity 1\n",
    "\n",
    "Identity (+) <*> Identity 1 <*> Identity 2\n",
    "\n",
    "Identity (\\a b c -> a + b * c) <*> Identity 1 <*> Identity 2 <*> Identity 3"
   ]
  },
  {
   "cell_type": "markdown",
   "metadata": {},
   "source": [
    "That one was borring, so let's do a new one. Let's create an instance for the `Maybe` type. Same as before we start with the functor instance:"
   ]
  },
  {
   "cell_type": "markdown",
   "metadata": {},
   "source": [
    "```haskell\n",
    "data Maybe a = Nothing | Just a\n",
    "\n",
    "-------------------------------------------------------------------------\n",
    "\n",
    "instance Functor Maybe where\n",
    "  -- fmap :: (a -> b) -> Maybe a -> Maybe b\n",
    "  fmap _ Nothing  = Nothing\n",
    "  fmap f (Just x) = Just (f x)\n",
    "\n",
    "-------------------------------------------------------------------------\n",
    "\n",
    "instance Applicative Maybe where\n",
    "  -- pure :: a -> Maybe a\\\n",
    "  -- pure = \\x -> Nothing ❌\n",
    "  pure = Just\n",
    "  -- (<*>) :: Maybe (a -> b) -> Maybe a -> Maybe b\n",
    "  Nothing <*> _     = Nothing\n",
    "  _ <*> Nothing     = Nothing\n",
    "  Just f <*> Just x = Just (f x)\n",
    "```"
   ]
  },
  {
   "cell_type": "markdown",
   "metadata": {},
   "source": [
    "We don't run this cell because these instances are alreay provided by the prelude.\n",
    "\n",
    "So, we alredy talked about the `Functor` instance in the previous lesson, so we won't go there. Now, about the applicative instance...\n",
    "\n",
    "We have two possible options that satisfy the types for `pure`. We could ignore the input and return `Nothing`, and we could use `Just` that fits perfectly fine by itself. Conceptually, it makes sense to .... . But, if that doesn't convince you, `Just` is the only options if we want to respect the laws of the type class!"
   ]
  },
  {
   "cell_type": "markdown",
   "metadata": {},
   "source": [
    "## The `Applicative` laws"
   ]
  },
  {
   "cell_type": "markdown",
   "metadata": {},
   "source": [
    "Remember that one of the characteristics of functors was that `fmap` din't change the structure itself. Here, the star operator has the same restriction."
   ]
  },
  {
   "cell_type": "markdown",
   "metadata": {},
   "source": [
    "Sadly, same as it happened with Semigroup, Monoid, and Functor, not everything is reflected in the type class definition. So, we have to complement it with a few laws. Here they are:"
   ]
  },
  {
   "cell_type": "markdown",
   "metadata": {},
   "source": [
    "**Identity:**\n",
    "```haskell\n",
    "pure id <*> v = v  -- pure id <*> Just 3 = Just (id 3) = Just 3\n",
    "```"
   ]
  },
  {
   "cell_type": "markdown",
   "metadata": {},
   "source": [
    "**Homomorphism:**\n",
    "```haskell\n",
    "pure f <*> pure x = pure (f x) -- pure show <*> pure 3 = pure (show 3)\n",
    "```"
   ]
  },
  {
   "cell_type": "markdown",
   "metadata": {},
   "source": [
    "**Composition:**\n",
    "```haskell\n",
    "(pure (.) <*> u <*> v) <*> w = u <*> (v <*> w) \n",
    "```"
   ]
  },
  {
   "cell_type": "markdown",
   "metadata": {},
   "source": [
    "This one shows that the operator is associative, although it might not be clear at a glance, so here's an example:"
   ]
  },
  {
   "cell_type": "code",
   "execution_count": 5,
   "metadata": {
    "scrolled": false
   },
   "outputs": [
    {
     "data": {
      "text/plain": [
       "Just \"6\""
      ]
     },
     "metadata": {},
     "output_type": "display_data"
    },
    {
     "data": {
      "text/plain": [
       "Just \"6\""
      ]
     },
     "metadata": {},
     "output_type": "display_data"
    },
    {
     "data": {
      "text/plain": [
       "True"
      ]
     },
     "metadata": {},
     "output_type": "display_data"
    }
   ],
   "source": [
    "left  = (pure (.) <*> Just show <*> Just (*2)) <*> Just 3\n",
    "right =               Just show <*> (Just (*2) <*> Just 3)\n",
    "\n",
    "left\n",
    "right\n",
    "left == right"
   ]
  },
  {
   "cell_type": "markdown",
   "metadata": {},
   "source": [
    "On the left side, we want to combine the `show` function with the  `(*2)` funtion first and then apply it to `3`. And we know that the way of combining functions is by composition. So, we lift function composition to the functor level and apply it to `Just show` and `Just (*2)`. Then, we apply the result of that comoposition to `Just 3`.\n",
    "\n",
    "On the right side, we fist want to combine the last two and then combine the result with the first. In this case, we don't need to lift function composition because we can apply `Just (*2)` to `Just 3` directly. So we do that to get `Just 6` and then apply `Just show` to get the string representation of the number six.\n",
    "\n",
    "As you can see, we get the same result on both sises.\n",
    "\n",
    "Finally, we have the interchange law:"
   ]
  },
  {
   "cell_type": "markdown",
   "metadata": {},
   "source": [
    "**Interchange:**\n",
    "```haskell\n",
    "f <*> pure x = pure (\\f -> f x) <*> f\n",
    "```"
   ]
  },
  {
   "cell_type": "markdown",
   "metadata": {},
   "source": [
    "This one states that, we should get the same result if we flip the arguments when applying a function. We know this is true for regular function application. For example:"
   ]
  },
  {
   "cell_type": "code",
   "execution_count": 9,
   "metadata": {
    "scrolled": false
   },
   "outputs": [
    {
     "data": {
      "text/plain": [
       "4"
      ]
     },
     "metadata": {},
     "output_type": "display_data"
    },
    {
     "data": {
      "text/plain": [
       "4"
      ]
     },
     "metadata": {},
     "output_type": "display_data"
    },
    {
     "data": {
      "text/plain": [
       "True"
      ]
     },
     "metadata": {},
     "output_type": "display_data"
    }
   ],
   "source": [
    "left  = (+1) 3\n",
    "right = (\\f -> f 3) (+1) \n",
    "\n",
    "left\n",
    "right\n",
    "left == right"
   ]
  },
  {
   "cell_type": "markdown",
   "metadata": {},
   "source": [
    "On the left side, we take the function `(+1)` and apply it to 3 to get 4.\n",
    "\n",
    "On the right side, we take a function that takes another function as parameter and applies it to the number three and we apply this function to the `(+1)` funciton. This results in +1 being passed as parameter and being applied to 3.\n",
    "\n",
    "As you can see, we have to make the extra step of adding a lambda function, but if we flip the arguments of the space function application operator, we stil get the same result. That property should also hold with our star operator:"
   ]
  },
  {
   "cell_type": "code",
   "execution_count": 8,
   "metadata": {
    "scrolled": false
   },
   "outputs": [
    {
     "data": {
      "text/plain": [
       "Just 4"
      ]
     },
     "metadata": {},
     "output_type": "display_data"
    },
    {
     "data": {
      "text/plain": [
       "Just 4"
      ]
     },
     "metadata": {},
     "output_type": "display_data"
    },
    {
     "data": {
      "text/plain": [
       "True"
      ]
     },
     "metadata": {},
     "output_type": "display_data"
    }
   ],
   "source": [
    "left  = Just (+1) <*> pure 3\n",
    "right = pure (\\f -> f 3) <*> Just (+1) \n",
    "\n",
    "left\n",
    "right\n",
    "left == right"
   ]
  },
  {
   "cell_type": "markdown",
   "metadata": {},
   "source": [
    "This is the same as we just saw but lifted at the functor level. Well, now that we have the `Applicative` type class, lifted at the `Applicative` level.\n",
    "\n",
    "Same as before, we have to make the extra step of adding a lambda function, but if we flip the arguments of the star operator, we stil get the same result."
   ]
  },
  {
   "cell_type": "markdown",
   "metadata": {},
   "source": [
    "## 🎆 Programming with effects 🎆"
   ]
  },
  {
   "cell_type": "markdown",
   "metadata": {},
   "source": [
    "Congratulations! You now know how to program with effects!! Oh, you didn't realize that? Well, you do! Here's why:"
   ]
  },
  {
   "cell_type": "markdown",
   "metadata": {},
   "source": [
    "An `Applicative` is a functor with operations to embed pure expressions (`pure`), and sequence computations and combine their results (`<*>`)."
   ]
  },
  {
   "cell_type": "markdown",
   "metadata": {},
   "source": [
    "---"
   ]
  },
  {
   "cell_type": "markdown",
   "metadata": {},
   "source": [
    "---"
   ]
  },
  {
   "cell_type": "markdown",
   "metadata": {},
   "source": [
    "---"
   ]
  },
  {
   "cell_type": "markdown",
   "metadata": {},
   "source": [
    "# Applicative"
   ]
  },
  {
   "cell_type": "markdown",
   "metadata": {},
   "source": [
    "## Outline\n",
    "\n",
    "* Incentive for Applicative\n",
    "\n",
    "* Definition of Applicative type class\n",
    "\n",
    "* Using Applicative and Functor together\n",
    "\n",
    "* Applicative examples\n",
    "\n",
    "* Applicative laws\n",
    "\n",
    "In this lesson, we will learn about the Applicative type classe and how you can use it."
   ]
  },
  {
   "cell_type": "markdown",
   "metadata": {},
   "source": [
    "## Incentive for Applicative"
   ]
  },
  {
   "cell_type": "markdown",
   "metadata": {},
   "source": [
    "Imagine you have a function `maybeAdd1 :: Num a => Maybe (a -> a)`. This means that the function migh exist or not. \n",
    "\n",
    "How can this be? Well a practical example is if you use the `<$>` operator with a function like `(+)` and apply it to a `Maybe a` value."
   ]
  },
  {
   "cell_type": "code",
   "execution_count": null,
   "metadata": {},
   "outputs": [],
   "source": [
    "maybeAddition :: Num a => Maybe a -> Maybe (a -> a)\n",
    "maybeAddition maybeVal = (+) <$> maybeVal\n",
    "\n",
    "-- Here is a more detailed breakdown of this function without using <$>\n",
    "maybeAddition' :: Num a => Maybe a -> Maybe (a -> a)\n",
    "maybeAddition' Nothing = Nothing\n",
    "maybeAddition' (Just n) = Just $ (+) n\n",
    "\n",
    "var1 :: Maybe Int\n",
    "var1 = Just 1\n",
    "\n",
    "maybeAdd1 = maybeAddition var1\n",
    ":t maybeAdd1"
   ]
  },
  {
   "cell_type": "markdown",
   "metadata": {},
   "source": [
    "We see that the command `:t` in the code above returns the signature we defined in the begining where type `a` is now `Int`. \n",
    "\n",
    "Now comes the question if you want to use this function on another `Maybe Int` variable how would you do it? "
   ]
  },
  {
   "cell_type": "markdown",
   "metadata": {},
   "source": [
    "The function would then have the type signature:\n",
    "```haskell\n",
    "add1 :: Maybe Int -> Maybe Int\n",
    "```\n",
    "One possibility would be to write the `add1` function such that handles the case of the missing function."
   ]
  },
  {
   "cell_type": "code",
   "execution_count": null,
   "metadata": {},
   "outputs": [],
   "source": [
    "import Data.Maybe ( fromJust )\n",
    "\n",
    "var2 :: Maybe Int\n",
    "var2 = Just 2\n",
    "\n",
    "add1 :: Maybe Int -> Maybe Int\n",
    "add1 Nothing = Nothing\n",
    "add1 (Just n) = Just $ fromJust maybeAdd1 n\n",
    "\n",
    "print $ add1 var2"
   ]
  },
  {
   "cell_type": "markdown",
   "metadata": {},
   "source": [
    "Instead of using pattern matching when defining the `add1` function we can also use the Applicative type class to solve this problem."
   ]
  },
  {
   "cell_type": "markdown",
   "metadata": {},
   "source": [
    "## Definition of Applicative type class"
   ]
  },
  {
   "cell_type": "markdown",
   "metadata": {},
   "source": [
    "The Applicative type class is defined as follows:\n",
    "```haskell\n",
    "class Functor f => Applicative f where\n",
    "  pure :: a -> f a\n",
    "  (<*>) :: f (a -> b) -> f a -> f b\n",
    "  GHC.Base.liftA2 :: (a -> b -> c) -> f a -> f b -> f c\n",
    "  (*>) :: f a -> f b -> f b\n",
    "  (<*) :: f a -> f b -> f a\n",
    "  {-# MINIMAL pure, ((<*>) | liftA2) #-}\n",
    "```"
   ]
  },
  {
   "cell_type": "markdown",
   "metadata": {},
   "source": [
    "We see that Functor is a superclass of Applicative. This means that every type that has an instance of Applicative also has to have an instance of Functor.\n",
    "\n",
    "The minimal complete definition requires the `pure` operator and another operator which can be the operator `<*>` called app or the function `liftA2`. "
   ]
  },
  {
   "cell_type": "markdown",
   "metadata": {},
   "source": [
    "The `pure` function takes a type and puts it into a context. Here is an example with Maybe and lists which both have an instance of Applicative."
   ]
  },
  {
   "cell_type": "markdown",
   "metadata": {},
   "source": [
    "var1 = pure 1 :: Maybe Int\n",
    "var2 = pure 1 :: [Int]\n",
    "\n",
    "print var1\n",
    "print var2"
   ]
  },
  {
   "cell_type": "markdown",
   "metadata": {},
   "source": [
    "Ussually when we work with a type that has an instance of Applicative we are using the `<*>` operator and more rarely the `liftA2` function.\n",
    "\n",
    "The `<*>` operator takes a function and a variable both in the same context and applies the function to the variable after taking them out of their context. \n",
    "\n",
    "Then it puts the result back in the context. Let's see how it can help us to easier defining the `add1` function."
   ]
  },
  {
   "cell_type": "code",
   "execution_count": null,
   "metadata": {},
   "outputs": [],
   "source": [
    "var1 = 1 :: Int\n",
    "var2 = Just 1 :: Maybe Int\n",
    "\n",
    "add1 :: Maybe Int -> Maybe Int\n",
    "add1 maybeInt = maybeAdd1 <*> maybeInt\n",
    "\n",
    "print $ add1 (pure var1)\n",
    "print $ add1 var2"
   ]
  },
  {
   "cell_type": "markdown",
   "metadata": {},
   "source": [
    "We get the same result as before and the function is one line shorter. A good reason to use the `<*>` operator is that it's easier to read the code because it's generic. \n",
    "\n",
    "The same symbol serves the same purpose for all Applicatives. And for types that have already an instance of Applicative as Maybe and lists, the `<*>` operator is already defined."
   ]
  },
  {
   "cell_type": "markdown",
   "metadata": {},
   "source": [
    "## Using Applicative and Functor together"
   ]
  },
  {
   "cell_type": "markdown",
   "metadata": {},
   "source": [
    "If we think a bit about the examples from the previous chapter we may ask ourselves how to write a function `add` that takes in two Maybe values and returns also a Maybe value."
   ]
  },
  {
   "cell_type": "code",
   "execution_count": null,
   "metadata": {},
   "outputs": [],
   "source": [
    "add :: Num a => Maybe a -> Maybe a -> Maybe a\n",
    "add maybeVal1 maybeVal2 = (+) <$> maybeVal1 <*> maybeVal2\n",
    "\n",
    "print $ add var1 var2"
   ]
  },
  {
   "cell_type": "markdown",
   "metadata": {},
   "source": [
    "We see we get again the same result and used much less lines of code. Because of how `<*>` is defined you can always add one more parameter to the function. \n",
    "\n",
    "Also instead of using the `<$>` operator you can use `pure` that puts the function in the begining directly in the maybe context."
   ]
  },
  {
   "cell_type": "code",
   "execution_count": null,
   "metadata": {},
   "outputs": [],
   "source": [
    "var3 :: Maybe Int\n",
    "var3 = Just 3\n",
    "\n",
    "addThree :: Num a => Maybe a -> Maybe a -> Maybe a -> Maybe a\n",
    "addThree maybeVal1 maybeVal2 maybeVal3 = pure (+) <*> (pure (+) <*> maybeVal1 <*> maybeVal2) <*> maybeVal3\n",
    "\n",
    "print $ addThree var1 var2 var3"
   ]
  },
  {
   "cell_type": "markdown",
   "metadata": {},
   "source": [
    "## Applicative examples"
   ]
  },
  {
   "cell_type": "markdown",
   "metadata": {},
   "source": [
    "Another way how to use the Applicative type class is in IO which has also an instance of Applicative. \n",
    "\n",
    "Let's imagine you ask the user for two numbers and then calculate their product. Here is the code where we make use of the `<*>` and `<$>` operators."
   ]
  },
  {
   "cell_type": "code",
   "execution_count": null,
   "metadata": {},
   "outputs": [],
   "source": [
    "myProduct :: Num a => a -> a -> a\n",
    "myProduct x1 x2 = x1*x2\n",
    "\n",
    "readDouble :: IO Double\n",
    "readDouble = read <$> getLine\n",
    "\n",
    "ioProduct :: IO Double\n",
    "ioProduct = myProduct <$> readDouble <*> readDouble\n",
    "\n",
    "main :: IO ()\n",
    "main = do\n",
    "    print \"Input 2 numbers. Use dot for decimal seperator.\"\n",
    "    result <- ioProduct\n",
    "    print result\n",
    "\n",
    "main"
   ]
  },
  {
   "cell_type": "markdown",
   "metadata": {},
   "source": [
    "You can also use the `<*>` operator on lists to get all possible combinations. \n",
    "\n",
    "This is because if you view a list type as a context instead as a container, you can say that a list represents more possible values for a fixed type. \n",
    "\n",
    "For instance `[Int]` represent more possible values of type `Int`. Here is a code example:"
   ]
  },
  {
   "cell_type": "code",
   "execution_count": null,
   "metadata": {},
   "outputs": [],
   "source": [
    "list1 = [1,2,3] :: [Int]\n",
    "list2 = [4,5] :: [Int]\n",
    "\n",
    "allCombinations :: Num a => [a] -> [a] -> [a]\n",
    "allCombinations l1 l2 = pure (+) <*> l1 <*> l2\n",
    "\n",
    "print $ allCombinations list1 list2"
   ]
  },
  {
   "cell_type": "markdown",
   "metadata": {},
   "source": [
    "Another example for creating all possible combination is by using lists to create an instance of a user defined type with record syntax. Here is the code:"
   ]
  },
  {
   "cell_type": "code",
   "execution_count": null,
   "metadata": {},
   "outputs": [],
   "source": [
    "data Car = Car {\n",
    "    company :: String,\n",
    "    color :: String\n",
    "} deriving Show\n",
    "\n",
    "companies = [\"Toyota\", \"Mercedes\", \"Ford\"]\n",
    "colors = [\"yellow\", \"gree\", \"blue\"]\n",
    "\n",
    "allPossibleCars :: [Car]\n",
    "allPossibleCars = pure Car <*> companies <*> colors\n",
    "\n",
    "print allPossibleCars"
   ]
  },
  {
   "cell_type": "markdown",
   "metadata": {},
   "source": [
    "In our final example let's create an Applicative instance for the Wrapper type we defined in the previous lesson.\n",
    "```haskell\n",
    "data Wrapper a = Empty | Wrapper a deriving Show\n",
    "```"
   ]
  },
  {
   "cell_type": "markdown",
   "metadata": {},
   "source": [
    "We will first need to define the function that will work as the `<*>` operator. The pure function we can define directly."
   ]
  },
  {
   "cell_type": "code",
   "execution_count": null,
   "metadata": {},
   "outputs": [],
   "source": [
    "data Wrapper a = Empty | Wrapper a deriving Show\n",
    "\n",
    "appWrapper :: Wrapper (a -> b) -> Wrapper a -> Wrapper b\n",
    "appWrapper f Empty = Empty\n",
    "appWrapper Empty x = Empty\n",
    "appWrapper (Wrapper f) (Wrapper n) = Wrapper (f n)\n",
    "\n",
    "instance Functor Wrapper where\n",
    "    fmap f val = (pure f) <*> val   \n",
    "\n",
    "instance Applicative Wrapper where\n",
    "    (<*>) = appWrapper\n",
    "    pure val = Wrapper val"
   ]
  },
  {
   "cell_type": "markdown",
   "metadata": {},
   "source": [
    "Now we can define an IO function that askes the user for two numbers, creates Wraper types from them and summs those numbers together."
   ]
  },
  {
   "cell_type": "code",
   "execution_count": null,
   "metadata": {},
   "outputs": [],
   "source": [
    "import Data.Char (isDigit)\n",
    "\n",
    "sumWrapperNums :: IO ()\n",
    "sumWrapperNums = do\n",
    "    putStrLn \"Input first number:\"\n",
    "    n1 <- getLine\n",
    "    putStrLn \"Input second number:\"\n",
    "    n2 <- getLine\n",
    "\n",
    "    let test = all isDigit n1 && all isDigit n2\n",
    "    if test \n",
    "    then do\n",
    "        let w1 = pure (read n1) :: Wrapper Int\n",
    "            w2 = pure (read n2) :: Wrapper Int\n",
    "        putStrLn \"Wrapper sum is:\"\n",
    "        print $ (+) <$> w1 <*> w2\n",
    "    else do\n",
    "        putStrLn \"The input data should be only digits. Try again.\"\n",
    "        sumWrapperNums\n",
    "\n",
    "sumWrapperNums"
   ]
  },
  {
   "cell_type": "markdown",
   "metadata": {},
   "source": [
    "## A more complex example"
   ]
  },
  {
   "cell_type": "markdown",
   "metadata": {},
   "source": [
    "If we check in Haskell what type classes a function in general belongs to, we see it has also an instance of Applicative.\n",
    "```haskell\n",
    ":i (->)\n",
    "type (->) :: * -> * -> *\n",
    "data (->) a b\n",
    "infixr -1 ->\n",
    "instance Applicative ((->) r) \n",
    "instance Functor ((->) r) \n",
    "instance Monad ((->) r) \n",
    "instance Monoid b => Monoid (a -> b) \n",
    "instance Semigroup b => Semigroup (a -> b) \n",
    "```"
   ]
  },
  {
   "cell_type": "markdown",
   "metadata": {},
   "source": [
    "The definition of the Applicative instance for a funtion is as follows:\n",
    "```haskell\n",
    "instance Applicative ((->) r) where\n",
    "    pure = const\n",
    "    (<*>) f g x = f x (g x)\n",
    "```"
   ]
  },
  {
   "cell_type": "markdown",
   "metadata": {},
   "source": [
    "The second definition is valid only if `f` is a function that takes in two parameters and `g` is a function that takes in one parameter. \n",
    "\n",
    "Here is an example how we can use this to construct a fibonacci list with `<*>` where we also use a recursive call to the list itself."
   ]
  },
  {
   "cell_type": "code",
   "execution_count": null,
   "metadata": {},
   "outputs": [],
   "source": [
    "fibs = 0 : 1 : (zipWith (+) <*> tail) fibs\n",
    "\n",
    "print $ take 5 fibs"
   ]
  },
  {
   "cell_type": "markdown",
   "metadata": {},
   "source": [
    "## Applicative laws"
   ]
  },
  {
   "cell_type": "markdown",
   "metadata": {},
   "source": [
    "Same as for Functor the Applicative type class has also its origins in mathematics and is defined with laws."
   ]
  },
  {
   "cell_type": "markdown",
   "metadata": {},
   "source": [
    "Applicative has 4 laws. They are as follows:\n",
    "\n",
    "- Identity:<br>`pure id <*> x = x`\n",
    "\n",
    "- Composition:<br>`pure (.) <*> x1 <*> x2 <*> x3 = x1 <*> (x2 <*> x3)`\n",
    "\n",
    "- Homomorphism:<br>`pure f <*> pure x = pure (f x)`\n",
    "\n",
    "- Interchange:<br>`x1 <*> pure x2 = pure ($ x2) <*> x1`"
   ]
  },
  {
   "cell_type": "markdown",
   "metadata": {},
   "source": [
    "The identity law ensures that `<*>` should only be a mapping function and should not change anything in the applicative except for the value that it’s mapping.\n",
    "\n",
    "The composition law says that independent of which way we chose to apply our functions, we should always get the same result.\n",
    "\n",
    "The homomorphism law says that `<*>` should not be doing anything else then applying the mapping.\n",
    "\n",
    "The interchange law states that we can flip the operands of `<*>` in a predictable way."
   ]
  },
  {
   "cell_type": "markdown",
   "metadata": {},
   "source": [
    "Below is example code that proves these laws hold for the Maybe type which has an instance of Applicative."
   ]
  },
  {
   "cell_type": "code",
   "execution_count": null,
   "metadata": {},
   "outputs": [],
   "source": [
    "-- Identity law\n",
    "(pure id <*> (Just 1)) == Just 1\n",
    "(pure id <*> Nothing) == Nothing\n",
    "\n",
    "-- Composition law\n",
    "add1, mult2 :: Maybe (Integer -> Integer)\n",
    "add1 = (+) <$> (Just 1)\n",
    "mult2 = (*) <$> (Just 2)\n",
    "\n",
    "(pure (.) <*> add1 <*> mult2 <*> (Just 1)) == (add1 <*> (mult2 <*> (Just 1)))\n",
    "(pure (.) <*> Nothing <*> mult2 <*> (Just 1)) == (Nothing <*> (mult2 <*> (Just 1)))\n",
    "\n",
    "-- Homomorphism law\n",
    "add2 :: Num a => a -> a\n",
    "add2 x = x + 2\n",
    "(pure add2 <*> pure 1 :: Maybe Int) == (pure (add2 1) :: Maybe Int)\n",
    "\n",
    "-- Interchange law\n",
    "(add1 <*> pure 1) == (pure ($ 1) <*> add1)"
   ]
  },
  {
   "cell_type": "markdown",
   "metadata": {},
   "source": [
    "Let's look now at an example where we create a type and an Applicative instance for it that violates these laws."
   ]
  },
  {
   "cell_type": "code",
   "execution_count": null,
   "metadata": {},
   "outputs": [],
   "source": [
    "data NotOk a = NotOk a Bool deriving (Eq, Show)\n",
    "\n",
    "appNotOk :: NotOk (a -> b) -> NotOk a -> NotOk b\n",
    "appNotOk (NotOk f myBool1) (NotOk x myBool2) =\n",
    "    NotOk (f x) (not myBool2)\n",
    "\n",
    "pureNotOk :: a -> NotOk a \n",
    "pureNotOk x = NotOk x True\n",
    "\n",
    "instance Functor NotOk where\n",
    "    fmap f x = pure f <*> x\n",
    "\n",
    "instance Applicative NotOk where\n",
    "    pure = pureNotOk\n",
    "    (<*>) = appNotOk\n",
    "\n",
    "var1 :: NotOk Int\n",
    "var1 = NotOk 1 True\n",
    "\n",
    "add1, mult2 :: NotOk (Int -> Int)\n",
    "add1 = (+) <$> (NotOk 1 True)\n",
    "mult2 = (*) <$> (NotOk 2 True)\n",
    "\n",
    "add2 :: Num a => a -> a\n",
    "add2 x = x + 2\n",
    "\n",
    "print $ (pure id <*> var1) == var1\n",
    "print $ (pure (.) <*> add1 <*> mult2 <*> var1) == (add1 <*> (mult2 <*> var1))\n",
    "print $ (pure add2 <*> pure 1 :: NotOk Int) == (pure (add2 1) :: NotOk Int)\n",
    "print $ (add1 <*> pure 1) == (pure ($ 1) <*> add1)"
   ]
  },
  {
   "cell_type": "markdown",
   "metadata": {},
   "source": [
    "Same as for Functor it is not obligatory to follow these laws in Haskell if you create a type and make an instance of Applicative for it.\n",
    "\n",
    "It is still good practice to follow them because:\n",
    "- you can better reason about what your code is doing\n",
    "- you can make use of other functions that work with the Applicative type class"
   ]
  },
  {
   "cell_type": "markdown",
   "metadata": {},
   "source": [
    "## Recap"
   ]
  },
  {
   "cell_type": "markdown",
   "metadata": {},
   "source": [
    "In this lesson we've discussed:\n",
    "\n",
    "- the motivation for introducing Applicative type class \n",
    "\n",
    "- definition of the Applicative type class\n",
    "\n",
    "- how to use the `<*>` operator together with `<$>`\n",
    "\n",
    "- examples that show how to use the Applicative type class\n",
    "\n",
    "- laws that apply to the Applicative type class"
   ]
  }
 ],
 "metadata": {
  "kernelspec": {
   "display_name": "Haskell",
   "language": "haskell",
   "name": "haskell"
  },
  "language_info": {
   "codemirror_mode": "ihaskell",
   "file_extension": ".hs",
   "mimetype": "text/x-haskell",
   "name": "haskell",
   "pygments_lexer": "Haskell",
   "version": "8.10.7"
  }
 },
 "nbformat": 4,
 "nbformat_minor": 4
}
